{
  "cells": [
    {
      "cell_type": "markdown",
      "metadata": {
        "id": "view-in-github",
        "colab_type": "text"
      },
      "source": [
        "<a href=\"https://colab.research.google.com/github/dton24/Notes/blob/main/Logistic_regression.ipynb\" target=\"_parent\"><img src=\"https://colab.research.google.com/assets/colab-badge.svg\" alt=\"Open In Colab\"/></a>"
      ]
    },
    {
      "cell_type": "markdown",
      "metadata": {
        "id": "1tX6vllrEJjQ"
      },
      "source": [
        "# Chapter 10: Logistic Regression\n",
        "\n",
        "> (c) 2019 Galit Shmueli, Peter C. Bruce, Peter Gedeck\n",
        ">\n",
        "> Code included in\n",
        ">\n",
        "> _Data Mining for Business Analytics: Concepts, Techniques, and Applications in Python_ (First Edition)\n",
        "> Galit Shmueli, Peter C. Bruce, Peter Gedeck, and Nitin R. Patel. 2019.\n",
        "# CIS 4321\n",
        "# Dr. Mohammad Salehan\n",
        "## Import required packages"
      ]
    },
    {
      "cell_type": "code",
      "execution_count": null,
      "metadata": {
        "id": "jSlqJhC7EJjS",
        "outputId": "dd0c6a02-1884-4fdc-abe6-51eecc849da5"
      },
      "outputs": [
        {
          "name": "stdout",
          "output_type": "stream",
          "text": [
            "no display found. Using non-interactive Agg backend\n"
          ]
        }
      ],
      "source": [
        "import numpy as np\n",
        "import pandas as pd\n",
        "from sklearn.linear_model import LogisticRegression, LogisticRegressionCV\n",
        "from sklearn.model_selection import train_test_split\n",
        "import statsmodels.api as sm\n",
        "import matplotlib.pylab as plt\n",
        "import seaborn as sns\n",
        "from dmba import classificationSummary, gainsChart, liftChart\n",
        "import statsmodels.api as sm\n",
        "from dmba.metric import AIC_score"
      ]
    },
    {
      "cell_type": "markdown",
      "metadata": {
        "id": "w7MHmdTBEJjT"
      },
      "source": [
        "## Load data\n",
        "Load the `UniversalBank.xlsx` dataset."
      ]
    },
    {
      "cell_type": "code",
      "execution_count": null,
      "metadata": {
        "scrolled": true,
        "id": "6vk2CjYrEJjU",
        "outputId": "dc026107-cfcf-4293-d83d-ebc27d79e1cd"
      },
      "outputs": [
        {
          "data": {
            "text/html": [
              "<div>\n",
              "<style scoped>\n",
              "    .dataframe tbody tr th:only-of-type {\n",
              "        vertical-align: middle;\n",
              "    }\n",
              "\n",
              "    .dataframe tbody tr th {\n",
              "        vertical-align: top;\n",
              "    }\n",
              "\n",
              "    .dataframe thead th {\n",
              "        text-align: right;\n",
              "    }\n",
              "</style>\n",
              "<table border=\"1\" class=\"dataframe\">\n",
              "  <thead>\n",
              "    <tr style=\"text-align: right;\">\n",
              "      <th></th>\n",
              "      <th>ID</th>\n",
              "      <th>Age</th>\n",
              "      <th>Experience</th>\n",
              "      <th>Income</th>\n",
              "      <th>ZIP Code</th>\n",
              "      <th>Family</th>\n",
              "      <th>CCAvg</th>\n",
              "      <th>Education</th>\n",
              "      <th>Mortgage</th>\n",
              "      <th>Personal Loan</th>\n",
              "      <th>Securities Account</th>\n",
              "      <th>CD Account</th>\n",
              "      <th>Online</th>\n",
              "      <th>CreditCard</th>\n",
              "    </tr>\n",
              "  </thead>\n",
              "  <tbody>\n",
              "    <tr>\n",
              "      <th>0</th>\n",
              "      <td>1</td>\n",
              "      <td>25</td>\n",
              "      <td>1</td>\n",
              "      <td>49</td>\n",
              "      <td>91107</td>\n",
              "      <td>4</td>\n",
              "      <td>1.6</td>\n",
              "      <td>1</td>\n",
              "      <td>0</td>\n",
              "      <td>0</td>\n",
              "      <td>1</td>\n",
              "      <td>0</td>\n",
              "      <td>0</td>\n",
              "      <td>0</td>\n",
              "    </tr>\n",
              "  </tbody>\n",
              "</table>\n",
              "</div>"
            ],
            "text/plain": [
              "   ID  Age  Experience  Income  ZIP Code  Family  CCAvg  Education  Mortgage  \\\n",
              "0   1   25           1      49     91107       4    1.6          1         0   \n",
              "\n",
              "   Personal Loan  Securities Account  CD Account  Online  CreditCard  \n",
              "0              0                   1           0       0           0  "
            ]
          },
          "execution_count": 52,
          "metadata": {},
          "output_type": "execute_result"
        }
      ],
      "source": [
        "bank_df = pd.read_excel('UniversalBank.xlsx', 'Data')\n",
        "bank_df.head(1)"
      ]
    },
    {
      "cell_type": "markdown",
      "metadata": {
        "id": "eejjNRQUEJjU"
      },
      "source": [
        "## Preprocessing\n",
        "The columns `ID` and `ZIP Code` are not relevant for model building and therefore removed. Treat Education as categorical"
      ]
    },
    {
      "cell_type": "code",
      "execution_count": null,
      "metadata": {
        "scrolled": true,
        "id": "QisGbMpHEJjV",
        "outputId": "78f8c3c6-c66a-4dca-9300-e2d09df8f39a"
      },
      "outputs": [
        {
          "name": "stderr",
          "output_type": "stream",
          "text": [
            "/tmp/ipykernel_549/2679870747.py:7: FutureWarning: The `inplace` parameter in pandas.Categorical.rename_categories is deprecated and will be removed in a future version. Removing unused categories will always return a new Categorical object.\n",
            "  bank_df.Education.cat.rename_categories(new_categories, inplace=True)\n"
          ]
        },
        {
          "data": {
            "text/html": [
              "<div>\n",
              "<style scoped>\n",
              "    .dataframe tbody tr th:only-of-type {\n",
              "        vertical-align: middle;\n",
              "    }\n",
              "\n",
              "    .dataframe tbody tr th {\n",
              "        vertical-align: top;\n",
              "    }\n",
              "\n",
              "    .dataframe thead th {\n",
              "        text-align: right;\n",
              "    }\n",
              "</style>\n",
              "<table border=\"1\" class=\"dataframe\">\n",
              "  <thead>\n",
              "    <tr style=\"text-align: right;\">\n",
              "      <th></th>\n",
              "      <th>Age</th>\n",
              "      <th>Experience</th>\n",
              "      <th>Income</th>\n",
              "      <th>Family</th>\n",
              "      <th>CCAvg</th>\n",
              "      <th>Mortgage</th>\n",
              "      <th>Securities_Account</th>\n",
              "      <th>CD_Account</th>\n",
              "      <th>Online</th>\n",
              "      <th>CreditCard</th>\n",
              "      <th>Education_Graduate</th>\n",
              "      <th>Education_Advanced/Professional</th>\n",
              "    </tr>\n",
              "  </thead>\n",
              "  <tbody>\n",
              "    <tr>\n",
              "      <th>0</th>\n",
              "      <td>25</td>\n",
              "      <td>1</td>\n",
              "      <td>49</td>\n",
              "      <td>4</td>\n",
              "      <td>1.6</td>\n",
              "      <td>0</td>\n",
              "      <td>1</td>\n",
              "      <td>0</td>\n",
              "      <td>0</td>\n",
              "      <td>0</td>\n",
              "      <td>0</td>\n",
              "      <td>0</td>\n",
              "    </tr>\n",
              "  </tbody>\n",
              "</table>\n",
              "</div>"
            ],
            "text/plain": [
              "   Age  Experience  Income  Family  CCAvg  Mortgage  Securities_Account  \\\n",
              "0   25           1      49       4    1.6         0                   1   \n",
              "\n",
              "   CD_Account  Online  CreditCard  Education_Graduate  \\\n",
              "0           0       0           0                   0   \n",
              "\n",
              "   Education_Advanced/Professional  \n",
              "0                                0  "
            ]
          },
          "execution_count": 56,
          "metadata": {},
          "output_type": "execute_result"
        }
      ],
      "source": [
        "bank_df.drop(columns=['ID', 'ZIP Code'], inplace=True)\n",
        "bank_df.columns = [c.replace(' ', '_') for c in bank_df.columns]\n",
        "\n",
        "# Treat education as categorical, convert to dummy variables\n",
        "bank_df['Education'] = bank_df['Education'].astype('category')\n",
        "new_categories = {1: 'Undergrad', 2: 'Graduate', 3: 'Advanced/Professional'}\n",
        "bank_df.Education.cat.rename_categories(new_categories, inplace=True)\n",
        "bank_df = pd.get_dummies(bank_df, prefix_sep='_', drop_first=True)\n",
        "\n",
        "y = bank_df['Personal_Loan']\n",
        "X = bank_df.drop(columns=['Personal_Loan'])\n",
        "X.head(1)"
      ]
    },
    {
      "cell_type": "markdown",
      "metadata": {
        "id": "ndIsKhuIEJjV"
      },
      "source": [
        "## Train a simple model with one predictor"
      ]
    },
    {
      "cell_type": "code",
      "execution_count": null,
      "metadata": {
        "id": "NkN99Nd3EJjV",
        "outputId": "1a21bd7e-9a4a-425d-aae4-45e96e867cc3"
      },
      "outputs": [
        {
          "name": "stdout",
          "output_type": "stream",
          "text": [
            "intercept  -6.048919279034499\n",
            "               Income\n",
            "coefficient  0.036343\n",
            "\n",
            "AIC 843.5163143186965\n"
          ]
        }
      ],
      "source": [
        "predictors = ['Income']\n",
        "outcome = 'Personal_Loan'\n",
        "\n",
        "y = bank_df[outcome]\n",
        "X = bank_df[predictors]\n",
        "\n",
        "# partition data\n",
        "train_X, valid_X, train_y, valid_y = train_test_split(X, y, test_size=0.4, random_state=1)\n",
        "\n",
        "# fit a logistic regression (set penalty=l2 and C=1e42 to avoid regularization)\n",
        "logit_reg = LogisticRegression(penalty=\"l2\", C=1e42, solver='liblinear')\n",
        "logit_reg.fit(train_X, train_y)\n",
        "\n",
        "print('intercept ', logit_reg.intercept_[0])\n",
        "print(pd.DataFrame({'coefficient': logit_reg.coef_[0]}, index=X.columns).transpose())\n",
        "print()\n",
        "print('AIC', AIC_score(valid_y, logit_reg.predict(valid_X), df = len(train_X.columns) + 1))"
      ]
    },
    {
      "cell_type": "markdown",
      "metadata": {
        "id": "-e4NeVxAEJjV"
      },
      "source": [
        "# Training"
      ]
    },
    {
      "cell_type": "code",
      "execution_count": null,
      "metadata": {
        "id": "aLL1ckoxEJjW",
        "outputId": "1aa9ab31-0d76-4410-9c91-beb8c012d849"
      },
      "outputs": [
        {
          "name": "stdout",
          "output_type": "stream",
          "text": [
            "intercept  -12.490696726201609\n",
            "            Age  Experience    Income    Family     CCAvg  Mortgage  \\\n",
            "coeff -0.037786    0.039304  0.058843  0.612237  0.240499  0.001012   \n",
            "\n",
            "       Securities_Account  CD_Account    Online  CreditCard  \\\n",
            "coeff           -1.014597     3.64925 -0.678277   -0.958145   \n",
            "\n",
            "       Education_Graduate  Education_Advanced/Professional  \n",
            "coeff            4.202159                         4.355763  \n",
            "\n",
            "AIC -709.1524769205962\n"
          ]
        }
      ],
      "source": [
        "# partition data\n",
        "X = bank_df.drop(columns=['Personal_Loan'])\n",
        "y = bank_df['Personal_Loan']\n",
        "train_X, valid_X, train_y, valid_y = train_test_split(X, y, test_size=0.4, random_state=1)\n",
        "\n",
        "# fit a logistic regression (set penalty=l2 and C=1e42 to avoid regularization)\n",
        "logit_reg = LogisticRegression(penalty=\"l2\", C=1e42, solver='liblinear')\n",
        "logit_reg.fit(train_X, train_y)\n",
        "\n",
        "print('intercept ', logit_reg.intercept_[0])\n",
        "print(pd.DataFrame({'coeff': logit_reg.coef_[0]}, index=X.columns).transpose())\n",
        "print()\n",
        "print('AIC', AIC_score(valid_y, logit_reg.predict(valid_X), df = len(train_X.columns) + 1))"
      ]
    },
    {
      "cell_type": "markdown",
      "metadata": {
        "id": "k41HqVozEJjW"
      },
      "source": [
        "## Quick look at probabilities generated by the model"
      ]
    },
    {
      "cell_type": "code",
      "execution_count": null,
      "metadata": {
        "id": "nCK8uIrmEJjW",
        "outputId": "f7cb0fcb-f420-4996-8343-6db182918859"
      },
      "outputs": [
        {
          "name": "stdout",
          "output_type": "stream",
          "text": [
            "      actual      p(0)      p(1)  predicted\n",
            "2764       0  0.976090  0.023910          0\n",
            "932        0  0.330977  0.669023          1\n",
            "2721       1  0.031431  0.968569          1\n",
            "702        1  0.985894  0.014106          0\n"
          ]
        }
      ],
      "source": [
        "logit_reg_pred = logit_reg.predict(valid_X)\n",
        "logit_reg_proba = logit_reg.predict_proba(valid_X)\n",
        "logit_result = pd.DataFrame({'actual': valid_y,\n",
        "                             'p(0)': [p[0] for p in logit_reg_proba],\n",
        "                             'p(1)': [p[1] for p in logit_reg_proba],\n",
        "                             'predicted': logit_reg_pred })\n",
        "\n",
        "# display four different cases\n",
        "interestingCases = [2764, 932, 2721, 702]\n",
        "print(logit_result.loc[interestingCases])"
      ]
    },
    {
      "cell_type": "markdown",
      "metadata": {
        "id": "rbXUm-vUEJjX"
      },
      "source": [
        "## Confusion matrix"
      ]
    },
    {
      "cell_type": "code",
      "execution_count": null,
      "metadata": {
        "id": "pKcVv_9rEJjX",
        "outputId": "a8071dad-63b3-4c83-d16f-abd3deeb0755"
      },
      "outputs": [
        {
          "name": "stdout",
          "output_type": "stream",
          "text": [
            "Confusion Matrix (Accuracy 0.9600)\n",
            "\n",
            "       Prediction\n",
            "Actual    0    1\n",
            "     0 2683   30\n",
            "     1   90  197\n",
            "Confusion Matrix (Accuracy 0.9595)\n",
            "\n",
            "       Prediction\n",
            "Actual    0    1\n",
            "     0 1791   16\n",
            "     1   65  128\n"
          ]
        }
      ],
      "source": [
        "classificationSummary(train_y, logit_reg.predict(train_X))\n",
        "classificationSummary(valid_y, logit_reg.predict(valid_X))"
      ]
    },
    {
      "cell_type": "markdown",
      "metadata": {
        "id": "PaBD8eLCEJjX"
      },
      "source": [
        "## Gains and Decile charts"
      ]
    },
    {
      "cell_type": "code",
      "execution_count": null,
      "metadata": {
        "id": "AXWuVA7REJjX",
        "outputId": "0ee047ad-2783-4ec7-c7f8-3d65ebe51e4c"
      },
      "outputs": [
        {
          "data": {
            "image/png": "[encoded data removed]",
            "text/plain": [
              "<Figure size 720x288 with 2 Axes>"
            ]
          },
          "metadata": {
            "needs_background": "light"
          },
          "output_type": "display_data"
        }
      ],
      "source": [
        "df = logit_result.sort_values(by=['p(1)'], ascending=False)\n",
        "fig, axes = plt.subplots(nrows=1, ncols=2, figsize=(10, 4))\n",
        "\n",
        "gainsChart(df.actual, ax=axes[0])\n",
        "liftChart(df['p(1)'], title=False, ax=axes[1])\n",
        "\n",
        "plt.tight_layout()\n",
        "plt.show()"
      ]
    },
    {
      "cell_type": "markdown",
      "metadata": {
        "id": "mBzccvwUEJjY"
      },
      "source": [
        "## Flight delays example"
      ]
    },
    {
      "cell_type": "code",
      "execution_count": null,
      "metadata": {
        "id": "hWOwcVHhEJjY",
        "outputId": "a86bf702-bffd-4a24-c16f-f1e6f3906ad3"
      },
      "outputs": [
        {
          "data": {
            "image/png": "[encoded data removed]",
            "text/plain": [
              "<Figure size 432x288 with 1 Axes>"
            ]
          },
          "metadata": {
            "needs_background": "light"
          },
          "output_type": "display_data"
        }
      ],
      "source": [
        "delays_df = pd.read_excel('FlightDelays.xlsx', 'data')\n",
        "# Create an indicator variable\n",
        "delays_df['isDelayed'] = [1 if status == 'delayed' else 0 for status in delays_df['Flight Status']]\n",
        "\n",
        "# group information by day of week and determine the average delay\n",
        "averageDelay = delays_df.groupby(['DAY_WEEK'])['isDelayed'].mean()\n",
        "\n",
        "# create a bar chart\n",
        "ax = averageDelay.plot.bar(color='C0')\n",
        "ax.set_xlabel('Day of week')\n",
        "ax.set_ylabel('Average Delay')\n",
        "_ = ax.set_xticklabels(['Mon', 'Tue', 'Wed', 'Thu', 'Fri', 'Sat', 'Sun'])"
      ]
    },
    {
      "cell_type": "code",
      "execution_count": null,
      "metadata": {
        "id": "AthPiPyREJjY",
        "outputId": "91421e84-4e94-4e2c-eec4-3fed8ade4e61"
      },
      "outputs": [
        {
          "data": {
            "image/png": "[encoded data removed]",
            "text/plain": [
              "<Figure size 720x648 with 6 Axes>"
            ]
          },
          "metadata": {
            "needs_background": "light"
          },
          "output_type": "display_data"
        }
      ],
      "source": [
        "def createGraph(group, xlabel, axis):\n",
        "    groupAverage = delays_df.groupby([group])['isDelayed'].mean()\n",
        "    if group == 'DAY_WEEK': # rotate so that display starts on Sunday\n",
        "        groupAverage = groupAverage.reindex(index=np.roll(groupAverage.index,1))\n",
        "        groupAverage.index = ['Sun', 'Mon', 'Tue', 'Wed', 'Thu', 'Fri', 'Sat']\n",
        "    ax = groupAverage.plot.bar(color='C0', ax=axis)\n",
        "    ax.set_ylabel('Average Delay')\n",
        "    ax.set_xlabel(xlabel)\n",
        "    return ax\n",
        "\n",
        "def graphDepartureTime(xlabel, axis):\n",
        "    temp_df = pd.DataFrame({'CRS_DEP_TIME': delays_df['CRS_DEP_TIME'] // 100,\n",
        "                            'isDelayed': delays_df['isDelayed']})\n",
        "    groupAverage = temp_df.groupby(['CRS_DEP_TIME'])['isDelayed'].mean()\n",
        "    ax = groupAverage.plot.bar(color='C0', ax=axis)\n",
        "    ax.set_xlabel(xlabel); ax.set_ylabel('Average Delay')\n",
        "\n",
        "fig, axes = plt.subplots(nrows=3, ncols=2, figsize=(10, 9))\n",
        "\n",
        "createGraph('DAY_WEEK', 'Day of week', axis=axes[0][0])\n",
        "createGraph('DEST', 'Destination', axis=axes[0][1])\n",
        "graphDepartureTime('Departure time', axis=axes[1][0])\n",
        "createGraph('CARRIER', 'Carrier', axis=axes[1][1])\n",
        "createGraph('ORIGIN', 'Origin', axis=axes[2][0])\n",
        "createGraph('Weather', 'Weather', axis=axes[2][1])\n",
        "plt.tight_layout()\n",
        "\n",
        "plt.show()"
      ]
    },
    {
      "cell_type": "markdown",
      "metadata": {
        "id": "AnncTUC1EJjY"
      },
      "source": [
        "## Comparing origin, day of week, and carrier"
      ]
    },
    {
      "cell_type": "code",
      "execution_count": null,
      "metadata": {
        "id": "2_KGpo0EEJjZ",
        "outputId": "e7329cde-e5d1-4878-b1cc-a3d6177f220d"
      },
      "outputs": [
        {
          "data": {
            "image/png": "[encoded data removed]",
            "text/plain": [
              "<Figure size 720x432 with 6 Axes>"
            ]
          },
          "metadata": {
            "needs_background": "light"
          },
          "output_type": "display_data"
        }
      ],
      "source": [
        "agg = delays_df.groupby(['ORIGIN', 'DAY_WEEK', 'CARRIER']).isDelayed.mean()\n",
        "agg = agg.reset_index()\n",
        "\n",
        "# Define the layout of the graph\n",
        "height_ratios = []\n",
        "for i, origin in enumerate(sorted(delays_df.ORIGIN.unique())):\n",
        "    height_ratios.append(len(agg[agg.ORIGIN == origin].CARRIER.unique()))\n",
        "gridspec_kw = {'height_ratios': height_ratios, 'width_ratios': [15, 1]}\n",
        "fig, axes = plt.subplots(nrows=3, ncols=2, figsize=(10, 6),\n",
        "                         gridspec_kw = gridspec_kw)\n",
        "axes[0, 1].axis('off')\n",
        "axes[2, 1].axis('off')\n",
        "\n",
        "maxIsDelay = agg.isDelayed.max()\n",
        "for i, origin in enumerate(sorted(delays_df.ORIGIN.unique())):\n",
        "    data = pd.pivot_table(agg[agg.ORIGIN == origin], values='isDelayed', aggfunc=np.sum,\n",
        "                          index=['CARRIER'], columns=['DAY_WEEK'])\n",
        "    data = data[[7, 1, 2, 3, 4, 5, 6]]  # Shift last columns to first\n",
        "    ax = sns.heatmap(data, ax=axes[i][0], vmin=0, vmax=maxIsDelay,\n",
        "                     cbar_ax=axes[1][1], cmap=sns.light_palette(\"navy\"))\n",
        "    ax.set_xticklabels(['Sun', 'Mon', 'Tue', 'Wed', 'Thu', 'Fri', 'Sat'])\n",
        "    if i != 2:\n",
        "        ax.get_xaxis().set_visible(False)\n",
        "    ax.set_ylabel('Airport ' + origin)\n",
        "\n",
        "\n",
        "plt.show()"
      ]
    },
    {
      "cell_type": "markdown",
      "metadata": {
        "id": "iihSlr_uEJjZ"
      },
      "source": [
        "## Logistic Regression modeling"
      ]
    },
    {
      "cell_type": "code",
      "execution_count": null,
      "metadata": {
        "id": "NIQfiSk9EJjZ",
        "outputId": "6529d23b-41d9-4b10-8fb7-62d44db4d02e"
      },
      "outputs": [
        {
          "ename": "OptionError",
          "evalue": "'Pattern matched multiple keys'",
          "output_type": "error",
          "traceback": [
            "\u001b[0;31m---------------------------------------------------------------------------\u001b[0m",
            "\u001b[0;31mOptionError\u001b[0m                               Traceback (most recent call last)",
            "Input \u001b[0;32mIn [84]\u001b[0m, in \u001b[0;36m<cell line: 23>\u001b[0;34m()\u001b[0m\n\u001b[1;32m     20\u001b[0m logit_full\u001b[38;5;241m.\u001b[39mfit(train_X, train_y)\n\u001b[1;32m     22\u001b[0m pd\u001b[38;5;241m.\u001b[39mset_option(\u001b[38;5;124m'\u001b[39m\u001b[38;5;124mdisplay.width\u001b[39m\u001b[38;5;124m'\u001b[39m, \u001b[38;5;241m95\u001b[39m)\n\u001b[0;32m---> 23\u001b[0m \u001b[43mpd\u001b[49m\u001b[38;5;241;43m.\u001b[39;49m\u001b[43mset_option\u001b[49m\u001b[43m(\u001b[49m\u001b[38;5;124;43m'\u001b[39;49m\u001b[38;5;124;43mprecision\u001b[39;49m\u001b[38;5;124;43m'\u001b[39;49m\u001b[43m,\u001b[49m\u001b[38;5;241;43m3\u001b[39;49m\u001b[43m)\u001b[49m\n\u001b[1;32m     24\u001b[0m pd\u001b[38;5;241m.\u001b[39mset_option(\u001b[38;5;124m'\u001b[39m\u001b[38;5;124mmax_columns\u001b[39m\u001b[38;5;124m'\u001b[39m, \u001b[38;5;241m33\u001b[39m)\n\u001b[1;32m     25\u001b[0m \u001b[38;5;28mprint\u001b[39m(\u001b[38;5;124m'\u001b[39m\u001b[38;5;124mintercept \u001b[39m\u001b[38;5;124m'\u001b[39m, logit_full\u001b[38;5;241m.\u001b[39mintercept_[\u001b[38;5;241m0\u001b[39m])\n",
            "File \u001b[0;32m/opt/conda/envs/anaconda-2022.05-py39/lib/python3.9/site-packages/pandas/_config/config.py:256\u001b[0m, in \u001b[0;36mCallableDynamicDoc.__call__\u001b[0;34m(self, *args, **kwds)\u001b[0m\n\u001b[1;32m    255\u001b[0m \u001b[38;5;28;01mdef\u001b[39;00m \u001b[38;5;21m__call__\u001b[39m(\u001b[38;5;28mself\u001b[39m, \u001b[38;5;241m*\u001b[39margs, \u001b[38;5;241m*\u001b[39m\u001b[38;5;241m*\u001b[39mkwds):\n\u001b[0;32m--> 256\u001b[0m     \u001b[38;5;28;01mreturn\u001b[39;00m \u001b[38;5;28;43mself\u001b[39;49m\u001b[38;5;241;43m.\u001b[39;49m\u001b[38;5;18;43m__func__\u001b[39;49m\u001b[43m(\u001b[49m\u001b[38;5;241;43m*\u001b[39;49m\u001b[43margs\u001b[49m\u001b[43m,\u001b[49m\u001b[43m \u001b[49m\u001b[38;5;241;43m*\u001b[39;49m\u001b[38;5;241;43m*\u001b[39;49m\u001b[43mkwds\u001b[49m\u001b[43m)\u001b[49m\n",
            "File \u001b[0;32m/opt/conda/envs/anaconda-2022.05-py39/lib/python3.9/site-packages/pandas/_config/config.py:149\u001b[0m, in \u001b[0;36m_set_option\u001b[0;34m(*args, **kwargs)\u001b[0m\n\u001b[1;32m    146\u001b[0m     \u001b[38;5;28;01mraise\u001b[39;00m \u001b[38;5;167;01mTypeError\u001b[39;00m(\u001b[38;5;124mf\u001b[39m\u001b[38;5;124m'\u001b[39m\u001b[38;5;124m_set_option() got an unexpected keyword argument \u001b[39m\u001b[38;5;124m\"\u001b[39m\u001b[38;5;132;01m{\u001b[39;00mkwarg\u001b[38;5;132;01m}\u001b[39;00m\u001b[38;5;124m\"\u001b[39m\u001b[38;5;124m'\u001b[39m)\n\u001b[1;32m    148\u001b[0m \u001b[38;5;28;01mfor\u001b[39;00m k, v \u001b[38;5;129;01min\u001b[39;00m \u001b[38;5;28mzip\u001b[39m(args[::\u001b[38;5;241m2\u001b[39m], args[\u001b[38;5;241m1\u001b[39m::\u001b[38;5;241m2\u001b[39m]):\n\u001b[0;32m--> 149\u001b[0m     key \u001b[38;5;241m=\u001b[39m \u001b[43m_get_single_key\u001b[49m\u001b[43m(\u001b[49m\u001b[43mk\u001b[49m\u001b[43m,\u001b[49m\u001b[43m \u001b[49m\u001b[43msilent\u001b[49m\u001b[43m)\u001b[49m\n\u001b[1;32m    151\u001b[0m     o \u001b[38;5;241m=\u001b[39m _get_registered_option(key)\n\u001b[1;32m    152\u001b[0m     \u001b[38;5;28;01mif\u001b[39;00m o \u001b[38;5;129;01mand\u001b[39;00m o\u001b[38;5;241m.\u001b[39mvalidator:\n",
            "File \u001b[0;32m/opt/conda/envs/anaconda-2022.05-py39/lib/python3.9/site-packages/pandas/_config/config.py:116\u001b[0m, in \u001b[0;36m_get_single_key\u001b[0;34m(pat, silent)\u001b[0m\n\u001b[1;32m    114\u001b[0m     \u001b[38;5;28;01mraise\u001b[39;00m OptionError(\u001b[38;5;124mf\u001b[39m\u001b[38;5;124m\"\u001b[39m\u001b[38;5;124mNo such keys(s): \u001b[39m\u001b[38;5;132;01m{\u001b[39;00m\u001b[38;5;28mrepr\u001b[39m(pat)\u001b[38;5;132;01m}\u001b[39;00m\u001b[38;5;124m\"\u001b[39m)\n\u001b[1;32m    115\u001b[0m \u001b[38;5;28;01mif\u001b[39;00m \u001b[38;5;28mlen\u001b[39m(keys) \u001b[38;5;241m>\u001b[39m \u001b[38;5;241m1\u001b[39m:\n\u001b[0;32m--> 116\u001b[0m     \u001b[38;5;28;01mraise\u001b[39;00m OptionError(\u001b[38;5;124m\"\u001b[39m\u001b[38;5;124mPattern matched multiple keys\u001b[39m\u001b[38;5;124m\"\u001b[39m)\n\u001b[1;32m    117\u001b[0m key \u001b[38;5;241m=\u001b[39m keys[\u001b[38;5;241m0\u001b[39m]\n\u001b[1;32m    119\u001b[0m \u001b[38;5;28;01mif\u001b[39;00m \u001b[38;5;129;01mnot\u001b[39;00m silent:\n",
            "\u001b[0;31mOptionError\u001b[0m: 'Pattern matched multiple keys'"
          ]
        }
      ],
      "source": [
        "# convert to categorical\n",
        "delays_df.DAY_WEEK = delays_df.DAY_WEEK.astype('category')\n",
        "\n",
        "# create hourly bins departure time\n",
        "delays_df.CRS_DEP_TIME = [round(t / 100) for t in delays_df.CRS_DEP_TIME]\n",
        "delays_df.CRS_DEP_TIME = delays_df.CRS_DEP_TIME.astype('category')\n",
        "\n",
        "predictors = ['DAY_WEEK', 'CRS_DEP_TIME', 'ORIGIN', 'DEST', 'CARRIER', 'Weather']\n",
        "outcome = 'isDelayed'\n",
        "\n",
        "X = pd.get_dummies(delays_df[predictors], drop_first=True)\n",
        "y = delays_df[outcome]\n",
        "classes = ['ontime', 'delayed']\n",
        "\n",
        "# split into training and validation\n",
        "train_X, valid_X, train_y, valid_y = train_test_split(X, y, test_size=0.4,\n",
        "                                                      random_state=1)\n",
        "\n",
        "logit_full = LogisticRegression(penalty=\"l2\", C=1e42, solver='liblinear')\n",
        "logit_full.fit(train_X, train_y)\n",
        "\n",
        "pd.set_option('display.width', 95)\n",
        "pd.set_option('precision',3)\n",
        "pd.set_option('max_columns', 33)\n",
        "print('intercept ', logit_full.intercept_[0])\n",
        "\n",
        "print(pd.DataFrame({'coeff': logit_full.coef_[0]}, index=X.columns).transpose())\n",
        "print()\n",
        "print('AIC', AIC_score(valid_y, logit_full.predict(valid_X), df=len(train_X.columns) + 1))\n",
        "pd.reset_option('display.width')\n",
        "pd.reset_option('precision')\n",
        "pd.reset_option('max_columns')"
      ]
    },
    {
      "cell_type": "markdown",
      "metadata": {
        "id": "Lx5EH7GTEJjZ"
      },
      "source": [
        "## Confusion Matrix and Gains Chart"
      ]
    },
    {
      "cell_type": "code",
      "execution_count": null,
      "metadata": {
        "id": "8zbwA-0NEJjZ",
        "outputId": "f9ff6d87-bf75-4f59-8bb6-a41b25955654"
      },
      "outputs": [
        {
          "name": "stdout",
          "output_type": "stream",
          "text": [
            "Confusion Matrix (Accuracy 0.8331)\n",
            "\n",
            "        Prediction\n",
            " Actual  ontime delayed\n",
            " ontime     714       0\n",
            "delayed     147      20\n"
          ]
        },
        {
          "data": {
            "image/png": "[encoded data removed]",
            "text/plain": [
              "<Figure size 360x360 with 1 Axes>"
            ]
          },
          "metadata": {
            "needs_background": "light"
          },
          "output_type": "display_data"
        }
      ],
      "source": [
        "logit_reg_pred = logit_full.predict_proba(valid_X)\n",
        "full_result = pd.DataFrame({'actual': valid_y,\n",
        "                            'p(0)': [p[0] for p in logit_reg_pred],\n",
        "                            'p(1)': [p[1] for p in logit_reg_pred],\n",
        "                            'predicted': logit_full.predict(valid_X)})\n",
        "full_result = full_result.sort_values(by=['p(1)'], ascending=False)\n",
        "\n",
        "# confusion matrix\n",
        "classificationSummary(full_result.actual, full_result.predicted, class_names=classes)\n",
        "\n",
        "gainsChart(full_result.actual, figsize=[5, 5])\n",
        "\n",
        "plt.show()"
      ]
    },
    {
      "cell_type": "markdown",
      "metadata": {
        "id": "earlkdCCEJjZ"
      },
      "source": [
        "## Full model"
      ]
    },
    {
      "cell_type": "code",
      "execution_count": null,
      "metadata": {
        "id": "mJKc4V3PEJja",
        "outputId": "902a5479-19d2-48f3-ea30-a85537cc192a"
      },
      "outputs": [
        {
          "name": "stdout",
          "output_type": "stream",
          "text": [
            "regularization [2.7825594]\n",
            "intercept  -2.2875074087982754\n",
            "        Sun_Mon   Weather  CARRIER_CO_MQ_DH_RU   MORNING      NOON   AFTER2P  EVENING\n",
            "coeff  0.577947  4.977942             1.298892 -0.583188 -0.665765 -0.055072  0.56097\n",
            "AIC 934.6153607819037\n",
            "Confusion Matrix (Accuracy 0.8343)\n",
            "\n",
            "        Prediction\n",
            " Actual  ontime delayed\n",
            " ontime     711       3\n",
            "delayed     143      24\n"
          ]
        }
      ],
      "source": [
        "delays_df = pd.read_excel('FlightDelays.xlsx', 'data')\n",
        "delays_df['isDelayed'] = [1 if status == 'delayed' else 0\n",
        "                          for status in delays_df['Flight Status']]\n",
        "delays_df['CRS_DEP_TIME'] = [round(t / 100) for t in delays_df['CRS_DEP_TIME']]\n",
        "delays_red_df = pd.DataFrame({\n",
        "    'Sun_Mon' : [1 if d in (1, 7) else 0 for d in delays_df.DAY_WEEK],\n",
        "    'Weather' : delays_df.Weather,\n",
        "    'CARRIER_CO_MQ_DH_RU' : [1 if d in (\"CO\", \"MQ\", \"DH\", \"RU\") else 0\n",
        "                             for d in delays_df.CARRIER],\n",
        "    'MORNING' : [1 if d in (6, 7, 8, 9) else 0 for d in delays_df.CRS_DEP_TIME],\n",
        "    'NOON' : [1 if d in (10, 11, 12, 13) else 0 for d in delays_df.CRS_DEP_TIME],\n",
        "    'AFTER2P' : [1 if d in (14, 15, 16, 17, 18) else 0 for d in delays_df.CRS_DEP_TIME],\n",
        "    'EVENING' : [1 if d in (19, 20) else 0 for d in delays_df.CRS_DEP_TIME],\n",
        "    'isDelayed' : [1 if status == 'delayed' else 0 for status in delays_df['Flight Status']],\n",
        "})\n",
        "\n",
        "X = delays_red_df.drop(columns=['isDelayed'])\n",
        "y = delays_red_df['isDelayed']\n",
        "classes = ['ontime', 'delayed']\n",
        "\n",
        "# split into training and validation\n",
        "train_X, valid_X, train_y, valid_y = train_test_split(X, y, test_size=0.4,\n",
        "                                                      random_state=1)\n",
        "\n",
        "logit_red = LogisticRegressionCV(penalty=\"l1\", solver='liblinear', cv=5)\n",
        "logit_red.fit(train_X, train_y)\n",
        "\n",
        "pd.set_option('display.width', 100)\n",
        "print('regularization', logit_red.C_)\n",
        "print('intercept ', logit_red.intercept_[0])\n",
        "print(pd.DataFrame({'coeff': logit_red.coef_[0]}, index=X.columns).transpose())\n",
        "pd.reset_option('display.width')\n",
        "print('AIC', AIC_score(valid_y, logit_red.predict(valid_X), df=len(train_X.columns) + 1))\n",
        "\n",
        "\n",
        "# confusion matrix\n",
        "classificationSummary(valid_y, logit_red.predict(valid_X), class_names=classes)"
      ]
    },
    {
      "cell_type": "markdown",
      "metadata": {
        "id": "zL3HjUmgEJja"
      },
      "source": [
        "## Comparison of full model and reduced model"
      ]
    },
    {
      "cell_type": "code",
      "execution_count": null,
      "metadata": {
        "id": "g2l9-NYJEJja",
        "outputId": "800b0509-7d19-4396-de1b-dd77e7b082fa"
      },
      "outputs": [
        {
          "data": {
            "image/png": "[encoded data removed]",
            "text/plain": [
              "<Figure size 360x360 with 1 Axes>"
            ]
          },
          "metadata": {
            "needs_background": "light"
          },
          "output_type": "display_data"
        }
      ],
      "source": [
        "logit_reg_proba = logit_red.predict_proba(valid_X)\n",
        "red_result = pd.DataFrame({'actual': valid_y,\n",
        "                            'p(0)': [p[0] for p in logit_reg_proba],\n",
        "                            'p(1)': [p[1] for p in logit_reg_proba],\n",
        "                            'predicted': logit_red.predict(valid_X),\n",
        "                          })\n",
        "red_result = red_result.sort_values(by=['p(1)'], ascending=False)\n",
        "\n",
        "ax = gainsChart(full_result.actual, label='Full model', color='C1', figsize=[5, 5])\n",
        "ax = gainsChart(red_result.actual, label='Reduced model', color='C0', ax=ax)\n",
        "ax.legend()\n",
        "\n",
        "plt.show()"
      ]
    },
    {
      "cell_type": "code",
      "execution_count": null,
      "metadata": {
        "id": "CybfpaCYEJja"
      },
      "outputs": [],
      "source": []
    }
  ],
  "metadata": {
    "kernelspec": {
      "display_name": "anaconda-2022.05-py39",
      "language": "python",
      "name": "conda-env-anaconda-2022.05-py39-py"
    },
    "language_info": {
      "codemirror_mode": {
        "name": "ipython",
        "version": 3
      },
      "file_extension": ".py",
      "mimetype": "text/x-python",
      "name": "python",
      "nbconvert_exporter": "python",
      "pygments_lexer": "ipython3",
      "version": "3.9.12"
    },
    "colab": {
      "provenance": [],
      "include_colab_link": true
    }
  },
  "nbformat": 4,
  "nbformat_minor": 0
}