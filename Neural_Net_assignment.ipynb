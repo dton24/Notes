{
  "cells": [
    {
      "cell_type": "markdown",
      "metadata": {
        "id": "view-in-github",
        "colab_type": "text"
      },
      "source": [
        "<a href=\"https://colab.research.google.com/github/dton24/Notes/blob/main/Neural_Net_assignment.ipynb\" target=\"_parent\"><img src=\"https://colab.research.google.com/assets/colab-badge.svg\" alt=\"Open In Colab\"/></a>"
      ]
    },
    {
      "cell_type": "markdown",
      "metadata": {
        "id": "rRmIBM6cE0DV"
      },
      "source": [
        "# CIS 4321\n",
        "# Dr. Mohammad Salehan\n",
        "## Artificial Neural Networks\n",
        "East-West Airlines has entered into a partnership with the wireless phone company Telcon to sell the latter's service\n",
        "via direct mail.  These are a sample of data, provided so that the analyst can develop a model to classify East-West\n",
        "customers as to whether they purchase a wireless phone service contract (target variable Phone_sale).\n"
      ]
    },
    {
      "cell_type": "markdown",
      "metadata": {
        "id": "OBVvin3PE0DY"
      },
      "source": [
        "### Data Description\n",
        "* ID#: Unique ID\n",
        "* Topflight: Indicates whether flyer has attained elite \"Topflight\" status, 1 = yes, 0 = no\n",
        "* Balance: Number of miles eligible for award travel\n",
        "* Qual_miles: Number of miles counted as qualifying for Topflight status\n",
        "* cc1_miles?: Has member earned miles with airline freq. flyer credit card in the past 12 months (1=Yes/0=No)?\n",
        "* cc2_miles?: Has member earned miles with Rewards credit card in the past 12 months (1=Yes/0=No)?\n",
        "* cc3_miles?: Has member earned miles with Small Business credit card in the past 12 months (1=Yes/0=No)?\n",
        "* Bonus_miles: Number of miles earned from non-flight bonus transactions in the past 12 months\n",
        "* Bonus_trans: Number of non-flight bonus transactions in the past 12 months\n",
        "* Flight_miles_12mo: Number of flight miles in the past 12 months\n",
        "* Flight_trans_12: Number of flight transactions in the past 12 months\n",
        "* Online_12: Number of online purchases within the past 12 months\n",
        "* Email: E-mail address on file. 1= yes, 0 =no?\n",
        "* Club_member: Member of the airline's club (paid membership), 1=yes, 0=no\n",
        "* Any_cc_miles_12mo: Dummy variable indicating whether member added miles on any credit card type within the past 12 months (1='Y', 0='N')\n",
        "* Phone_sale: Dummy variable indicating whether member purchased Telcom service as a result of the direct mail campaign (1=sale, 0=no sale)"
      ]
    },
    {
      "cell_type": "code",
      "execution_count": null,
      "metadata": {
        "id": "76iLvYg6E0DY"
      },
      "outputs": [],
      "source": [
        "%matplotlib inline\n",
        "\n",
        "from pathlib import Path\n",
        "\n",
        "import pandas as pd\n",
        "from sklearn.preprocessing import StandardScaler\n",
        "from sklearn.neural_network import MLPClassifier\n",
        "from sklearn.model_selection import train_test_split\n",
        "import matplotlib.pylab as plt\n",
        "from dmba import classificationSummary"
      ]
    },
    {
      "cell_type": "code",
      "execution_count": null,
      "metadata": {
        "id": "xaR1HEP_E0DZ",
        "outputId": "2a6041a6-42ef-43c0-f434-c611044da634"
      },
      "outputs": [
        {
          "data": {
            "text/plain": [
              "(4987, 16)"
            ]
          },
          "execution_count": 9,
          "metadata": {},
          "output_type": "execute_result"
        }
      ],
      "source": [
        "df = pd.read_excel('EastWestAirlinesNN.xlsx', 'data')\n",
        "df.shape"
      ]
    },
    {
      "cell_type": "code",
      "execution_count": null,
      "metadata": {
        "id": "YNn36GTYE0Da",
        "outputId": "96b70a5b-79cc-45bc-d3d5-82356d0a05dd"
      },
      "outputs": [
        {
          "data": {
            "text/html": [
              "<div>\n",
              "<style scoped>\n",
              "    .dataframe tbody tr th:only-of-type {\n",
              "        vertical-align: middle;\n",
              "    }\n",
              "\n",
              "    .dataframe tbody tr th {\n",
              "        vertical-align: top;\n",
              "    }\n",
              "\n",
              "    .dataframe thead th {\n",
              "        text-align: right;\n",
              "    }\n",
              "</style>\n",
              "<table border=\"1\" class=\"dataframe\">\n",
              "  <thead>\n",
              "    <tr style=\"text-align: right;\">\n",
              "      <th></th>\n",
              "      <th>ID#</th>\n",
              "      <th>Topflight</th>\n",
              "      <th>Balance</th>\n",
              "      <th>Qual_miles</th>\n",
              "      <th>cc1_miles?</th>\n",
              "      <th>cc2_miles?</th>\n",
              "      <th>cc3_miles?</th>\n",
              "      <th>Bonus_miles</th>\n",
              "      <th>Bonus_trans</th>\n",
              "      <th>Flight_miles_12mo</th>\n",
              "      <th>Flight_trans_12</th>\n",
              "      <th>Online_12</th>\n",
              "      <th>Email</th>\n",
              "      <th>Club_member</th>\n",
              "      <th>Any_cc_miles_12mo</th>\n",
              "      <th>Phone_sale</th>\n",
              "    </tr>\n",
              "  </thead>\n",
              "  <tbody>\n",
              "    <tr>\n",
              "      <th>0</th>\n",
              "      <td>1.0</td>\n",
              "      <td>0.0</td>\n",
              "      <td>28143.0</td>\n",
              "      <td>0.0</td>\n",
              "      <td>0.0</td>\n",
              "      <td>1.0</td>\n",
              "      <td>0.0</td>\n",
              "      <td>174.0</td>\n",
              "      <td>1.0</td>\n",
              "      <td>0.0</td>\n",
              "      <td>0.0</td>\n",
              "      <td>0.0</td>\n",
              "      <td>1.0</td>\n",
              "      <td>0.0</td>\n",
              "      <td>1.0</td>\n",
              "      <td>0.0</td>\n",
              "    </tr>\n",
              "  </tbody>\n",
              "</table>\n",
              "</div>"
            ],
            "text/plain": [
              "   ID#  Topflight  Balance  Qual_miles  cc1_miles?  cc2_miles?  cc3_miles?  \\\n",
              "0  1.0        0.0  28143.0         0.0         0.0         1.0         0.0   \n",
              "\n",
              "   Bonus_miles  Bonus_trans  Flight_miles_12mo  Flight_trans_12  Online_12  \\\n",
              "0        174.0          1.0                0.0              0.0        0.0   \n",
              "\n",
              "   Email  Club_member  Any_cc_miles_12mo  Phone_sale  \n",
              "0    1.0          0.0                1.0         0.0  "
            ]
          },
          "execution_count": 10,
          "metadata": {},
          "output_type": "execute_result"
        }
      ],
      "source": [
        "df.head(1)"
      ]
    },
    {
      "cell_type": "markdown",
      "metadata": {
        "id": "VRXT0Zf9E0Db"
      },
      "source": [
        "Here is of the two classes in the target column."
      ]
    },
    {
      "cell_type": "code",
      "execution_count": null,
      "metadata": {
        "id": "hd6v1cBcE0Db",
        "outputId": "de00b1ff-f57c-4c65-a1d1-5a8e92a0d366"
      },
      "outputs": [
        {
          "data": {
            "text/plain": [
              "0.0    0.868606\n",
              "1.0    0.131394\n",
              "Name: Phone_sale, dtype: float64"
            ]
          },
          "execution_count": 12,
          "metadata": {},
          "output_type": "execute_result"
        }
      ],
      "source": [
        "df['Phone_sale'].value_counts(normalize=True)"
      ]
    },
    {
      "cell_type": "markdown",
      "metadata": {
        "id": "wbqGWHALE0Db"
      },
      "source": [
        "1. What is the naive rule in this example?"
      ]
    },
    {
      "cell_type": "raw",
      "metadata": {
        "id": "GzYlM1YgE0Db"
      },
      "source": [
        "All of the flyers did not purchase a Telcom service as a result of the direct mail campaign."
      ]
    },
    {
      "cell_type": "markdown",
      "metadata": {
        "id": "goZSLjl3E0Db"
      },
      "source": [
        "## Preprocessing"
      ]
    },
    {
      "cell_type": "code",
      "execution_count": null,
      "metadata": {
        "id": "udpo6xnyE0Db",
        "outputId": "a72d7519-281d-4f0a-d4df-05a1805360ee"
      },
      "outputs": [
        {
          "data": {
            "text/html": [
              "<div>\n",
              "<style scoped>\n",
              "    .dataframe tbody tr th:only-of-type {\n",
              "        vertical-align: middle;\n",
              "    }\n",
              "\n",
              "    .dataframe tbody tr th {\n",
              "        vertical-align: top;\n",
              "    }\n",
              "\n",
              "    .dataframe thead th {\n",
              "        text-align: right;\n",
              "    }\n",
              "</style>\n",
              "<table border=\"1\" class=\"dataframe\">\n",
              "  <thead>\n",
              "    <tr style=\"text-align: right;\">\n",
              "      <th></th>\n",
              "      <th>Topflight</th>\n",
              "      <th>Balance</th>\n",
              "      <th>Qual_miles</th>\n",
              "      <th>cc1_miles?</th>\n",
              "      <th>cc2_miles?</th>\n",
              "      <th>cc3_miles?</th>\n",
              "      <th>Bonus_miles</th>\n",
              "      <th>Bonus_trans</th>\n",
              "      <th>Flight_miles_12mo</th>\n",
              "      <th>Flight_trans_12</th>\n",
              "      <th>Online_12</th>\n",
              "      <th>Email</th>\n",
              "      <th>Club_member</th>\n",
              "      <th>Any_cc_miles_12mo</th>\n",
              "      <th>Phone_sale</th>\n",
              "    </tr>\n",
              "  </thead>\n",
              "  <tbody>\n",
              "    <tr>\n",
              "      <th>0</th>\n",
              "      <td>0.0</td>\n",
              "      <td>28143.0</td>\n",
              "      <td>0.0</td>\n",
              "      <td>0.0</td>\n",
              "      <td>1.0</td>\n",
              "      <td>0.0</td>\n",
              "      <td>174.0</td>\n",
              "      <td>1.0</td>\n",
              "      <td>0.0</td>\n",
              "      <td>0.0</td>\n",
              "      <td>0.0</td>\n",
              "      <td>1.0</td>\n",
              "      <td>0.0</td>\n",
              "      <td>1.0</td>\n",
              "      <td>0.0</td>\n",
              "    </tr>\n",
              "  </tbody>\n",
              "</table>\n",
              "</div>"
            ],
            "text/plain": [
              "   Topflight  Balance  Qual_miles  cc1_miles?  cc2_miles?  cc3_miles?  \\\n",
              "0        0.0  28143.0         0.0         0.0         1.0         0.0   \n",
              "\n",
              "   Bonus_miles  Bonus_trans  Flight_miles_12mo  Flight_trans_12  Online_12  \\\n",
              "0        174.0          1.0                0.0              0.0        0.0   \n",
              "\n",
              "   Email  Club_member  Any_cc_miles_12mo  Phone_sale  \n",
              "0    1.0          0.0                1.0         0.0  "
            ]
          },
          "execution_count": 17,
          "metadata": {},
          "output_type": "execute_result"
        }
      ],
      "source": [
        "df = df.drop(columns=['ID#'])\n",
        "df.dropna(inplace=True)\n",
        "df.head(1)"
      ]
    },
    {
      "cell_type": "markdown",
      "metadata": {
        "id": "7qDfKhNaE0Dc"
      },
      "source": [
        "## Partitioning"
      ]
    },
    {
      "cell_type": "code",
      "execution_count": null,
      "metadata": {
        "id": "4-DvXH7YE0Dc"
      },
      "outputs": [],
      "source": [
        "X = df.drop(columns=['Phone_sale'])\n",
        "y = df['Phone_sale']\n",
        "train_X, valid_X, train_y, valid_y = train_test_split(X, y, test_size=0.4, random_state=26)"
      ]
    },
    {
      "cell_type": "markdown",
      "metadata": {
        "id": "SWDe96aWE0Dc"
      },
      "source": [
        "## Normalization\n",
        "2. Normalize the dataset using Z-score."
      ]
    },
    {
      "cell_type": "code",
      "execution_count": null,
      "metadata": {
        "id": "F4RcmhrRE0Dc",
        "outputId": "65fe71f1-7efb-46dd-96ac-2f48813b8320"
      },
      "outputs": [
        {
          "data": {
            "text/plain": [
              "array([[-0.45660141, -0.33084676, -0.18754907, ...,  0.74090375,\n",
              "        -0.31372099,  0.9249103 ],\n",
              "       [-0.45660141, -0.27308743, -0.18754907, ..., -1.34970297,\n",
              "        -0.31372099,  0.9249103 ],\n",
              "       [-0.45660141, -0.44355756, -0.18754907, ..., -1.34970297,\n",
              "        -0.31372099,  0.9249103 ],\n",
              "       ...,\n",
              "       [-0.45660141, -0.51084787, -0.18754907, ..., -1.34970297,\n",
              "        -0.31372099, -1.08118593],\n",
              "       [-0.45660141, -0.40578955, -0.18754907, ..., -1.34970297,\n",
              "        -0.31372099,  0.9249103 ],\n",
              "       [-0.45660141, -0.48050494, -0.18754907, ...,  0.74090375,\n",
              "        -0.31372099,  0.9249103 ]])"
            ]
          },
          "execution_count": 50,
          "metadata": {},
          "output_type": "execute_result"
        }
      ],
      "source": [
        "# Intialize the scaler\n",
        "scaler = StandardScaler()\n",
        "\n",
        "# Fit and transform training data\n",
        "x_train_scaled = scaler.fit_transform(train_X)\n",
        "\n",
        "x_train_scaled"
      ]
    },
    {
      "cell_type": "code",
      "execution_count": null,
      "metadata": {
        "id": "QT3ATr6YE0Dc",
        "outputId": "64a1510d-cb65-4bbc-d6ac-88cc0dd4222b"
      },
      "outputs": [
        {
          "data": {
            "text/plain": [
              "array([[-0.4380307 , -0.59108237, -0.17839992, ..., -1.37319807,\n",
              "        -0.32358792, -1.06531856],\n",
              "       [-0.4380307 ,  0.16989776, -0.17839992, ...,  0.72822707,\n",
              "        -0.32358792,  0.93868636],\n",
              "       [-0.4380307 , -0.67588168, -0.17839992, ...,  0.72822707,\n",
              "        -0.32358792, -1.06531856],\n",
              "       ...,\n",
              "       [-0.4380307 ,  0.30797335, -0.17839992, ...,  0.72822707,\n",
              "        -0.32358792, -1.06531856],\n",
              "       [-0.4380307 ,  0.50752442, -0.17839992, ...,  0.72822707,\n",
              "        -0.32358792,  0.93868636],\n",
              "       [-0.4380307 , -0.24863265, -0.17839992, ...,  0.72822707,\n",
              "        -0.32358792,  0.93868636]])"
            ]
          },
          "execution_count": 71,
          "metadata": {},
          "output_type": "execute_result"
        }
      ],
      "source": [
        "# Fit and transform test data\n",
        "x_valid_scaled = scaler.fit_transform(valid_X)\n",
        "x_valid_scaled"
      ]
    },
    {
      "cell_type": "markdown",
      "metadata": {
        "id": "CXsT4m7BE0Dd"
      },
      "source": [
        "## Training\n",
        "3. Train a Neural Networl with a single hidden layer composed of 3 nodes and relu activation function and display training and validation performance."
      ]
    },
    {
      "cell_type": "code",
      "execution_count": null,
      "metadata": {
        "id": "itZ51GRSE0Dd",
        "outputId": "e8a98b53-50f0-4c9f-8f93-c1940d6cd129"
      },
      "outputs": [
        {
          "name": "stdout",
          "output_type": "stream",
          "text": [
            "Training Performance:\n",
            "Confusion Matrix (Accuracy 0.8442)\n",
            "\n",
            "       Prediction\n",
            "Actual    0    1\n",
            "     0 2501  111\n",
            "     1  355   24\n",
            "\n",
            "Validation Performance:\n",
            "Confusion Matrix (Accuracy 0.8345)\n",
            "\n",
            "       Prediction\n",
            "Actual    0    1\n",
            "     0 1646   72\n",
            "     1  258   18\n"
          ]
        }
      ],
      "source": [
        "# Initialize the MLPClassifier with one hidden layer of 3 nodes (hidden_layer_sizes=(3,)), and ReLU activation function (activation = 'relu')\n",
        "mlp = MLPClassifier(hidden_layer_sizes=(3,), activation='relu', random_state=26)\n",
        "\n",
        "# Train the neural network on the scaled training data\n",
        "mlp.fit(x_train_scaled, train_y)\n",
        "\n",
        "# Predictions for the training set\n",
        "train_predictions = mlp.predict(x_train_scaled)\n",
        "\n",
        "# Predictions for the validation set\n",
        "valid_predictions = mlp.predict(x_valid_scaled)  # Make sure you have already scaled the validation features\n",
        "\n",
        "# Display training performance\n",
        "print(\"Training Performance:\")\n",
        "classificationSummary(train_y, train_predictions)\n",
        "\n",
        "# Display validation performance\n",
        "print(\"\\nValidation Performance:\")\n",
        "classificationSummary(valid_y, valid_predictions)"
      ]
    },
    {
      "cell_type": "markdown",
      "metadata": {
        "id": "hLCmiTBkE0Dd"
      },
      "source": [
        "4. Based on the above results, is overfitting or underfitting a concern? Why?"
      ]
    },
    {
      "cell_type": "raw",
      "metadata": {
        "id": "uZNYw1sXE0Dd"
      },
      "source": [
        "Based on the results, overfitting and underfitting is not a concern because the accuracy score of both are relatively similar. They are only about 1% different"
      ]
    },
    {
      "cell_type": "markdown",
      "metadata": {
        "id": "EF-GFiRCE0Dd"
      },
      "source": [
        "5. Compare the performance of the validation set with the naive model. Is this a useful model? Why? If not, how would you improve it?"
      ]
    },
    {
      "cell_type": "raw",
      "metadata": {
        "id": "P9dKP8g-E0Dd"
      },
      "source": [
        "The accuracy of the validation set of the neural network (83.45%) performed 3% worse than the naive model (86.86%). In order to imporve my neural network, I would add an additional hidden layer and potentially more nodes within that layer. This would make the model more complex and go through more processing before an output is given."
      ]
    }
  ],
  "metadata": {
    "kernelspec": {
      "display_name": "anaconda-2022.05-py39",
      "language": "python",
      "name": "conda-env-anaconda-2022.05-py39-py"
    },
    "language_info": {
      "codemirror_mode": {
        "name": "ipython",
        "version": 3
      },
      "file_extension": ".py",
      "mimetype": "text/x-python",
      "name": "python",
      "nbconvert_exporter": "python",
      "pygments_lexer": "ipython3",
      "version": "3.9.12"
    },
    "colab": {
      "provenance": [],
      "include_colab_link": true
    }
  },
  "nbformat": 4,
  "nbformat_minor": 0
}