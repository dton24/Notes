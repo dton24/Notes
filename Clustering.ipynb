{
  "cells": [
    {
      "cell_type": "markdown",
      "metadata": {
        "id": "view-in-github",
        "colab_type": "text"
      },
      "source": [
        "<a href=\"https://colab.research.google.com/github/dton24/Notes/blob/main/Clustering.ipynb\" target=\"_parent\"><img src=\"https://colab.research.google.com/assets/colab-badge.svg\" alt=\"Open In Colab\"/></a>"
      ]
    },
    {
      "cell_type": "markdown",
      "metadata": {
        "id": "33wm7VGMDjN6"
      },
      "source": [
        "# CIS 4321\n",
        "# Dr. Mohammad Salehan\n",
        "## Clustering Assignment\n",
        "In this assignment you will conduct clustering on a dataset. The data includes information about 21 pharmaceutical companies."
      ]
    },
    {
      "cell_type": "markdown",
      "metadata": {
        "id": "QigooF4tDjN8"
      },
      "source": [
        "Enter your name below."
      ]
    },
    {
      "cell_type": "raw",
      "metadata": {
        "id": "yCwfDCwLDjN8"
      },
      "source": [
        "Dylan Ton"
      ]
    },
    {
      "cell_type": "markdown",
      "metadata": {
        "id": "scRG0Iu5DjN8"
      },
      "source": [
        "## Load required packages"
      ]
    },
    {
      "cell_type": "code",
      "execution_count": null,
      "metadata": {
        "id": "XaQb_X-tDjN8"
      },
      "outputs": [],
      "source": [
        "%matplotlib inline\n",
        "\n",
        "from pathlib import Path\n",
        "\n",
        "import pandas as pd\n",
        "from sklearn import preprocessing\n",
        "from sklearn.metrics import pairwise\n",
        "from scipy.cluster.hierarchy import dendrogram, linkage, fcluster\n",
        "from sklearn.cluster import KMeans\n",
        "import matplotlib.pylab as plt\n",
        "import seaborn as sns\n",
        "from pandas.plotting import parallel_coordinates"
      ]
    },
    {
      "cell_type": "markdown",
      "metadata": {
        "id": "6LHvx6G8DjN9"
      },
      "source": [
        "## Load Data"
      ]
    },
    {
      "cell_type": "code",
      "execution_count": null,
      "metadata": {
        "id": "zyAG0gzLDjN9",
        "outputId": "d3b52cfa-6fbc-40f9-b86b-4ffe32b1c1d8"
      },
      "outputs": [
        {
          "data": {
            "text/plain": [
              "(21, 14)"
            ]
          },
          "execution_count": 3,
          "metadata": {},
          "output_type": "execute_result"
        }
      ],
      "source": [
        "import pandas as pd\n",
        "df = pd.read_excel('Pharmaceuticals.xlsx', 'data')\n",
        "df.shape"
      ]
    },
    {
      "cell_type": "markdown",
      "metadata": {
        "id": "Hya4C4H0DjN9"
      },
      "source": [
        "## 1. Set the index\n",
        "Set Symbol as row index for the dataframe."
      ]
    },
    {
      "cell_type": "code",
      "execution_count": null,
      "metadata": {
        "id": "mcVTuL-4DjN9",
        "outputId": "d08c07bd-d997-4fc3-e186-8fcd7ff94061"
      },
      "outputs": [
        {
          "data": {
            "text/html": [
              "<div>\n",
              "<style scoped>\n",
              "    .dataframe tbody tr th:only-of-type {\n",
              "        vertical-align: middle;\n",
              "    }\n",
              "\n",
              "    .dataframe tbody tr th {\n",
              "        vertical-align: top;\n",
              "    }\n",
              "\n",
              "    .dataframe thead th {\n",
              "        text-align: right;\n",
              "    }\n",
              "</style>\n",
              "<table border=\"1\" class=\"dataframe\">\n",
              "  <thead>\n",
              "    <tr style=\"text-align: right;\">\n",
              "      <th></th>\n",
              "      <th>Symbol</th>\n",
              "      <th>Name</th>\n",
              "      <th>Market_Cap</th>\n",
              "      <th>Beta</th>\n",
              "      <th>PE_Ratio</th>\n",
              "      <th>ROE</th>\n",
              "      <th>ROA</th>\n",
              "      <th>Asset_Turnover</th>\n",
              "      <th>Leverage</th>\n",
              "      <th>Rev_Growth</th>\n",
              "      <th>Net_Profit_Margin</th>\n",
              "      <th>Median_Recommendation</th>\n",
              "      <th>Location</th>\n",
              "      <th>Exchange</th>\n",
              "    </tr>\n",
              "  </thead>\n",
              "  <tbody>\n",
              "    <tr>\n",
              "      <th>0</th>\n",
              "      <td>ABT</td>\n",
              "      <td>Abbott Laboratories</td>\n",
              "      <td>68.44</td>\n",
              "      <td>0.32</td>\n",
              "      <td>24.7</td>\n",
              "      <td>26.4</td>\n",
              "      <td>11.8</td>\n",
              "      <td>0.7</td>\n",
              "      <td>0.42</td>\n",
              "      <td>7.54</td>\n",
              "      <td>16.1</td>\n",
              "      <td>Moderate Buy</td>\n",
              "      <td>US</td>\n",
              "      <td>NYSE</td>\n",
              "    </tr>\n",
              "    <tr>\n",
              "      <th>1</th>\n",
              "      <td>AGN</td>\n",
              "      <td>Allergan, Inc.</td>\n",
              "      <td>7.58</td>\n",
              "      <td>0.41</td>\n",
              "      <td>82.5</td>\n",
              "      <td>12.9</td>\n",
              "      <td>5.5</td>\n",
              "      <td>0.9</td>\n",
              "      <td>0.60</td>\n",
              "      <td>9.16</td>\n",
              "      <td>5.5</td>\n",
              "      <td>Moderate Buy</td>\n",
              "      <td>CANADA</td>\n",
              "      <td>NYSE</td>\n",
              "    </tr>\n",
              "    <tr>\n",
              "      <th>2</th>\n",
              "      <td>AHM</td>\n",
              "      <td>Amersham plc</td>\n",
              "      <td>6.30</td>\n",
              "      <td>0.46</td>\n",
              "      <td>20.7</td>\n",
              "      <td>14.9</td>\n",
              "      <td>7.8</td>\n",
              "      <td>0.9</td>\n",
              "      <td>0.27</td>\n",
              "      <td>7.05</td>\n",
              "      <td>11.2</td>\n",
              "      <td>Strong Buy</td>\n",
              "      <td>UK</td>\n",
              "      <td>NYSE</td>\n",
              "    </tr>\n",
              "    <tr>\n",
              "      <th>3</th>\n",
              "      <td>AZN</td>\n",
              "      <td>AstraZeneca PLC</td>\n",
              "      <td>67.63</td>\n",
              "      <td>0.52</td>\n",
              "      <td>21.5</td>\n",
              "      <td>27.4</td>\n",
              "      <td>15.4</td>\n",
              "      <td>0.9</td>\n",
              "      <td>0.00</td>\n",
              "      <td>15.00</td>\n",
              "      <td>18.0</td>\n",
              "      <td>Moderate Sell</td>\n",
              "      <td>UK</td>\n",
              "      <td>NYSE</td>\n",
              "    </tr>\n",
              "    <tr>\n",
              "      <th>4</th>\n",
              "      <td>AVE</td>\n",
              "      <td>Aventis</td>\n",
              "      <td>47.16</td>\n",
              "      <td>0.32</td>\n",
              "      <td>20.1</td>\n",
              "      <td>21.8</td>\n",
              "      <td>7.5</td>\n",
              "      <td>0.6</td>\n",
              "      <td>0.34</td>\n",
              "      <td>26.81</td>\n",
              "      <td>12.9</td>\n",
              "      <td>Moderate Buy</td>\n",
              "      <td>FRANCE</td>\n",
              "      <td>NYSE</td>\n",
              "    </tr>\n",
              "  </tbody>\n",
              "</table>\n",
              "</div>"
            ],
            "text/plain": [
              "  Symbol                 Name  Market_Cap  Beta  PE_Ratio   ROE   ROA  \\\n",
              "0    ABT  Abbott Laboratories       68.44  0.32      24.7  26.4  11.8   \n",
              "1    AGN       Allergan, Inc.        7.58  0.41      82.5  12.9   5.5   \n",
              "2    AHM         Amersham plc        6.30  0.46      20.7  14.9   7.8   \n",
              "3    AZN      AstraZeneca PLC       67.63  0.52      21.5  27.4  15.4   \n",
              "4    AVE              Aventis       47.16  0.32      20.1  21.8   7.5   \n",
              "\n",
              "   Asset_Turnover  Leverage  Rev_Growth  Net_Profit_Margin  \\\n",
              "0             0.7      0.42        7.54               16.1   \n",
              "1             0.9      0.60        9.16                5.5   \n",
              "2             0.9      0.27        7.05               11.2   \n",
              "3             0.9      0.00       15.00               18.0   \n",
              "4             0.6      0.34       26.81               12.9   \n",
              "\n",
              "  Median_Recommendation Location Exchange  \n",
              "0          Moderate Buy       US     NYSE  \n",
              "1          Moderate Buy   CANADA     NYSE  \n",
              "2            Strong Buy       UK     NYSE  \n",
              "3         Moderate Sell       UK     NYSE  \n",
              "4          Moderate Buy   FRANCE     NYSE  "
            ]
          },
          "execution_count": 5,
          "metadata": {},
          "output_type": "execute_result"
        }
      ],
      "source": [
        "# Explore dataset attributes\n",
        "df.head(5)"
      ]
    },
    {
      "cell_type": "code",
      "execution_count": null,
      "metadata": {
        "id": "_-oAiaXqDjN-"
      },
      "outputs": [],
      "source": [
        "# Set attribute \"Symbol\" as row index. This will be the unique identifier for each row.\n",
        "df.set_index('Symbol', inplace = True)"
      ]
    },
    {
      "cell_type": "markdown",
      "metadata": {
        "id": "HNwrwzk-DjN-"
      },
      "source": [
        "## 2. Missing values\n",
        "Examine the missing values and drop them if there is any."
      ]
    },
    {
      "cell_type": "code",
      "execution_count": null,
      "metadata": {
        "id": "ILT0kcuJDjN-",
        "outputId": "07606543-4b69-4fe2-b7b4-e1ebeb75647e"
      },
      "outputs": [
        {
          "data": {
            "text/plain": [
              "Name                     0\n",
              "Market_Cap               0\n",
              "Beta                     0\n",
              "PE_Ratio                 0\n",
              "ROE                      0\n",
              "ROA                      0\n",
              "Asset_Turnover           0\n",
              "Leverage                 0\n",
              "Rev_Growth               0\n",
              "Net_Profit_Margin        0\n",
              "Median_Recommendation    0\n",
              "Location                 0\n",
              "Exchange                 0\n",
              "dtype: int64"
            ]
          },
          "execution_count": 318,
          "metadata": {},
          "output_type": "execute_result"
        }
      ],
      "source": [
        "# Look for missing values by finding the sum of missing values in each column\n",
        "df.isna().sum()"
      ]
    },
    {
      "cell_type": "markdown",
      "metadata": {
        "id": "GLMqrMc5DjN-"
      },
      "source": [
        "As we can see, there are no missing values in the dataframe"
      ]
    },
    {
      "cell_type": "markdown",
      "metadata": {
        "id": "ROE9JGx1DjN-"
      },
      "source": [
        "## 3. Create the numeric dataframe\n",
        "Create a new dataframe named numeric_df which only contains numeric values. We won't use the categorical values in this  assignment."
      ]
    },
    {
      "cell_type": "code",
      "execution_count": null,
      "metadata": {
        "id": "siX-s6kiDjN_"
      },
      "outputs": [],
      "source": [
        "# Create a new variable called numeric columns. This shows me all of the columns that are numeric.\n",
        "numeric_columns = df.select_dtypes(include = ['number']).columns"
      ]
    },
    {
      "cell_type": "code",
      "execution_count": null,
      "metadata": {
        "id": "H0V-RIpsDjN_",
        "outputId": "b750be23-ff9f-42d7-e98c-76afc6b6b7aa"
      },
      "outputs": [
        {
          "data": {
            "text/plain": [
              "Index(['Market_Cap', 'Beta', 'PE_Ratio', 'ROE', 'ROA', 'Asset_Turnover',\n",
              "       'Leverage', 'Rev_Growth', 'Net_Profit_Margin'],\n",
              "      dtype='object')"
            ]
          },
          "execution_count": 324,
          "metadata": {},
          "output_type": "execute_result"
        }
      ],
      "source": [
        "# Went back to make sure all of these columns were NOT categorical variables.\n",
        "# Concluded that these are the attributes I will be using in my new dataframe, \"numeric_df\"\n",
        "numeric_columns"
      ]
    },
    {
      "cell_type": "code",
      "execution_count": null,
      "metadata": {
        "id": "PUA28x0jDjN_"
      },
      "outputs": [],
      "source": [
        "numeric_df = df[['Market_Cap', 'Beta', 'PE_Ratio', 'ROE', 'ROA', 'Asset_Turnover',\n",
        "       'Leverage', 'Rev_Growth', 'Net_Profit_Margin']]"
      ]
    },
    {
      "cell_type": "code",
      "execution_count": null,
      "metadata": {
        "id": "crsRUOm3DjN_",
        "outputId": "d3727461-a267-4e81-f68e-e82f8514696b"
      },
      "outputs": [
        {
          "data": {
            "text/html": [
              "<div>\n",
              "<style scoped>\n",
              "    .dataframe tbody tr th:only-of-type {\n",
              "        vertical-align: middle;\n",
              "    }\n",
              "\n",
              "    .dataframe tbody tr th {\n",
              "        vertical-align: top;\n",
              "    }\n",
              "\n",
              "    .dataframe thead th {\n",
              "        text-align: right;\n",
              "    }\n",
              "</style>\n",
              "<table border=\"1\" class=\"dataframe\">\n",
              "  <thead>\n",
              "    <tr style=\"text-align: right;\">\n",
              "      <th></th>\n",
              "      <th>Market_Cap</th>\n",
              "      <th>Beta</th>\n",
              "      <th>PE_Ratio</th>\n",
              "      <th>ROE</th>\n",
              "      <th>ROA</th>\n",
              "      <th>Asset_Turnover</th>\n",
              "      <th>Leverage</th>\n",
              "      <th>Rev_Growth</th>\n",
              "      <th>Net_Profit_Margin</th>\n",
              "    </tr>\n",
              "    <tr>\n",
              "      <th>Symbol</th>\n",
              "      <th></th>\n",
              "      <th></th>\n",
              "      <th></th>\n",
              "      <th></th>\n",
              "      <th></th>\n",
              "      <th></th>\n",
              "      <th></th>\n",
              "      <th></th>\n",
              "      <th></th>\n",
              "    </tr>\n",
              "  </thead>\n",
              "  <tbody>\n",
              "    <tr>\n",
              "      <th>ABT</th>\n",
              "      <td>68.44</td>\n",
              "      <td>0.32</td>\n",
              "      <td>24.7</td>\n",
              "      <td>26.4</td>\n",
              "      <td>11.8</td>\n",
              "      <td>0.7</td>\n",
              "      <td>0.42</td>\n",
              "      <td>7.54</td>\n",
              "      <td>16.1</td>\n",
              "    </tr>\n",
              "    <tr>\n",
              "      <th>AGN</th>\n",
              "      <td>7.58</td>\n",
              "      <td>0.41</td>\n",
              "      <td>82.5</td>\n",
              "      <td>12.9</td>\n",
              "      <td>5.5</td>\n",
              "      <td>0.9</td>\n",
              "      <td>0.60</td>\n",
              "      <td>9.16</td>\n",
              "      <td>5.5</td>\n",
              "    </tr>\n",
              "    <tr>\n",
              "      <th>AHM</th>\n",
              "      <td>6.30</td>\n",
              "      <td>0.46</td>\n",
              "      <td>20.7</td>\n",
              "      <td>14.9</td>\n",
              "      <td>7.8</td>\n",
              "      <td>0.9</td>\n",
              "      <td>0.27</td>\n",
              "      <td>7.05</td>\n",
              "      <td>11.2</td>\n",
              "    </tr>\n",
              "    <tr>\n",
              "      <th>AZN</th>\n",
              "      <td>67.63</td>\n",
              "      <td>0.52</td>\n",
              "      <td>21.5</td>\n",
              "      <td>27.4</td>\n",
              "      <td>15.4</td>\n",
              "      <td>0.9</td>\n",
              "      <td>0.00</td>\n",
              "      <td>15.00</td>\n",
              "      <td>18.0</td>\n",
              "    </tr>\n",
              "    <tr>\n",
              "      <th>AVE</th>\n",
              "      <td>47.16</td>\n",
              "      <td>0.32</td>\n",
              "      <td>20.1</td>\n",
              "      <td>21.8</td>\n",
              "      <td>7.5</td>\n",
              "      <td>0.6</td>\n",
              "      <td>0.34</td>\n",
              "      <td>26.81</td>\n",
              "      <td>12.9</td>\n",
              "    </tr>\n",
              "    <tr>\n",
              "      <th>BAY</th>\n",
              "      <td>16.90</td>\n",
              "      <td>1.11</td>\n",
              "      <td>27.9</td>\n",
              "      <td>3.9</td>\n",
              "      <td>1.4</td>\n",
              "      <td>0.6</td>\n",
              "      <td>0.00</td>\n",
              "      <td>-3.17</td>\n",
              "      <td>2.6</td>\n",
              "    </tr>\n",
              "    <tr>\n",
              "      <th>BMY</th>\n",
              "      <td>51.33</td>\n",
              "      <td>0.50</td>\n",
              "      <td>13.9</td>\n",
              "      <td>34.8</td>\n",
              "      <td>15.1</td>\n",
              "      <td>0.9</td>\n",
              "      <td>0.57</td>\n",
              "      <td>2.70</td>\n",
              "      <td>20.6</td>\n",
              "    </tr>\n",
              "    <tr>\n",
              "      <th>CHTT</th>\n",
              "      <td>0.41</td>\n",
              "      <td>0.85</td>\n",
              "      <td>26.0</td>\n",
              "      <td>24.1</td>\n",
              "      <td>4.3</td>\n",
              "      <td>0.6</td>\n",
              "      <td>3.51</td>\n",
              "      <td>6.38</td>\n",
              "      <td>7.5</td>\n",
              "    </tr>\n",
              "    <tr>\n",
              "      <th>ELN</th>\n",
              "      <td>0.78</td>\n",
              "      <td>1.08</td>\n",
              "      <td>3.6</td>\n",
              "      <td>15.1</td>\n",
              "      <td>5.1</td>\n",
              "      <td>0.3</td>\n",
              "      <td>1.07</td>\n",
              "      <td>34.21</td>\n",
              "      <td>13.3</td>\n",
              "    </tr>\n",
              "    <tr>\n",
              "      <th>LLY</th>\n",
              "      <td>73.84</td>\n",
              "      <td>0.18</td>\n",
              "      <td>27.9</td>\n",
              "      <td>31.0</td>\n",
              "      <td>13.5</td>\n",
              "      <td>0.6</td>\n",
              "      <td>0.53</td>\n",
              "      <td>6.21</td>\n",
              "      <td>23.4</td>\n",
              "    </tr>\n",
              "    <tr>\n",
              "      <th>GSK</th>\n",
              "      <td>122.11</td>\n",
              "      <td>0.35</td>\n",
              "      <td>18.0</td>\n",
              "      <td>62.9</td>\n",
              "      <td>20.3</td>\n",
              "      <td>1.0</td>\n",
              "      <td>0.34</td>\n",
              "      <td>21.87</td>\n",
              "      <td>21.1</td>\n",
              "    </tr>\n",
              "    <tr>\n",
              "      <th>IVX</th>\n",
              "      <td>2.60</td>\n",
              "      <td>0.65</td>\n",
              "      <td>19.9</td>\n",
              "      <td>21.4</td>\n",
              "      <td>6.8</td>\n",
              "      <td>0.6</td>\n",
              "      <td>1.45</td>\n",
              "      <td>13.99</td>\n",
              "      <td>11.0</td>\n",
              "    </tr>\n",
              "    <tr>\n",
              "      <th>JNJ</th>\n",
              "      <td>173.93</td>\n",
              "      <td>0.46</td>\n",
              "      <td>28.4</td>\n",
              "      <td>28.6</td>\n",
              "      <td>16.3</td>\n",
              "      <td>0.9</td>\n",
              "      <td>0.10</td>\n",
              "      <td>9.37</td>\n",
              "      <td>17.9</td>\n",
              "    </tr>\n",
              "    <tr>\n",
              "      <th>MRX</th>\n",
              "      <td>1.20</td>\n",
              "      <td>0.75</td>\n",
              "      <td>28.6</td>\n",
              "      <td>11.2</td>\n",
              "      <td>5.4</td>\n",
              "      <td>0.3</td>\n",
              "      <td>0.93</td>\n",
              "      <td>30.37</td>\n",
              "      <td>21.3</td>\n",
              "    </tr>\n",
              "    <tr>\n",
              "      <th>MRK</th>\n",
              "      <td>132.56</td>\n",
              "      <td>0.46</td>\n",
              "      <td>18.9</td>\n",
              "      <td>40.6</td>\n",
              "      <td>15.0</td>\n",
              "      <td>1.1</td>\n",
              "      <td>0.28</td>\n",
              "      <td>17.35</td>\n",
              "      <td>14.1</td>\n",
              "    </tr>\n",
              "    <tr>\n",
              "      <th>NVS</th>\n",
              "      <td>96.65</td>\n",
              "      <td>0.19</td>\n",
              "      <td>21.6</td>\n",
              "      <td>17.9</td>\n",
              "      <td>11.2</td>\n",
              "      <td>0.5</td>\n",
              "      <td>0.06</td>\n",
              "      <td>-2.69</td>\n",
              "      <td>22.4</td>\n",
              "    </tr>\n",
              "    <tr>\n",
              "      <th>PFE</th>\n",
              "      <td>199.47</td>\n",
              "      <td>0.65</td>\n",
              "      <td>23.6</td>\n",
              "      <td>45.6</td>\n",
              "      <td>19.2</td>\n",
              "      <td>0.8</td>\n",
              "      <td>0.16</td>\n",
              "      <td>25.54</td>\n",
              "      <td>25.2</td>\n",
              "    </tr>\n",
              "    <tr>\n",
              "      <th>PHA</th>\n",
              "      <td>56.24</td>\n",
              "      <td>0.40</td>\n",
              "      <td>56.5</td>\n",
              "      <td>13.5</td>\n",
              "      <td>5.7</td>\n",
              "      <td>0.6</td>\n",
              "      <td>0.35</td>\n",
              "      <td>15.00</td>\n",
              "      <td>7.3</td>\n",
              "    </tr>\n",
              "    <tr>\n",
              "      <th>SGP</th>\n",
              "      <td>34.10</td>\n",
              "      <td>0.51</td>\n",
              "      <td>18.9</td>\n",
              "      <td>22.6</td>\n",
              "      <td>13.3</td>\n",
              "      <td>0.8</td>\n",
              "      <td>0.00</td>\n",
              "      <td>8.56</td>\n",
              "      <td>17.6</td>\n",
              "    </tr>\n",
              "    <tr>\n",
              "      <th>WPI</th>\n",
              "      <td>3.26</td>\n",
              "      <td>0.24</td>\n",
              "      <td>18.4</td>\n",
              "      <td>10.2</td>\n",
              "      <td>6.8</td>\n",
              "      <td>0.5</td>\n",
              "      <td>0.20</td>\n",
              "      <td>29.18</td>\n",
              "      <td>15.1</td>\n",
              "    </tr>\n",
              "    <tr>\n",
              "      <th>WYE</th>\n",
              "      <td>48.19</td>\n",
              "      <td>0.63</td>\n",
              "      <td>13.1</td>\n",
              "      <td>54.9</td>\n",
              "      <td>13.4</td>\n",
              "      <td>0.6</td>\n",
              "      <td>1.12</td>\n",
              "      <td>0.36</td>\n",
              "      <td>25.5</td>\n",
              "    </tr>\n",
              "  </tbody>\n",
              "</table>\n",
              "</div>"
            ],
            "text/plain": [
              "        Market_Cap  Beta  PE_Ratio   ROE   ROA  Asset_Turnover  Leverage  \\\n",
              "Symbol                                                                     \n",
              "ABT          68.44  0.32      24.7  26.4  11.8             0.7      0.42   \n",
              "AGN           7.58  0.41      82.5  12.9   5.5             0.9      0.60   \n",
              "AHM           6.30  0.46      20.7  14.9   7.8             0.9      0.27   \n",
              "AZN          67.63  0.52      21.5  27.4  15.4             0.9      0.00   \n",
              "AVE          47.16  0.32      20.1  21.8   7.5             0.6      0.34   \n",
              "BAY          16.90  1.11      27.9   3.9   1.4             0.6      0.00   \n",
              "BMY          51.33  0.50      13.9  34.8  15.1             0.9      0.57   \n",
              "CHTT          0.41  0.85      26.0  24.1   4.3             0.6      3.51   \n",
              "ELN           0.78  1.08       3.6  15.1   5.1             0.3      1.07   \n",
              "LLY          73.84  0.18      27.9  31.0  13.5             0.6      0.53   \n",
              "GSK         122.11  0.35      18.0  62.9  20.3             1.0      0.34   \n",
              "IVX           2.60  0.65      19.9  21.4   6.8             0.6      1.45   \n",
              "JNJ         173.93  0.46      28.4  28.6  16.3             0.9      0.10   \n",
              "MRX           1.20  0.75      28.6  11.2   5.4             0.3      0.93   \n",
              "MRK         132.56  0.46      18.9  40.6  15.0             1.1      0.28   \n",
              "NVS          96.65  0.19      21.6  17.9  11.2             0.5      0.06   \n",
              "PFE         199.47  0.65      23.6  45.6  19.2             0.8      0.16   \n",
              "PHA          56.24  0.40      56.5  13.5   5.7             0.6      0.35   \n",
              "SGP          34.10  0.51      18.9  22.6  13.3             0.8      0.00   \n",
              "WPI           3.26  0.24      18.4  10.2   6.8             0.5      0.20   \n",
              "WYE          48.19  0.63      13.1  54.9  13.4             0.6      1.12   \n",
              "\n",
              "        Rev_Growth  Net_Profit_Margin  \n",
              "Symbol                                 \n",
              "ABT           7.54               16.1  \n",
              "AGN           9.16                5.5  \n",
              "AHM           7.05               11.2  \n",
              "AZN          15.00               18.0  \n",
              "AVE          26.81               12.9  \n",
              "BAY          -3.17                2.6  \n",
              "BMY           2.70               20.6  \n",
              "CHTT          6.38                7.5  \n",
              "ELN          34.21               13.3  \n",
              "LLY           6.21               23.4  \n",
              "GSK          21.87               21.1  \n",
              "IVX          13.99               11.0  \n",
              "JNJ           9.37               17.9  \n",
              "MRX          30.37               21.3  \n",
              "MRK          17.35               14.1  \n",
              "NVS          -2.69               22.4  \n",
              "PFE          25.54               25.2  \n",
              "PHA          15.00                7.3  \n",
              "SGP           8.56               17.6  \n",
              "WPI          29.18               15.1  \n",
              "WYE           0.36               25.5  "
            ]
          },
          "execution_count": 327,
          "metadata": {},
          "output_type": "execute_result"
        }
      ],
      "source": [
        "numeric_df"
      ]
    },
    {
      "cell_type": "markdown",
      "metadata": {
        "id": "Pr6hbpO9DjN_"
      },
      "source": [
        "## 4. Convert all values to float\n",
        "use numeric_df."
      ]
    },
    {
      "cell_type": "code",
      "execution_count": null,
      "metadata": {
        "id": "790JjCvQDjN_"
      },
      "outputs": [],
      "source": [
        "numeric_df = numeric_df.astype(float)"
      ]
    },
    {
      "cell_type": "code",
      "execution_count": null,
      "metadata": {
        "id": "bx0L8R0kDjOA",
        "outputId": "93157c9b-ffd6-46ce-c0e4-6ba4070b44d9"
      },
      "outputs": [
        {
          "data": {
            "text/plain": [
              "Market_Cap           float64\n",
              "Beta                 float64\n",
              "PE_Ratio             float64\n",
              "ROE                  float64\n",
              "ROA                  float64\n",
              "Asset_Turnover       float64\n",
              "Leverage             float64\n",
              "Rev_Growth           float64\n",
              "Net_Profit_Margin    float64\n",
              "dtype: object"
            ]
          },
          "execution_count": 333,
          "metadata": {},
          "output_type": "execute_result"
        }
      ],
      "source": [
        "numeric_df.dtypes"
      ]
    },
    {
      "cell_type": "markdown",
      "metadata": {
        "id": "YG-Hj2JVDjOA"
      },
      "source": [
        "## 5. Normalize numeric_df."
      ]
    },
    {
      "cell_type": "code",
      "execution_count": null,
      "metadata": {
        "id": "PFm3LCsTDjOA"
      },
      "outputs": [],
      "source": [
        "# Save symbols index into \"symbols variable, so we can make it the index after we create our new, normalized dataframe\n",
        "symbols = numeric_df.index\n",
        "#Import StandardScaler as a tool to normalize our data\n",
        "from sklearn.preprocessing import StandardScaler\n",
        "#Intiate model\n",
        "scaler = StandardScaler()\n",
        "#Normalize the data\n",
        "numeric_df_norm = scaler.fit_transform(numeric_df)"
      ]
    },
    {
      "cell_type": "code",
      "execution_count": null,
      "metadata": {
        "id": "ob6vtN9QDjOA"
      },
      "outputs": [],
      "source": [
        "# Create a new data frame with normalized values\n",
        "numeric_df_norm = pd.DataFrame(numeric_df_norm, columns =['Market_Cap', 'Beta', 'PE_Ratio', 'ROE', 'ROA', 'Asset_Turnover',\n",
        "       'Leverage', 'Rev_Growth', 'Net_Profit_Margin'], index = symbols)"
      ]
    },
    {
      "cell_type": "code",
      "execution_count": null,
      "metadata": {
        "id": "ll2l3lVyDjOA",
        "outputId": "3279c284-3429-4b88-d38a-d4e6672897f4"
      },
      "outputs": [
        {
          "data": {
            "text/html": [
              "<div>\n",
              "<style scoped>\n",
              "    .dataframe tbody tr th:only-of-type {\n",
              "        vertical-align: middle;\n",
              "    }\n",
              "\n",
              "    .dataframe tbody tr th {\n",
              "        vertical-align: top;\n",
              "    }\n",
              "\n",
              "    .dataframe thead th {\n",
              "        text-align: right;\n",
              "    }\n",
              "</style>\n",
              "<table border=\"1\" class=\"dataframe\">\n",
              "  <thead>\n",
              "    <tr style=\"text-align: right;\">\n",
              "      <th></th>\n",
              "      <th>Market_Cap</th>\n",
              "      <th>Beta</th>\n",
              "      <th>PE_Ratio</th>\n",
              "      <th>ROE</th>\n",
              "      <th>ROA</th>\n",
              "      <th>Asset_Turnover</th>\n",
              "      <th>Leverage</th>\n",
              "      <th>Rev_Growth</th>\n",
              "      <th>Net_Profit_Margin</th>\n",
              "    </tr>\n",
              "    <tr>\n",
              "      <th>Symbol</th>\n",
              "      <th></th>\n",
              "      <th></th>\n",
              "      <th></th>\n",
              "      <th></th>\n",
              "      <th></th>\n",
              "      <th></th>\n",
              "      <th></th>\n",
              "      <th></th>\n",
              "      <th></th>\n",
              "    </tr>\n",
              "  </thead>\n",
              "  <tbody>\n",
              "    <tr>\n",
              "      <th>ABT</th>\n",
              "      <td>0.188642</td>\n",
              "      <td>-0.821041</td>\n",
              "      <td>-0.047867</td>\n",
              "      <td>0.041080</td>\n",
              "      <td>0.247579</td>\n",
              "      <td>-5.247542e-16</td>\n",
              "      <td>-0.217336</td>\n",
              "      <td>-0.540801</td>\n",
              "      <td>0.063205</td>\n",
              "    </tr>\n",
              "    <tr>\n",
              "      <th>AGN</th>\n",
              "      <td>-0.875518</td>\n",
              "      <td>-0.461835</td>\n",
              "      <td>3.583430</td>\n",
              "      <td>-0.875950</td>\n",
              "      <td>-0.965557</td>\n",
              "      <td>9.453132e-01</td>\n",
              "      <td>0.018736</td>\n",
              "      <td>-0.390551</td>\n",
              "      <td>-1.592035</td>\n",
              "    </tr>\n",
              "    <tr>\n",
              "      <th>AHM</th>\n",
              "      <td>-0.897899</td>\n",
              "      <td>-0.262277</td>\n",
              "      <td>-0.299168</td>\n",
              "      <td>-0.740094</td>\n",
              "      <td>-0.522666</td>\n",
              "      <td>9.453132e-01</td>\n",
              "      <td>-0.414062</td>\n",
              "      <td>-0.586247</td>\n",
              "      <td>-0.701953</td>\n",
              "    </tr>\n",
              "    <tr>\n",
              "      <th>AZN</th>\n",
              "      <td>0.174479</td>\n",
              "      <td>-0.022807</td>\n",
              "      <td>-0.248907</td>\n",
              "      <td>0.109009</td>\n",
              "      <td>0.940799</td>\n",
              "      <td>9.453132e-01</td>\n",
              "      <td>-0.768169</td>\n",
              "      <td>0.151089</td>\n",
              "      <td>0.359900</td>\n",
              "    </tr>\n",
              "    <tr>\n",
              "      <th>AVE</th>\n",
              "      <td>-0.183447</td>\n",
              "      <td>-0.821041</td>\n",
              "      <td>-0.336863</td>\n",
              "      <td>-0.271389</td>\n",
              "      <td>-0.580435</td>\n",
              "      <td>-4.726566e-01</td>\n",
              "      <td>-0.322256</td>\n",
              "      <td>1.246425</td>\n",
              "      <td>-0.436490</td>\n",
              "    </tr>\n",
              "  </tbody>\n",
              "</table>\n",
              "</div>"
            ],
            "text/plain": [
              "        Market_Cap      Beta  PE_Ratio       ROE       ROA  Asset_Turnover  \\\n",
              "Symbol                                                                       \n",
              "ABT       0.188642 -0.821041 -0.047867  0.041080  0.247579   -5.247542e-16   \n",
              "AGN      -0.875518 -0.461835  3.583430 -0.875950 -0.965557    9.453132e-01   \n",
              "AHM      -0.897899 -0.262277 -0.299168 -0.740094 -0.522666    9.453132e-01   \n",
              "AZN       0.174479 -0.022807 -0.248907  0.109009  0.940799    9.453132e-01   \n",
              "AVE      -0.183447 -0.821041 -0.336863 -0.271389 -0.580435   -4.726566e-01   \n",
              "\n",
              "        Leverage  Rev_Growth  Net_Profit_Margin  \n",
              "Symbol                                           \n",
              "ABT    -0.217336   -0.540801           0.063205  \n",
              "AGN     0.018736   -0.390551          -1.592035  \n",
              "AHM    -0.414062   -0.586247          -0.701953  \n",
              "AZN    -0.768169    0.151089           0.359900  \n",
              "AVE    -0.322256    1.246425          -0.436490  "
            ]
          },
          "execution_count": 340,
          "metadata": {},
          "output_type": "execute_result"
        }
      ],
      "source": [
        "# Check to see if numeric_df_norm is a dataframe with normalized values, along with 'Symbol' as its index\n",
        "numeric_df_norm.head()"
      ]
    },
    {
      "cell_type": "markdown",
      "metadata": {
        "id": "SmqYGORgDjOA"
      },
      "source": [
        "Above, shows the new normalized dataset"
      ]
    },
    {
      "cell_type": "markdown",
      "metadata": {
        "id": "LUKwGPTyDjOB"
      },
      "source": [
        "#### Data Exploration of Euclidean Distance between each company"
      ]
    },
    {
      "cell_type": "code",
      "execution_count": null,
      "metadata": {
        "id": "1sag276VDjOB",
        "outputId": "41b236ee-43a6-4c68-c798-56046b807c26"
      },
      "outputs": [
        {
          "data": {
            "text/html": [
              "<div>\n",
              "<style scoped>\n",
              "    .dataframe tbody tr th:only-of-type {\n",
              "        vertical-align: middle;\n",
              "    }\n",
              "\n",
              "    .dataframe tbody tr th {\n",
              "        vertical-align: top;\n",
              "    }\n",
              "\n",
              "    .dataframe thead th {\n",
              "        text-align: right;\n",
              "    }\n",
              "</style>\n",
              "<table border=\"1\" class=\"dataframe\">\n",
              "  <thead>\n",
              "    <tr style=\"text-align: right;\">\n",
              "      <th>Symbol</th>\n",
              "      <th>ABT</th>\n",
              "      <th>AGN</th>\n",
              "      <th>AHM</th>\n",
              "      <th>AZN</th>\n",
              "      <th>AVE</th>\n",
              "      <th>BAY</th>\n",
              "      <th>BMY</th>\n",
              "      <th>CHTT</th>\n",
              "      <th>ELN</th>\n",
              "      <th>LLY</th>\n",
              "      <th>...</th>\n",
              "      <th>IVX</th>\n",
              "      <th>JNJ</th>\n",
              "      <th>MRX</th>\n",
              "      <th>MRK</th>\n",
              "      <th>NVS</th>\n",
              "      <th>PFE</th>\n",
              "      <th>PHA</th>\n",
              "      <th>SGP</th>\n",
              "      <th>WPI</th>\n",
              "      <th>WYE</th>\n",
              "    </tr>\n",
              "    <tr>\n",
              "      <th>Symbol</th>\n",
              "      <th></th>\n",
              "      <th></th>\n",
              "      <th></th>\n",
              "      <th></th>\n",
              "      <th></th>\n",
              "      <th></th>\n",
              "      <th></th>\n",
              "      <th></th>\n",
              "      <th></th>\n",
              "      <th></th>\n",
              "      <th></th>\n",
              "      <th></th>\n",
              "      <th></th>\n",
              "      <th></th>\n",
              "      <th></th>\n",
              "      <th></th>\n",
              "      <th></th>\n",
              "      <th></th>\n",
              "      <th></th>\n",
              "      <th></th>\n",
              "      <th></th>\n",
              "    </tr>\n",
              "  </thead>\n",
              "  <tbody>\n",
              "    <tr>\n",
              "      <th>ABT</th>\n",
              "      <td>0.000000</td>\n",
              "      <td>4.524618</td>\n",
              "      <td>2.068648</td>\n",
              "      <td>1.710771</td>\n",
              "      <td>2.164139e+00</td>\n",
              "      <td>4.806057</td>\n",
              "      <td>1.850131</td>\n",
              "      <td>5.144714</td>\n",
              "      <td>5.022175</td>\n",
              "      <td>1.457814</td>\n",
              "      <td>...</td>\n",
              "      <td>2.689547</td>\n",
              "      <td>2.391509</td>\n",
              "      <td>4.017109</td>\n",
              "      <td>2.746934</td>\n",
              "      <td>1.970213</td>\n",
              "      <td>3.983231</td>\n",
              "      <td>2.980819</td>\n",
              "      <td>1.345014</td>\n",
              "      <td>2.953797</td>\n",
              "      <td>3.113586</td>\n",
              "    </tr>\n",
              "    <tr>\n",
              "      <th>AGN</th>\n",
              "      <td>4.524618</td>\n",
              "      <td>0.000000</td>\n",
              "      <td>4.043186</td>\n",
              "      <td>5.030808</td>\n",
              "      <td>4.757351e+00</td>\n",
              "      <td>4.973768</td>\n",
              "      <td>5.553321</td>\n",
              "      <td>5.750821</td>\n",
              "      <td>6.860601</td>\n",
              "      <td>5.267192</td>\n",
              "      <td>...</td>\n",
              "      <td>4.580415</td>\n",
              "      <td>5.449269</td>\n",
              "      <td>5.614386</td>\n",
              "      <td>5.578355</td>\n",
              "      <td>5.603897</td>\n",
              "      <td>7.077392</td>\n",
              "      <td>2.426388</td>\n",
              "      <td>4.842078</td>\n",
              "      <td>5.130736</td>\n",
              "      <td>6.605654</td>\n",
              "    </tr>\n",
              "    <tr>\n",
              "      <th>AHM</th>\n",
              "      <td>2.068648</td>\n",
              "      <td>4.043186</td>\n",
              "      <td>0.000000</td>\n",
              "      <td>2.422635</td>\n",
              "      <td>2.548593e+00</td>\n",
              "      <td>3.726153</td>\n",
              "      <td>2.665217</td>\n",
              "      <td>4.877898</td>\n",
              "      <td>4.811808</td>\n",
              "      <td>3.318325</td>\n",
              "      <td>...</td>\n",
              "      <td>2.373755</td>\n",
              "      <td>3.682513</td>\n",
              "      <td>4.222306</td>\n",
              "      <td>3.445005</td>\n",
              "      <td>3.414021</td>\n",
              "      <td>5.398973</td>\n",
              "      <td>2.997876</td>\n",
              "      <td>1.746806</td>\n",
              "      <td>3.016647</td>\n",
              "      <td>4.288958</td>\n",
              "    </tr>\n",
              "    <tr>\n",
              "      <th>AZN</th>\n",
              "      <td>1.710771</td>\n",
              "      <td>5.030808</td>\n",
              "      <td>2.422635</td>\n",
              "      <td>0.000000</td>\n",
              "      <td>2.697286e+00</td>\n",
              "      <td>5.190658</td>\n",
              "      <td>1.611417</td>\n",
              "      <td>5.860410</td>\n",
              "      <td>5.097367</td>\n",
              "      <td>2.465366</td>\n",
              "      <td>...</td>\n",
              "      <td>3.363249</td>\n",
              "      <td>2.006687</td>\n",
              "      <td>4.374660</td>\n",
              "      <td>1.905195</td>\n",
              "      <td>3.131669</td>\n",
              "      <td>3.186200</td>\n",
              "      <td>3.807570</td>\n",
              "      <td>1.107202</td>\n",
              "      <td>3.498439</td>\n",
              "      <td>3.407076</td>\n",
              "    </tr>\n",
              "    <tr>\n",
              "      <th>AVE</th>\n",
              "      <td>2.164139</td>\n",
              "      <td>4.757351</td>\n",
              "      <td>2.548593</td>\n",
              "      <td>2.697286</td>\n",
              "      <td>2.980232e-08</td>\n",
              "      <td>4.882317</td>\n",
              "      <td>3.484580</td>\n",
              "      <td>5.222098</td>\n",
              "      <td>3.841354</td>\n",
              "      <td>2.982647</td>\n",
              "      <td>...</td>\n",
              "      <td>2.445794</td>\n",
              "      <td>3.730682</td>\n",
              "      <td>2.999547</td>\n",
              "      <td>3.558161</td>\n",
              "      <td>3.413135</td>\n",
              "      <td>4.606252</td>\n",
              "      <td>2.785574</td>\n",
              "      <td>2.525725</td>\n",
              "      <td>1.328568</td>\n",
              "      <td>4.359629</td>\n",
              "    </tr>\n",
              "    <tr>\n",
              "      <th>BAY</th>\n",
              "      <td>4.806057</td>\n",
              "      <td>4.973768</td>\n",
              "      <td>3.726153</td>\n",
              "      <td>5.190658</td>\n",
              "      <td>4.882317e+00</td>\n",
              "      <td>0.000000</td>\n",
              "      <td>5.403241</td>\n",
              "      <td>5.092159</td>\n",
              "      <td>4.722471</td>\n",
              "      <td>5.947760</td>\n",
              "      <td>...</td>\n",
              "      <td>3.748346</td>\n",
              "      <td>5.865665</td>\n",
              "      <td>4.968175</td>\n",
              "      <td>6.064634</td>\n",
              "      <td>5.462654</td>\n",
              "      <td>7.340908</td>\n",
              "      <td>4.053618</td>\n",
              "      <td>4.535728</td>\n",
              "      <td>5.180621</td>\n",
              "      <td>6.101423</td>\n",
              "    </tr>\n",
              "    <tr>\n",
              "      <th>BMY</th>\n",
              "      <td>1.850131</td>\n",
              "      <td>5.553321</td>\n",
              "      <td>2.665217</td>\n",
              "      <td>1.611417</td>\n",
              "      <td>3.484580e+00</td>\n",
              "      <td>5.403241</td>\n",
              "      <td>0.000000</td>\n",
              "      <td>5.417973</td>\n",
              "      <td>5.510904</td>\n",
              "      <td>2.243167</td>\n",
              "      <td>...</td>\n",
              "      <td>3.360926</td>\n",
              "      <td>2.573326</td>\n",
              "      <td>4.851692</td>\n",
              "      <td>2.492347</td>\n",
              "      <td>2.936906</td>\n",
              "      <td>3.757223</td>\n",
              "      <td>4.517516</td>\n",
              "      <td>1.514943</td>\n",
              "      <td>4.217721</td>\n",
              "      <td>2.325861</td>\n",
              "    </tr>\n",
              "    <tr>\n",
              "      <th>CHTT</th>\n",
              "      <td>5.144714</td>\n",
              "      <td>5.750821</td>\n",
              "      <td>4.877898</td>\n",
              "      <td>5.860410</td>\n",
              "      <td>5.222098e+00</td>\n",
              "      <td>5.092159</td>\n",
              "      <td>5.417973</td>\n",
              "      <td>0.000000</td>\n",
              "      <td>4.791070</td>\n",
              "      <td>5.797520</td>\n",
              "      <td>...</td>\n",
              "      <td>3.024398</td>\n",
              "      <td>6.466064</td>\n",
              "      <td>4.904409</td>\n",
              "      <td>6.252219</td>\n",
              "      <td>6.213482</td>\n",
              "      <td>7.357574</td>\n",
              "      <td>5.124202</td>\n",
              "      <td>5.478546</td>\n",
              "      <td>5.677114</td>\n",
              "      <td>5.254617</td>\n",
              "    </tr>\n",
              "    <tr>\n",
              "      <th>ELN</th>\n",
              "      <td>5.022175</td>\n",
              "      <td>6.860601</td>\n",
              "      <td>4.811808</td>\n",
              "      <td>5.097367</td>\n",
              "      <td>3.841354e+00</td>\n",
              "      <td>4.722471</td>\n",
              "      <td>5.510904</td>\n",
              "      <td>4.791070</td>\n",
              "      <td>0.000000</td>\n",
              "      <td>5.691389</td>\n",
              "      <td>...</td>\n",
              "      <td>3.192215</td>\n",
              "      <td>6.220445</td>\n",
              "      <td>2.448738</td>\n",
              "      <td>6.068231</td>\n",
              "      <td>5.873882</td>\n",
              "      <td>6.274344</td>\n",
              "      <td>5.131387</td>\n",
              "      <td>4.780829</td>\n",
              "      <td>3.849202</td>\n",
              "      <td>5.443646</td>\n",
              "    </tr>\n",
              "    <tr>\n",
              "      <th>LLY</th>\n",
              "      <td>1.457814</td>\n",
              "      <td>5.267192</td>\n",
              "      <td>3.318325</td>\n",
              "      <td>2.465366</td>\n",
              "      <td>2.982647e+00</td>\n",
              "      <td>5.947760</td>\n",
              "      <td>2.243167</td>\n",
              "      <td>5.797520</td>\n",
              "      <td>5.691389</td>\n",
              "      <td>0.000000</td>\n",
              "      <td>...</td>\n",
              "      <td>3.624734</td>\n",
              "      <td>2.789664</td>\n",
              "      <td>4.294974</td>\n",
              "      <td>3.464182</td>\n",
              "      <td>1.616921</td>\n",
              "      <td>3.876561</td>\n",
              "      <td>3.847627</td>\n",
              "      <td>2.260288</td>\n",
              "      <td>3.496647</td>\n",
              "      <td>2.815697</td>\n",
              "    </tr>\n",
              "    <tr>\n",
              "      <th>GSK</th>\n",
              "      <td>3.781028</td>\n",
              "      <td>6.914426</td>\n",
              "      <td>5.025734</td>\n",
              "      <td>3.030529</td>\n",
              "      <td>4.587243e+00</td>\n",
              "      <td>7.732507</td>\n",
              "      <td>3.175554</td>\n",
              "      <td>7.255020</td>\n",
              "      <td>6.897432</td>\n",
              "      <td>3.720846</td>\n",
              "      <td>...</td>\n",
              "      <td>5.406907</td>\n",
              "      <td>3.062477</td>\n",
              "      <td>6.339978</td>\n",
              "      <td>2.272815</td>\n",
              "      <td>4.901157</td>\n",
              "      <td>2.507610</td>\n",
              "      <td>5.916548</td>\n",
              "      <td>3.873637</td>\n",
              "      <td>5.571465</td>\n",
              "      <td>3.761368</td>\n",
              "    </tr>\n",
              "    <tr>\n",
              "      <th>IVX</th>\n",
              "      <td>2.689547</td>\n",
              "      <td>4.580415</td>\n",
              "      <td>2.373755</td>\n",
              "      <td>3.363249</td>\n",
              "      <td>2.445794e+00</td>\n",
              "      <td>3.748346</td>\n",
              "      <td>3.360926</td>\n",
              "      <td>3.024398</td>\n",
              "      <td>3.192215</td>\n",
              "      <td>3.624734</td>\n",
              "      <td>...</td>\n",
              "      <td>0.000000</td>\n",
              "      <td>4.462118</td>\n",
              "      <td>2.895167</td>\n",
              "      <td>4.267104</td>\n",
              "      <td>3.996223</td>\n",
              "      <td>5.488879</td>\n",
              "      <td>3.149481</td>\n",
              "      <td>2.831720</td>\n",
              "      <td>2.927666</td>\n",
              "      <td>3.811827</td>\n",
              "    </tr>\n",
              "    <tr>\n",
              "      <th>JNJ</th>\n",
              "      <td>2.391509</td>\n",
              "      <td>5.449269</td>\n",
              "      <td>3.682513</td>\n",
              "      <td>2.006687</td>\n",
              "      <td>3.730682e+00</td>\n",
              "      <td>5.865665</td>\n",
              "      <td>2.573326</td>\n",
              "      <td>6.466064</td>\n",
              "      <td>6.220445</td>\n",
              "      <td>2.789664</td>\n",
              "      <td>...</td>\n",
              "      <td>4.462118</td>\n",
              "      <td>0.000000</td>\n",
              "      <td>5.437557</td>\n",
              "      <td>1.858986</td>\n",
              "      <td>3.159830</td>\n",
              "      <td>2.507778</td>\n",
              "      <td>4.213989</td>\n",
              "      <td>2.668754</td>\n",
              "      <td>4.705158</td>\n",
              "      <td>3.953302</td>\n",
              "    </tr>\n",
              "    <tr>\n",
              "      <th>MRX</th>\n",
              "      <td>4.017109</td>\n",
              "      <td>5.614386</td>\n",
              "      <td>4.222306</td>\n",
              "      <td>4.374660</td>\n",
              "      <td>2.999547e+00</td>\n",
              "      <td>4.968175</td>\n",
              "      <td>4.851692</td>\n",
              "      <td>4.904409</td>\n",
              "      <td>2.448738</td>\n",
              "      <td>4.294974</td>\n",
              "      <td>...</td>\n",
              "      <td>2.895167</td>\n",
              "      <td>5.437557</td>\n",
              "      <td>0.000000</td>\n",
              "      <td>5.669146</td>\n",
              "      <td>4.588626</td>\n",
              "      <td>5.654656</td>\n",
              "      <td>3.921527</td>\n",
              "      <td>4.003997</td>\n",
              "      <td>2.718865</td>\n",
              "      <td>4.825700</td>\n",
              "    </tr>\n",
              "    <tr>\n",
              "      <th>MRK</th>\n",
              "      <td>2.746934</td>\n",
              "      <td>5.578355</td>\n",
              "      <td>3.445005</td>\n",
              "      <td>1.905195</td>\n",
              "      <td>3.558161e+00</td>\n",
              "      <td>6.064634</td>\n",
              "      <td>2.492347</td>\n",
              "      <td>6.252219</td>\n",
              "      <td>6.068231</td>\n",
              "      <td>3.464182</td>\n",
              "      <td>...</td>\n",
              "      <td>4.267104</td>\n",
              "      <td>1.858986</td>\n",
              "      <td>5.669146</td>\n",
              "      <td>0.000000</td>\n",
              "      <td>4.213974</td>\n",
              "      <td>2.901249</td>\n",
              "      <td>4.558800</td>\n",
              "      <td>2.777546</td>\n",
              "      <td>4.682176</td>\n",
              "      <td>4.032215</td>\n",
              "    </tr>\n",
              "    <tr>\n",
              "      <th>NVS</th>\n",
              "      <td>1.970213</td>\n",
              "      <td>5.603897</td>\n",
              "      <td>3.414021</td>\n",
              "      <td>3.131669</td>\n",
              "      <td>3.413135e+00</td>\n",
              "      <td>5.462654</td>\n",
              "      <td>2.936906</td>\n",
              "      <td>6.213482</td>\n",
              "      <td>5.873882</td>\n",
              "      <td>1.616921</td>\n",
              "      <td>...</td>\n",
              "      <td>3.996223</td>\n",
              "      <td>3.159830</td>\n",
              "      <td>4.588626</td>\n",
              "      <td>4.213974</td>\n",
              "      <td>0.000000</td>\n",
              "      <td>4.648273</td>\n",
              "      <td>3.979952</td>\n",
              "      <td>2.605557</td>\n",
              "      <td>3.715958</td>\n",
              "      <td>3.613014</td>\n",
              "    </tr>\n",
              "    <tr>\n",
              "      <th>PFE</th>\n",
              "      <td>3.983231</td>\n",
              "      <td>7.077392</td>\n",
              "      <td>5.398973</td>\n",
              "      <td>3.186200</td>\n",
              "      <td>4.606252e+00</td>\n",
              "      <td>7.340908</td>\n",
              "      <td>3.757223</td>\n",
              "      <td>7.357574</td>\n",
              "      <td>6.274344</td>\n",
              "      <td>3.876561</td>\n",
              "      <td>...</td>\n",
              "      <td>5.488879</td>\n",
              "      <td>2.507778</td>\n",
              "      <td>5.654656</td>\n",
              "      <td>2.901249</td>\n",
              "      <td>4.648273</td>\n",
              "      <td>0.000000</td>\n",
              "      <td>5.725093</td>\n",
              "      <td>4.052749</td>\n",
              "      <td>5.536558</td>\n",
              "      <td>4.125520</td>\n",
              "    </tr>\n",
              "    <tr>\n",
              "      <th>PHA</th>\n",
              "      <td>2.980819</td>\n",
              "      <td>2.426388</td>\n",
              "      <td>2.997876</td>\n",
              "      <td>3.807570</td>\n",
              "      <td>2.785574e+00</td>\n",
              "      <td>4.053618</td>\n",
              "      <td>4.517516</td>\n",
              "      <td>5.124202</td>\n",
              "      <td>5.131387</td>\n",
              "      <td>3.847627</td>\n",
              "      <td>...</td>\n",
              "      <td>3.149481</td>\n",
              "      <td>4.213989</td>\n",
              "      <td>3.921527</td>\n",
              "      <td>4.558800</td>\n",
              "      <td>3.979952</td>\n",
              "      <td>5.725093</td>\n",
              "      <td>0.000000</td>\n",
              "      <td>3.534767</td>\n",
              "      <td>3.250515</td>\n",
              "      <td>5.417057</td>\n",
              "    </tr>\n",
              "    <tr>\n",
              "      <th>SGP</th>\n",
              "      <td>1.345014</td>\n",
              "      <td>4.842078</td>\n",
              "      <td>1.746806</td>\n",
              "      <td>1.107202</td>\n",
              "      <td>2.525725e+00</td>\n",
              "      <td>4.535728</td>\n",
              "      <td>1.514943</td>\n",
              "      <td>5.478546</td>\n",
              "      <td>4.780829</td>\n",
              "      <td>2.260288</td>\n",
              "      <td>...</td>\n",
              "      <td>2.831720</td>\n",
              "      <td>2.668754</td>\n",
              "      <td>4.003997</td>\n",
              "      <td>2.777546</td>\n",
              "      <td>2.605557</td>\n",
              "      <td>4.052749</td>\n",
              "      <td>3.534767</td>\n",
              "      <td>0.000000</td>\n",
              "      <td>3.101352</td>\n",
              "      <td>3.223149</td>\n",
              "    </tr>\n",
              "    <tr>\n",
              "      <th>WPI</th>\n",
              "      <td>2.953797</td>\n",
              "      <td>5.130736</td>\n",
              "      <td>3.016647</td>\n",
              "      <td>3.498439</td>\n",
              "      <td>1.328568e+00</td>\n",
              "      <td>5.180621</td>\n",
              "      <td>4.217721</td>\n",
              "      <td>5.677114</td>\n",
              "      <td>3.849202</td>\n",
              "      <td>3.496647</td>\n",
              "      <td>...</td>\n",
              "      <td>2.927666</td>\n",
              "      <td>4.705158</td>\n",
              "      <td>2.718865</td>\n",
              "      <td>4.682176</td>\n",
              "      <td>3.715958</td>\n",
              "      <td>5.536558</td>\n",
              "      <td>3.250515</td>\n",
              "      <td>3.101352</td>\n",
              "      <td>0.000000</td>\n",
              "      <td>5.044517</td>\n",
              "    </tr>\n",
              "    <tr>\n",
              "      <th>WYE</th>\n",
              "      <td>3.113586</td>\n",
              "      <td>6.605654</td>\n",
              "      <td>4.288958</td>\n",
              "      <td>3.407076</td>\n",
              "      <td>4.359629e+00</td>\n",
              "      <td>6.101423</td>\n",
              "      <td>2.325861</td>\n",
              "      <td>5.254617</td>\n",
              "      <td>5.443646</td>\n",
              "      <td>2.815697</td>\n",
              "      <td>...</td>\n",
              "      <td>3.811827</td>\n",
              "      <td>3.953302</td>\n",
              "      <td>4.825700</td>\n",
              "      <td>4.032215</td>\n",
              "      <td>3.613014</td>\n",
              "      <td>4.125520</td>\n",
              "      <td>5.417057</td>\n",
              "      <td>3.223149</td>\n",
              "      <td>5.044517</td>\n",
              "      <td>0.000000</td>\n",
              "    </tr>\n",
              "  </tbody>\n",
              "</table>\n",
              "<p>21 rows × 21 columns</p>\n",
              "</div>"
            ],
            "text/plain": [
              "Symbol       ABT       AGN       AHM       AZN           AVE       BAY  \\\n",
              "Symbol                                                                   \n",
              "ABT     0.000000  4.524618  2.068648  1.710771  2.164139e+00  4.806057   \n",
              "AGN     4.524618  0.000000  4.043186  5.030808  4.757351e+00  4.973768   \n",
              "AHM     2.068648  4.043186  0.000000  2.422635  2.548593e+00  3.726153   \n",
              "AZN     1.710771  5.030808  2.422635  0.000000  2.697286e+00  5.190658   \n",
              "AVE     2.164139  4.757351  2.548593  2.697286  2.980232e-08  4.882317   \n",
              "BAY     4.806057  4.973768  3.726153  5.190658  4.882317e+00  0.000000   \n",
              "BMY     1.850131  5.553321  2.665217  1.611417  3.484580e+00  5.403241   \n",
              "CHTT    5.144714  5.750821  4.877898  5.860410  5.222098e+00  5.092159   \n",
              "ELN     5.022175  6.860601  4.811808  5.097367  3.841354e+00  4.722471   \n",
              "LLY     1.457814  5.267192  3.318325  2.465366  2.982647e+00  5.947760   \n",
              "GSK     3.781028  6.914426  5.025734  3.030529  4.587243e+00  7.732507   \n",
              "IVX     2.689547  4.580415  2.373755  3.363249  2.445794e+00  3.748346   \n",
              "JNJ     2.391509  5.449269  3.682513  2.006687  3.730682e+00  5.865665   \n",
              "MRX     4.017109  5.614386  4.222306  4.374660  2.999547e+00  4.968175   \n",
              "MRK     2.746934  5.578355  3.445005  1.905195  3.558161e+00  6.064634   \n",
              "NVS     1.970213  5.603897  3.414021  3.131669  3.413135e+00  5.462654   \n",
              "PFE     3.983231  7.077392  5.398973  3.186200  4.606252e+00  7.340908   \n",
              "PHA     2.980819  2.426388  2.997876  3.807570  2.785574e+00  4.053618   \n",
              "SGP     1.345014  4.842078  1.746806  1.107202  2.525725e+00  4.535728   \n",
              "WPI     2.953797  5.130736  3.016647  3.498439  1.328568e+00  5.180621   \n",
              "WYE     3.113586  6.605654  4.288958  3.407076  4.359629e+00  6.101423   \n",
              "\n",
              "Symbol       BMY      CHTT       ELN       LLY  ...       IVX       JNJ  \\\n",
              "Symbol                                          ...                       \n",
              "ABT     1.850131  5.144714  5.022175  1.457814  ...  2.689547  2.391509   \n",
              "AGN     5.553321  5.750821  6.860601  5.267192  ...  4.580415  5.449269   \n",
              "AHM     2.665217  4.877898  4.811808  3.318325  ...  2.373755  3.682513   \n",
              "AZN     1.611417  5.860410  5.097367  2.465366  ...  3.363249  2.006687   \n",
              "AVE     3.484580  5.222098  3.841354  2.982647  ...  2.445794  3.730682   \n",
              "BAY     5.403241  5.092159  4.722471  5.947760  ...  3.748346  5.865665   \n",
              "BMY     0.000000  5.417973  5.510904  2.243167  ...  3.360926  2.573326   \n",
              "CHTT    5.417973  0.000000  4.791070  5.797520  ...  3.024398  6.466064   \n",
              "ELN     5.510904  4.791070  0.000000  5.691389  ...  3.192215  6.220445   \n",
              "LLY     2.243167  5.797520  5.691389  0.000000  ...  3.624734  2.789664   \n",
              "GSK     3.175554  7.255020  6.897432  3.720846  ...  5.406907  3.062477   \n",
              "IVX     3.360926  3.024398  3.192215  3.624734  ...  0.000000  4.462118   \n",
              "JNJ     2.573326  6.466064  6.220445  2.789664  ...  4.462118  0.000000   \n",
              "MRX     4.851692  4.904409  2.448738  4.294974  ...  2.895167  5.437557   \n",
              "MRK     2.492347  6.252219  6.068231  3.464182  ...  4.267104  1.858986   \n",
              "NVS     2.936906  6.213482  5.873882  1.616921  ...  3.996223  3.159830   \n",
              "PFE     3.757223  7.357574  6.274344  3.876561  ...  5.488879  2.507778   \n",
              "PHA     4.517516  5.124202  5.131387  3.847627  ...  3.149481  4.213989   \n",
              "SGP     1.514943  5.478546  4.780829  2.260288  ...  2.831720  2.668754   \n",
              "WPI     4.217721  5.677114  3.849202  3.496647  ...  2.927666  4.705158   \n",
              "WYE     2.325861  5.254617  5.443646  2.815697  ...  3.811827  3.953302   \n",
              "\n",
              "Symbol       MRX       MRK       NVS       PFE       PHA       SGP       WPI  \\\n",
              "Symbol                                                                         \n",
              "ABT     4.017109  2.746934  1.970213  3.983231  2.980819  1.345014  2.953797   \n",
              "AGN     5.614386  5.578355  5.603897  7.077392  2.426388  4.842078  5.130736   \n",
              "AHM     4.222306  3.445005  3.414021  5.398973  2.997876  1.746806  3.016647   \n",
              "AZN     4.374660  1.905195  3.131669  3.186200  3.807570  1.107202  3.498439   \n",
              "AVE     2.999547  3.558161  3.413135  4.606252  2.785574  2.525725  1.328568   \n",
              "BAY     4.968175  6.064634  5.462654  7.340908  4.053618  4.535728  5.180621   \n",
              "BMY     4.851692  2.492347  2.936906  3.757223  4.517516  1.514943  4.217721   \n",
              "CHTT    4.904409  6.252219  6.213482  7.357574  5.124202  5.478546  5.677114   \n",
              "ELN     2.448738  6.068231  5.873882  6.274344  5.131387  4.780829  3.849202   \n",
              "LLY     4.294974  3.464182  1.616921  3.876561  3.847627  2.260288  3.496647   \n",
              "GSK     6.339978  2.272815  4.901157  2.507610  5.916548  3.873637  5.571465   \n",
              "IVX     2.895167  4.267104  3.996223  5.488879  3.149481  2.831720  2.927666   \n",
              "JNJ     5.437557  1.858986  3.159830  2.507778  4.213989  2.668754  4.705158   \n",
              "MRX     0.000000  5.669146  4.588626  5.654656  3.921527  4.003997  2.718865   \n",
              "MRK     5.669146  0.000000  4.213974  2.901249  4.558800  2.777546  4.682176   \n",
              "NVS     4.588626  4.213974  0.000000  4.648273  3.979952  2.605557  3.715958   \n",
              "PFE     5.654656  2.901249  4.648273  0.000000  5.725093  4.052749  5.536558   \n",
              "PHA     3.921527  4.558800  3.979952  5.725093  0.000000  3.534767  3.250515   \n",
              "SGP     4.003997  2.777546  2.605557  4.052749  3.534767  0.000000  3.101352   \n",
              "WPI     2.718865  4.682176  3.715958  5.536558  3.250515  3.101352  0.000000   \n",
              "WYE     4.825700  4.032215  3.613014  4.125520  5.417057  3.223149  5.044517   \n",
              "\n",
              "Symbol       WYE  \n",
              "Symbol            \n",
              "ABT     3.113586  \n",
              "AGN     6.605654  \n",
              "AHM     4.288958  \n",
              "AZN     3.407076  \n",
              "AVE     4.359629  \n",
              "BAY     6.101423  \n",
              "BMY     2.325861  \n",
              "CHTT    5.254617  \n",
              "ELN     5.443646  \n",
              "LLY     2.815697  \n",
              "GSK     3.761368  \n",
              "IVX     3.811827  \n",
              "JNJ     3.953302  \n",
              "MRX     4.825700  \n",
              "MRK     4.032215  \n",
              "NVS     3.613014  \n",
              "PFE     4.125520  \n",
              "PHA     5.417057  \n",
              "SGP     3.223149  \n",
              "WPI     5.044517  \n",
              "WYE     0.000000  \n",
              "\n",
              "[21 rows x 21 columns]"
            ]
          },
          "execution_count": 344,
          "metadata": {},
          "output_type": "execute_result"
        }
      ],
      "source": [
        "# Calculate Euclidean Distance, which shows the distance between each record\n",
        "d = pairwise.pairwise_distances(numeric_df_norm, metric = 'euclidean')\n",
        "\n",
        "#Turn into dataframe and show distance between each symbol\n",
        "pd.DataFrame(d, columns = numeric_df_norm.index, index = numeric_df_norm.index)"
      ]
    },
    {
      "cell_type": "markdown",
      "metadata": {
        "id": "8dya-ke-DjOB"
      },
      "source": [
        "## 6. KMeans clustering\n",
        "Conduct KMeans clustering for k values in 1-10 range. Then draw the elbow chart."
      ]
    },
    {
      "cell_type": "code",
      "execution_count": null,
      "metadata": {
        "id": "UonNVUKrDjOB"
      },
      "outputs": [],
      "source": [
        "# Create an empty list to store the inertia values (within-cluster sum of squares) for each k\n",
        "inertia_values = []\n",
        "\n",
        "# Loop through k values from 1 to 10. This means we are creating 1 cluster, then 2 clusters, all the way up to 10.\n",
        "for k in range(1, 11):\n",
        "    # Create a K-Means model with k clusters\n",
        "    kmeans = KMeans(n_clusters=k, random_state=42)\n",
        "\n",
        "    # Fit the model to the normalized data\n",
        "    kmeans.fit(numeric_df_norm)\n",
        "\n",
        "    # Append the inertia value to the list. Inertia is the sum squared of distances of all data points from their centroid in their respective clusters.\n",
        "    inertia_values.append(kmeans.inertia_)\n"
      ]
    },
    {
      "cell_type": "markdown",
      "metadata": {
        "id": "VZgaOoz3DjOB"
      },
      "source": [
        "What happens when we fit a kmeans model?\n",
        "1. Initial **centroids are chosen** (often using the 'k-means++' method).\n",
        "2. **Data points are assigned** to the nearest centroid.\n",
        "3. **Centroids are recalculated** based on the mean of their assigned points.\n",
        "4. Steps 2 and 3 are repeated until centroids stabilize or a set number of iterations is reached. The goal is to minimize the sum of squared distances between points and their assigned centroids.\n",
        "\n",
        "When we fit the kmeans model, it calculates:\n",
        "1. cluster_centers_: Contains the coordinates of the cluster centroids.\n",
        "2. labels_: Contains the cluster labels for each data point.\n",
        "3. inertia_: The sum of squared distances of all the data points in the cluster to its centroid"
      ]
    },
    {
      "cell_type": "code",
      "execution_count": null,
      "metadata": {
        "id": "ae5JR81ADjOB",
        "outputId": "aa4bed31-a86b-43e4-b5ef-62576ada08c7"
      },
      "outputs": [
        {
          "data": {
            "image/png": "[encoded data removed]",
            "text/plain": [
              "<Figure size 576x432 with 1 Axes>"
            ]
          },
          "metadata": {
            "needs_background": "light"
          },
          "output_type": "display_data"
        }
      ],
      "source": [
        "# Create an elbow chart to visualize the inertia values for different k values\n",
        "plt.figure(figsize=(8, 6))\n",
        "plt.plot(range(1, 11), inertia_values, marker='o', linestyle='-', color='b')\n",
        "plt.title('Elbow Method')\n",
        "plt.xlabel('Number of Clusters (K)')\n",
        "plt.ylabel('Average Within-Cluster Sum of Squares Distance')\n",
        "plt.xticks(range(1, 11))\n",
        "plt.grid(True)\n",
        "plt.show()"
      ]
    },
    {
      "cell_type": "markdown",
      "metadata": {
        "id": "jrXgztWIDjOC"
      },
      "source": [
        "Chart above shows the elbow method. It gives the average cluster sum of squares for each number of clusters. As you can see, the less amount of clusters there are, the more distance there is between all of the data points within those clusters, vice versa. We can find optimal K by looking for the point that turns like an elbow, or where the slope between each K begins to plateau."
      ]
    },
    {
      "cell_type": "markdown",
      "metadata": {
        "id": "dWQWH9olDjOC"
      },
      "source": [
        "## 7. Choose the best K.\n",
        "Based on the elbow chart you drew above, write below what value of k you think is the best and why."
      ]
    },
    {
      "cell_type": "markdown",
      "metadata": {
        "id": "EeQA1pY3DjOC"
      },
      "source": [
        "I would choose k = 3 because this is the point where the line curves in like an elbow. After 3, you can begin seeing a slow decline for every increase in 'k'."
      ]
    },
    {
      "cell_type": "markdown",
      "metadata": {
        "id": "gYw_SNoCDjOC"
      },
      "source": [
        "#### After finding my optimal K, I now want to find the the companies that are in each cluster"
      ]
    },
    {
      "cell_type": "code",
      "execution_count": null,
      "metadata": {
        "id": "RX37RVvdDjOC",
        "outputId": "f0e2c810-aa6c-4aaf-d25f-e4152e006bcb"
      },
      "outputs": [
        {
          "name": "stdout",
          "output_type": "stream",
          "text": [
            "Cluster 0: AVE, CHTT, ELN, IVX, MRX, WPI\n",
            "Cluster 1: ABT, AZN, BMY, LLY, GSK, JNJ, MRK, NVS, PFE, SGP, WYE\n",
            "Cluster 2: AGN, AHM, BAY, PHA\n"
          ]
        }
      ],
      "source": [
        "# Fit the KMeans Model. What this does is calculate the centroids for each cluster (3 clusters), as well as put each data point into the centroid it is closest into.\n",
        "kmeans = KMeans(n_clusters=3, random_state=0).fit(numeric_df_norm)\n",
        "\n",
        "# Create a pandas Series that associates each company with its cluster\n",
        "memb = pd.Series(kmeans.labels_, index=numeric_df_norm.index)\n",
        "\n",
        "# Display the companies (or indices) in each cluster\n",
        "for cluster, indices in memb.groupby(memb):\n",
        "    print(f\"Cluster {cluster}: {', '.join(map(str, indices.index))}\")"
      ]
    },
    {
      "cell_type": "markdown",
      "metadata": {
        "id": "J-tu0Y_rDjOC"
      },
      "source": [
        "#### Create a profile plot to compare each cluster's attribute values"
      ]
    },
    {
      "cell_type": "code",
      "execution_count": null,
      "metadata": {
        "id": "tbElmOTpDjOD",
        "outputId": "76b2708b-5d0c-4213-8d4c-de98cd477c87"
      },
      "outputs": [
        {
          "data": {
            "image/png": "[encoded data removed]",
            "text/plain": [
              "<Figure size 864x576 with 1 Axes>"
            ]
          },
          "metadata": {
            "needs_background": "light"
          },
          "output_type": "display_data"
        }
      ],
      "source": [
        "import matplotlib.pyplot as plt\n",
        "from sklearn.cluster import KMeans\n",
        "import pandas as pd\n",
        "import numpy as np\n",
        "\n",
        "# Initiate model\n",
        "kmeans = KMeans(n_clusters=3, random_state=42)\n",
        "\n",
        "#Create variable clusters and fit data and predict cluster assignments for each data point\n",
        "clusters = kmeans.fit_predict(numeric_df_norm)\n",
        "\n",
        "# Create variable centroids, which will hold the the centroids of each cluster\n",
        "centroids = kmeans.cluster_centers_\n",
        "\n",
        "# Convert centroids to DataFrame for easier plotting\n",
        "centroids_df = pd.DataFrame(centroids, columns=numeric_df_norm.columns)\n",
        "\n",
        "# Plotting\n",
        "plt.figure(figsize=(12, 8))\n",
        "colors = ['b', 'g', 'r']\n",
        "\n",
        "# Plot centroids (mean values for each feature in the clusters)\n",
        "for index, color in enumerate(colors):\n",
        "    plt.plot(centroids_df.columns, centroids_df.iloc[index], color=color, marker='o', label=f'Cluster {index+1}')\n",
        "\n",
        "plt.xticks(rotation=45)\n",
        "plt.ylabel('Normalized Value')\n",
        "plt.title('Profile Plot of Cluster Centroids')\n",
        "plt.legend()\n",
        "plt.grid(True)\n",
        "plt.tight_layout()\n",
        "plt.show()\n"
      ]
    },
    {
      "cell_type": "markdown",
      "metadata": {
        "id": "bTr0T-KzDjOE"
      },
      "source": [
        "## 8.Hierarchical clustering Single linkage\n",
        "Conduct heirarchical clustering using single linkage and draw a dendogram. Draw the horizontal line in a way that it gives you the same number of clusters that you chose for KMeans."
      ]
    },
    {
      "cell_type": "code",
      "execution_count": null,
      "metadata": {
        "id": "rdMJV-t5DjOE",
        "outputId": "dcfcb857-ee0d-4d39-831e-c6093867f98c"
      },
      "outputs": [
        {
          "data": {
            "image/png": "[encoded data removed]",
            "text/plain": [
              "<Figure size 720x432 with 1 Axes>"
            ]
          },
          "metadata": {
            "needs_background": "light"
          },
          "output_type": "display_data"
        }
      ],
      "source": [
        "Z = linkage(numeric_df_norm, method = 'single')\n",
        "\n",
        "fig = plt.figure(figsize = (10,6))\n",
        "fig.subplots_adjust(bottom = 0.23)\n",
        "plt.title('Hierarchical Clustering Dendrogram (Single Linkage)')\n",
        "plt.xlabel('Company')\n",
        "dendrogram(Z, labels = numeric_df_norm.index, color_threshold = 2.75)\n",
        "plt.axhline(y = 3, color = 'black', linewidth = 0.5, linestyle = 'dashed')\n",
        "plt.show()"
      ]
    },
    {
      "cell_type": "markdown",
      "metadata": {
        "id": "vTwPsKoKDjOE"
      },
      "source": [
        "There are 3 clusters, as shown by the 3 different colors, as well as the horizontal line passing through 3 vertical lines."
      ]
    },
    {
      "cell_type": "markdown",
      "metadata": {
        "id": "PrY-34e1DjOE"
      },
      "source": [
        "## 9.Hierarchical clustering Average linkage\n",
        "Conduct heirarchical clustering using average linkage and draw a dendogram. Draw the horizontal line in a way that it gives you the same number of clusters that you chose for KMeans."
      ]
    },
    {
      "cell_type": "code",
      "execution_count": null,
      "metadata": {
        "id": "sCBRwD3YDjOE",
        "outputId": "db4e033c-401a-4196-dee8-ace95c60e2ec"
      },
      "outputs": [
        {
          "data": {
            "image/png": "[encoded data removed]",
            "text/plain": [
              "<Figure size 720x432 with 1 Axes>"
            ]
          },
          "metadata": {
            "needs_background": "light"
          },
          "output_type": "display_data"
        }
      ],
      "source": [
        "Z = linkage(numeric_df_norm, method = 'average')\n",
        "\n",
        "fig = plt.figure(figsize = (10,6))\n",
        "fig.subplots_adjust(bottom = 0.23)\n",
        "plt.title('Hierarchical Clustering Dendrogram (Average Linkage)')\n",
        "plt.xlabel('Company')\n",
        "dendrogram(Z, labels = numeric_df_norm.index, color_threshold = 2.75)\n",
        "plt.axhline(y = 4.7, color = 'black', linewidth = 0.5, linestyle = 'dashed')\n",
        "plt.show()"
      ]
    },
    {
      "cell_type": "markdown",
      "metadata": {
        "id": "S2K0dyBtDjOE"
      },
      "source": [
        "## 10. Cluster members: Single\n",
        "Enter code that displays cluster members based on single method. For K, use any value that makes more sense to you based on the dendogram."
      ]
    },
    {
      "cell_type": "code",
      "execution_count": null,
      "metadata": {
        "id": "c0h-FzsVDjOF",
        "outputId": "b68cf631-492d-41f9-94f9-004f237b22e1"
      },
      "outputs": [
        {
          "data": {
            "image/png": "[encoded data removed]",
            "text/plain": [
              "<Figure size 720x432 with 1 Axes>"
            ]
          },
          "metadata": {
            "needs_background": "light"
          },
          "output_type": "display_data"
        }
      ],
      "source": [
        "Z = linkage(numeric_df_norm, method = 'single')\n",
        "# Show y = 3.2 (5 clusters)\n",
        "fig = plt.figure(figsize = (10,6))\n",
        "fig.subplots_adjust(bottom = 0.23)\n",
        "plt.title('Hierarchical Clustering Dendrogram (Single Linkage)')\n",
        "plt.xlabel('Company')\n",
        "dendrogram(Z, labels = numeric_df_norm.index, color_threshold = 2.75)\n",
        "plt.axhline(y = 3.2, color = 'black', linewidth = 0.5, linestyle = 'dashed')\n",
        "plt.show()"
      ]
    },
    {
      "cell_type": "markdown",
      "metadata": {
        "id": "iAS7FpedDjOF"
      },
      "source": [
        "As you can see above, I chose to put my y at 3.5 is because it shows all of the other clusters are relatively close to each other vertically. This means that they are similar to each other. However, it needs 2 clusters because BAY had a high vertical differnce between the rest."
      ]
    },
    {
      "cell_type": "code",
      "execution_count": null,
      "metadata": {
        "id": "XoQRR1TeDjOF",
        "outputId": "48eb0bd7-ab39-4410-fd36-e2d3894d4f90"
      },
      "outputs": [
        {
          "name": "stdout",
          "output_type": "stream",
          "text": [
            "1 :  ABT, AGN, AHM, AZN, AVE, BMY, CHTT, ELN, LLY, GSK, IVX, JNJ, MRX, MRK, NVS, PFE, PHA, SGP, WPI, WYE\n",
            "2 :  BAY\n"
          ]
        }
      ],
      "source": [
        "# Extract companies in each cluster\n",
        "memb = fcluster(linkage(numeric_df_norm, 'single'), 2, criterion = 'maxclust')\n",
        "memb = pd.Series(memb, index = numeric_df_norm.index)\n",
        "for key, item in memb.groupby(memb):\n",
        "    print(key, ': ',', '.join(item.index))"
      ]
    },
    {
      "cell_type": "markdown",
      "metadata": {
        "id": "rsbyLt1ODjOF"
      },
      "source": [
        "## 11. Cluster members: Average\n",
        "Enter code that displays cluster members based on average method. For K, use any value that makes more sense to you based on the dendogram."
      ]
    },
    {
      "cell_type": "code",
      "execution_count": null,
      "metadata": {
        "id": "ue_HhKKaDjOF",
        "outputId": "b1aafc6f-0255-45fc-f685-2c07084b51a3"
      },
      "outputs": [
        {
          "data": {
            "image/png": "[encoded data removed]",
            "text/plain": [
              "<Figure size 720x432 with 1 Axes>"
            ]
          },
          "metadata": {
            "needs_background": "light"
          },
          "output_type": "display_data"
        }
      ],
      "source": [
        "Z = linkage(numeric_df_norm, method = 'average')\n",
        "\n",
        "fig = plt.figure(figsize = (10,6))\n",
        "fig.subplots_adjust(bottom = 0.23)\n",
        "plt.title('Hierarchical Clustering Dendrogram (Average Linkage)')\n",
        "plt.xlabel('Company')\n",
        "dendrogram(Z, labels = numeric_df_norm.index, color_threshold = 2.75)\n",
        "plt.axhline(y = 4, color = 'black', linewidth = 0.5, linestyle = 'dashed')\n",
        "plt.show()"
      ]
    },
    {
      "cell_type": "markdown",
      "metadata": {
        "id": "r-_GfxLPDjOF"
      },
      "source": [
        "As you can see above, I chose y =4 (5 clusters) due to the vertical difference between certain clusters. If I were to go up more and have 3 clusters, a lot of companies with strong differences will be clustered together. If I chose more clusters, I will be creating clusters where there are strong similarities of different companies in different clusters. This is because the vertical difference is relatively small."
      ]
    },
    {
      "cell_type": "code",
      "execution_count": null,
      "metadata": {
        "id": "OGEsPCE9DjOF",
        "outputId": "d3b1d13c-8a4e-4c70-d76a-5a0c004fb56e"
      },
      "outputs": [
        {
          "name": "stdout",
          "output_type": "stream",
          "text": [
            "1 :  ELN, MRX\n",
            "2 :  CHTT\n",
            "3 :  ABT, AHM, AZN, AVE, BMY, LLY, GSK, IVX, JNJ, MRK, NVS, PFE, SGP, WPI, WYE\n",
            "4 :  AGN, PHA\n",
            "5 :  BAY\n"
          ]
        }
      ],
      "source": [
        "# Extract companies in each cluster\n",
        "memb = fcluster(linkage(numeric_df_norm, 'average'), 5, criterion = 'maxclust')\n",
        "memb = pd.Series(memb, index = numeric_df_norm.index)\n",
        "for key, item in memb.groupby(memb):\n",
        "    print(key, ': ',', '.join(item.index))"
      ]
    },
    {
      "cell_type": "markdown",
      "metadata": {
        "id": "wsPsz7obDjOG"
      },
      "source": [
        "## 12. Interpretation\n",
        "Based on the dendograms, explain which model (single or average) is the best. Justify your selection."
      ]
    },
    {
      "cell_type": "raw",
      "metadata": {
        "id": "xGguKDUNDjOG"
      },
      "source": [
        "Based on the dendrograms, the average model is better because it shows more differentiation between the clusters. The single model has clusters that are very close to each other, which means that there is no point to creating clusters."
      ]
    },
    {
      "cell_type": "markdown",
      "metadata": {
        "id": "L0ez2IJfDjOG"
      },
      "source": [
        "## 13. Visualize the clusters\n",
        "Draw heatmaps for the best model you selected in the previous step."
      ]
    },
    {
      "cell_type": "code",
      "execution_count": null,
      "metadata": {
        "id": "hKxhxz1zDjOG",
        "outputId": "f538c866-f310-4658-fdcc-4fe3a69b7be1"
      },
      "outputs": [
        {
          "data": {
            "text/plain": [
              "<seaborn.matrix.ClusterGrid at 0x7fcd648bfbe0>"
            ]
          },
          "execution_count": 382,
          "metadata": {},
          "output_type": "execute_result"
        },
        {
          "data": {
            "image/png": "[encoded data removed]",
            "text/plain": [
              "<Figure size 720x720 with 4 Axes>"
            ]
          },
          "metadata": {
            "needs_background": "light"
          },
          "output_type": "display_data"
        }
      ],
      "source": [
        "numeric_df_norm.index = ['{}:{}'.format(cluster, state) for cluster, state in zip(memb, numeric_df_norm.index)]\n",
        "sns.clustermap(numeric_df_norm, method = 'average', col_cluster = False, cmap = \"mako_r\")"
      ]
    },
    {
      "cell_type": "markdown",
      "metadata": {
        "id": "rvd1wztYDjOG"
      },
      "source": [
        "## 14.  Label each cluster in the best model."
      ]
    },
    {
      "cell_type": "raw",
      "metadata": {
        "id": "lT5CeOe7DjOH"
      },
      "source": [
        "Cluster 1: Stable Companies\n",
        "Cluster 2: High Leverage and Growth Companies\n",
        "Cluster 3: Efficient Companies\n",
        "Cluster 4  Emerging Companies\n",
        "Cluster 5: Companies with Potential"
      ]
    }
  ],
  "metadata": {
    "kernelspec": {
      "display_name": "anaconda-2022.05-py39",
      "language": "python",
      "name": "conda-env-anaconda-2022.05-py39-py"
    },
    "language_info": {
      "codemirror_mode": {
        "name": "ipython",
        "version": 3
      },
      "file_extension": ".py",
      "mimetype": "text/x-python",
      "name": "python",
      "nbconvert_exporter": "python",
      "pygments_lexer": "ipython3",
      "version": "3.9.12"
    },
    "colab": {
      "provenance": [],
      "include_colab_link": true
    }
  },
  "nbformat": 4,
  "nbformat_minor": 0
}