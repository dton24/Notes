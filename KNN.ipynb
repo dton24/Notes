{
  "cells": [
    {
      "cell_type": "markdown",
      "metadata": {
        "id": "view-in-github",
        "colab_type": "text"
      },
      "source": [
        "<a href=\"https://colab.research.google.com/github/dton24/Notes/blob/main/KNN.ipynb\" target=\"_parent\"><img src=\"https://colab.research.google.com/assets/colab-badge.svg\" alt=\"Open In Colab\"/></a>"
      ]
    },
    {
      "cell_type": "markdown",
      "metadata": {
        "id": "WEotFrPXDE5s"
      },
      "source": [
        "# CIS 4321\n",
        "# Dr. Mohammad Salehan\n",
        "## K-Nearest Neighbors Assignment\n",
        "In this assignment you will conduct KNN classification on a dataset. The data include customer demographic information (age, income, etc.), the customer’s relationship with the bank (mortgage, securities account, etc.), and the customer response to the last personal loan campaign (Personal Loan). Let's start by loading the dataset."
      ]
    },
    {
      "cell_type": "markdown",
      "metadata": {
        "id": "meTApEiPDE5t"
      },
      "source": [
        "Enter your name below."
      ]
    },
    {
      "cell_type": "raw",
      "metadata": {
        "id": "4YhHt7MEDE5t"
      },
      "source": [
        "Dylan Ton"
      ]
    },
    {
      "cell_type": "code",
      "execution_count": null,
      "metadata": {
        "id": "lfR0jlTdDE5u"
      },
      "outputs": [],
      "source": [
        "%matplotlib inline\n",
        "\n",
        "from pathlib import Path\n",
        "\n",
        "import pandas as pd\n",
        "from sklearn import preprocessing\n",
        "from sklearn.model_selection import train_test_split\n",
        "from sklearn.metrics import accuracy_score\n",
        "from sklearn.neighbors import NearestNeighbors, KNeighborsClassifier\n",
        "import matplotlib.pylab as plt"
      ]
    },
    {
      "cell_type": "code",
      "execution_count": null,
      "metadata": {
        "id": "IElDydmmDE5u",
        "outputId": "aa39a2bb-1816-4ebb-814d-be433dd7bb6c"
      },
      "outputs": [
        {
          "data": {
            "text/plain": [
              "(5000, 14)"
            ]
          },
          "execution_count": 348,
          "metadata": {},
          "output_type": "execute_result"
        }
      ],
      "source": [
        "df = pd.read_excel('UniversalBank.xlsx', 'Data')\n",
        "df.shape"
      ]
    },
    {
      "cell_type": "code",
      "execution_count": null,
      "metadata": {
        "id": "LabtWaM7DE5u",
        "outputId": "2a582fe3-18ad-47fa-8002-98daf9009c23"
      },
      "outputs": [
        {
          "data": {
            "text/html": [
              "<div>\n",
              "<style scoped>\n",
              "    .dataframe tbody tr th:only-of-type {\n",
              "        vertical-align: middle;\n",
              "    }\n",
              "\n",
              "    .dataframe tbody tr th {\n",
              "        vertical-align: top;\n",
              "    }\n",
              "\n",
              "    .dataframe thead th {\n",
              "        text-align: right;\n",
              "    }\n",
              "</style>\n",
              "<table border=\"1\" class=\"dataframe\">\n",
              "  <thead>\n",
              "    <tr style=\"text-align: right;\">\n",
              "      <th></th>\n",
              "      <th>ID</th>\n",
              "      <th>Age</th>\n",
              "      <th>Experience</th>\n",
              "      <th>Income</th>\n",
              "      <th>ZIP Code</th>\n",
              "      <th>Family</th>\n",
              "      <th>CCAvg</th>\n",
              "      <th>Education</th>\n",
              "      <th>Mortgage</th>\n",
              "      <th>Personal Loan</th>\n",
              "      <th>Securities Account</th>\n",
              "      <th>CD Account</th>\n",
              "      <th>Online</th>\n",
              "      <th>CreditCard</th>\n",
              "    </tr>\n",
              "  </thead>\n",
              "  <tbody>\n",
              "    <tr>\n",
              "      <th>0</th>\n",
              "      <td>1</td>\n",
              "      <td>25</td>\n",
              "      <td>1</td>\n",
              "      <td>49</td>\n",
              "      <td>91107</td>\n",
              "      <td>4</td>\n",
              "      <td>1.6</td>\n",
              "      <td>1</td>\n",
              "      <td>0</td>\n",
              "      <td>0</td>\n",
              "      <td>1</td>\n",
              "      <td>0</td>\n",
              "      <td>0</td>\n",
              "      <td>0</td>\n",
              "    </tr>\n",
              "  </tbody>\n",
              "</table>\n",
              "</div>"
            ],
            "text/plain": [
              "   ID  Age  Experience  Income  ZIP Code  Family  CCAvg  Education  Mortgage  \\\n",
              "0   1   25           1      49     91107       4    1.6          1         0   \n",
              "\n",
              "   Personal Loan  Securities Account  CD Account  Online  CreditCard  \n",
              "0              0                   1           0       0           0  "
            ]
          },
          "execution_count": 350,
          "metadata": {},
          "output_type": "execute_result"
        }
      ],
      "source": [
        "df.head(1)"
      ]
    },
    {
      "cell_type": "markdown",
      "metadata": {
        "id": "MzMIkhm_DE5u"
      },
      "source": [
        "Let's check out the proportion of the two classes in the column used as label (i.e., Personal Loan). There is no need to conduct oversampling or undersampling in this assignment."
      ]
    },
    {
      "cell_type": "code",
      "execution_count": null,
      "metadata": {
        "id": "Gr8glKHrDE5v",
        "outputId": "e363e438-459e-4059-8560-260e09a186bf"
      },
      "outputs": [
        {
          "data": {
            "text/plain": [
              "0    4520\n",
              "1     480\n",
              "Name: Personal Loan, dtype: int64"
            ]
          },
          "execution_count": 352,
          "metadata": {},
          "output_type": "execute_result"
        }
      ],
      "source": [
        "df['Personal Loan'].value_counts()"
      ]
    },
    {
      "cell_type": "markdown",
      "metadata": {
        "id": "_7gfwB6lDE5v"
      },
      "source": [
        "1. What is the naive rule in this example? What is the accuracy of the naive model?"
      ]
    },
    {
      "cell_type": "raw",
      "metadata": {
        "id": "FrEikXYvDE5v"
      },
      "source": [
        "The naive rule in this example is assuming that all of the new data that the model processes will be \"1\" for Personal Loan. This model will be accurate about 90.4% of the time because the data shows that 90.4% of people in the data set have a Personal Loan of \"1\"."
      ]
    },
    {
      "cell_type": "markdown",
      "metadata": {
        "id": "ZywWkoucDE5v"
      },
      "source": [
        "## Select columns\n",
        "2. Exclude ID and ZIP Code columns."
      ]
    },
    {
      "cell_type": "code",
      "execution_count": null,
      "metadata": {
        "id": "aDofyT9SDE5v"
      },
      "outputs": [],
      "source": [
        "new_df = df.drop(df.columns[[0,4]], axis = 1)"
      ]
    },
    {
      "cell_type": "code",
      "execution_count": null,
      "metadata": {
        "id": "mNogKnQIDE5v",
        "outputId": "1e317bd2-00a9-44a0-ee4d-3facb84238f0"
      },
      "outputs": [
        {
          "data": {
            "text/html": [
              "<div>\n",
              "<style scoped>\n",
              "    .dataframe tbody tr th:only-of-type {\n",
              "        vertical-align: middle;\n",
              "    }\n",
              "\n",
              "    .dataframe tbody tr th {\n",
              "        vertical-align: top;\n",
              "    }\n",
              "\n",
              "    .dataframe thead th {\n",
              "        text-align: right;\n",
              "    }\n",
              "</style>\n",
              "<table border=\"1\" class=\"dataframe\">\n",
              "  <thead>\n",
              "    <tr style=\"text-align: right;\">\n",
              "      <th></th>\n",
              "      <th>Age</th>\n",
              "      <th>Experience</th>\n",
              "      <th>Income</th>\n",
              "      <th>Family</th>\n",
              "      <th>CCAvg</th>\n",
              "      <th>Education</th>\n",
              "      <th>Mortgage</th>\n",
              "      <th>Personal Loan</th>\n",
              "      <th>Securities Account</th>\n",
              "      <th>CD Account</th>\n",
              "      <th>Online</th>\n",
              "      <th>CreditCard</th>\n",
              "    </tr>\n",
              "  </thead>\n",
              "  <tbody>\n",
              "    <tr>\n",
              "      <th>0</th>\n",
              "      <td>25</td>\n",
              "      <td>1</td>\n",
              "      <td>49</td>\n",
              "      <td>4</td>\n",
              "      <td>1.6</td>\n",
              "      <td>1</td>\n",
              "      <td>0</td>\n",
              "      <td>0</td>\n",
              "      <td>1</td>\n",
              "      <td>0</td>\n",
              "      <td>0</td>\n",
              "      <td>0</td>\n",
              "    </tr>\n",
              "    <tr>\n",
              "      <th>1</th>\n",
              "      <td>45</td>\n",
              "      <td>19</td>\n",
              "      <td>34</td>\n",
              "      <td>3</td>\n",
              "      <td>1.5</td>\n",
              "      <td>1</td>\n",
              "      <td>0</td>\n",
              "      <td>0</td>\n",
              "      <td>1</td>\n",
              "      <td>0</td>\n",
              "      <td>0</td>\n",
              "      <td>0</td>\n",
              "    </tr>\n",
              "    <tr>\n",
              "      <th>2</th>\n",
              "      <td>39</td>\n",
              "      <td>15</td>\n",
              "      <td>11</td>\n",
              "      <td>1</td>\n",
              "      <td>1.0</td>\n",
              "      <td>1</td>\n",
              "      <td>0</td>\n",
              "      <td>0</td>\n",
              "      <td>0</td>\n",
              "      <td>0</td>\n",
              "      <td>0</td>\n",
              "      <td>0</td>\n",
              "    </tr>\n",
              "    <tr>\n",
              "      <th>3</th>\n",
              "      <td>35</td>\n",
              "      <td>9</td>\n",
              "      <td>100</td>\n",
              "      <td>1</td>\n",
              "      <td>2.7</td>\n",
              "      <td>2</td>\n",
              "      <td>0</td>\n",
              "      <td>0</td>\n",
              "      <td>0</td>\n",
              "      <td>0</td>\n",
              "      <td>0</td>\n",
              "      <td>0</td>\n",
              "    </tr>\n",
              "    <tr>\n",
              "      <th>4</th>\n",
              "      <td>35</td>\n",
              "      <td>8</td>\n",
              "      <td>45</td>\n",
              "      <td>4</td>\n",
              "      <td>1.0</td>\n",
              "      <td>2</td>\n",
              "      <td>0</td>\n",
              "      <td>0</td>\n",
              "      <td>0</td>\n",
              "      <td>0</td>\n",
              "      <td>0</td>\n",
              "      <td>1</td>\n",
              "    </tr>\n",
              "  </tbody>\n",
              "</table>\n",
              "</div>"
            ],
            "text/plain": [
              "   Age  Experience  Income  Family  CCAvg  Education  Mortgage  Personal Loan  \\\n",
              "0   25           1      49       4    1.6          1         0              0   \n",
              "1   45          19      34       3    1.5          1         0              0   \n",
              "2   39          15      11       1    1.0          1         0              0   \n",
              "3   35           9     100       1    2.7          2         0              0   \n",
              "4   35           8      45       4    1.0          2         0              0   \n",
              "\n",
              "   Securities Account  CD Account  Online  CreditCard  \n",
              "0                   1           0       0           0  \n",
              "1                   1           0       0           0  \n",
              "2                   0           0       0           0  \n",
              "3                   0           0       0           0  \n",
              "4                   0           0       0           1  "
            ]
          },
          "execution_count": 358,
          "metadata": {},
          "output_type": "execute_result"
        }
      ],
      "source": [
        "new_df.head()"
      ]
    },
    {
      "cell_type": "markdown",
      "metadata": {
        "id": "0oECiYt6DE5v"
      },
      "source": [
        "## Missing values\n",
        "3. Check missing values. Drop them if needed."
      ]
    },
    {
      "cell_type": "code",
      "execution_count": null,
      "metadata": {
        "id": "ZwV4GcNCDE5w",
        "outputId": "eac2cc93-0950-45d7-9950-9c29fee43424"
      },
      "outputs": [
        {
          "data": {
            "text/plain": [
              "0"
            ]
          },
          "execution_count": 361,
          "metadata": {},
          "output_type": "execute_result"
        }
      ],
      "source": [
        "new_df['Personal Loan'].isna().sum()"
      ]
    },
    {
      "cell_type": "markdown",
      "metadata": {
        "id": "_mBash-wDE5w"
      },
      "source": [
        "## Dummies\n",
        "4. Create dummies if any is needed."
      ]
    },
    {
      "cell_type": "code",
      "execution_count": null,
      "metadata": {
        "id": "8B624UnUDE5w"
      },
      "outputs": [],
      "source": [
        "# Not needed"
      ]
    },
    {
      "cell_type": "markdown",
      "metadata": {
        "id": "jUWhpo8SDE5w"
      },
      "source": [
        "## Partitioning\n",
        "5. Partition the dataset into train and validation partitions. Use 40% for validation. There is no need to make up artificial records. Set random_state to 26."
      ]
    },
    {
      "cell_type": "code",
      "execution_count": null,
      "metadata": {
        "id": "vOywFLYIDE5w",
        "outputId": "0ee396c0-7add-421d-f01b-d5517bdb2b66"
      },
      "outputs": [
        {
          "name": "stdout",
          "output_type": "stream",
          "text": [
            "(3000, 12) (2000, 12)\n"
          ]
        }
      ],
      "source": [
        "train_data, test_data = train_test_split(new_df,test_size = 0.4, random_state = 26)\n",
        "print(train_data.shape, test_data.shape)"
      ]
    },
    {
      "cell_type": "markdown",
      "metadata": {
        "id": "Yay8WlxTDE5w"
      },
      "source": [
        "## Preprocessing\n",
        "6. Conduct all required preprocessing which includes (1) selecting features and (2) normalization. Use 'Personal Loan' as label and the rest of the columns as predictors.<br>\n",
        "At the end of this cell you should have 2 variables named trainNorm and validNorm representing train and validation partitions.\n",
        "<br>\n",
        "Tip: create a list of features and name it features. Use it when needed instead of copy-pasting column names each time."
      ]
    },
    {
      "cell_type": "code",
      "execution_count": null,
      "metadata": {
        "id": "czD5UamNDE5x",
        "outputId": "a43fb9e6-8b19-42e5-9fbb-2e92b4133225"
      },
      "outputs": [
        {
          "data": {
            "text/html": [
              "<div>\n",
              "<style scoped>\n",
              "    .dataframe tbody tr th:only-of-type {\n",
              "        vertical-align: middle;\n",
              "    }\n",
              "\n",
              "    .dataframe tbody tr th {\n",
              "        vertical-align: top;\n",
              "    }\n",
              "\n",
              "    .dataframe thead th {\n",
              "        text-align: right;\n",
              "    }\n",
              "</style>\n",
              "<table border=\"1\" class=\"dataframe\">\n",
              "  <thead>\n",
              "    <tr style=\"text-align: right;\">\n",
              "      <th></th>\n",
              "      <th>Age</th>\n",
              "      <th>Experience</th>\n",
              "      <th>Income</th>\n",
              "      <th>Family</th>\n",
              "      <th>CCAvg</th>\n",
              "      <th>Education</th>\n",
              "      <th>Mortgage</th>\n",
              "      <th>Securities Account</th>\n",
              "      <th>CD Account</th>\n",
              "      <th>Online</th>\n",
              "      <th>CreditCard</th>\n",
              "      <th>Personal Loan</th>\n",
              "    </tr>\n",
              "  </thead>\n",
              "  <tbody>\n",
              "    <tr>\n",
              "      <th>0</th>\n",
              "      <td>1.536362</td>\n",
              "      <td>1.470326</td>\n",
              "      <td>1.122297</td>\n",
              "      <td>0.529738</td>\n",
              "      <td>1.772104</td>\n",
              "      <td>0.156296</td>\n",
              "      <td>1.125364</td>\n",
              "      <td>-0.346151</td>\n",
              "      <td>-0.248891</td>\n",
              "      <td>-1.240190</td>\n",
              "      <td>-0.645314</td>\n",
              "      <td>1</td>\n",
              "    </tr>\n",
              "    <tr>\n",
              "      <th>1</th>\n",
              "      <td>-0.980131</td>\n",
              "      <td>-0.960922</td>\n",
              "      <td>-0.174284</td>\n",
              "      <td>0.529738</td>\n",
              "      <td>-0.696696</td>\n",
              "      <td>0.156296</td>\n",
              "      <td>0.475851</td>\n",
              "      <td>-0.346151</td>\n",
              "      <td>-0.248891</td>\n",
              "      <td>0.806328</td>\n",
              "      <td>-0.645314</td>\n",
              "      <td>0</td>\n",
              "    </tr>\n",
              "    <tr>\n",
              "      <th>2</th>\n",
              "      <td>1.449587</td>\n",
              "      <td>1.557156</td>\n",
              "      <td>1.869479</td>\n",
              "      <td>-0.340587</td>\n",
              "      <td>0.107099</td>\n",
              "      <td>-1.039850</td>\n",
              "      <td>-0.547625</td>\n",
              "      <td>-0.346151</td>\n",
              "      <td>-0.248891</td>\n",
              "      <td>-1.240190</td>\n",
              "      <td>1.549632</td>\n",
              "      <td>0</td>\n",
              "    </tr>\n",
              "    <tr>\n",
              "      <th>3</th>\n",
              "      <td>-0.459477</td>\n",
              "      <td>-0.526770</td>\n",
              "      <td>1.100321</td>\n",
              "      <td>-1.210912</td>\n",
              "      <td>1.886932</td>\n",
              "      <td>-1.039850</td>\n",
              "      <td>-0.547625</td>\n",
              "      <td>-0.346151</td>\n",
              "      <td>-0.248891</td>\n",
              "      <td>0.806328</td>\n",
              "      <td>-0.645314</td>\n",
              "      <td>0</td>\n",
              "    </tr>\n",
              "    <tr>\n",
              "      <th>4</th>\n",
              "      <td>-0.199150</td>\n",
              "      <td>-0.266279</td>\n",
              "      <td>0.397091</td>\n",
              "      <td>-1.210912</td>\n",
              "      <td>1.886932</td>\n",
              "      <td>-1.039850</td>\n",
              "      <td>-0.547625</td>\n",
              "      <td>2.888909</td>\n",
              "      <td>-0.248891</td>\n",
              "      <td>-1.240190</td>\n",
              "      <td>-0.645314</td>\n",
              "      <td>0</td>\n",
              "    </tr>\n",
              "  </tbody>\n",
              "</table>\n",
              "</div>"
            ],
            "text/plain": [
              "        Age  Experience    Income    Family     CCAvg  Education  Mortgage  \\\n",
              "0  1.536362    1.470326  1.122297  0.529738  1.772104   0.156296  1.125364   \n",
              "1 -0.980131   -0.960922 -0.174284  0.529738 -0.696696   0.156296  0.475851   \n",
              "2  1.449587    1.557156  1.869479 -0.340587  0.107099  -1.039850 -0.547625   \n",
              "3 -0.459477   -0.526770  1.100321 -1.210912  1.886932  -1.039850 -0.547625   \n",
              "4 -0.199150   -0.266279  0.397091 -1.210912  1.886932  -1.039850 -0.547625   \n",
              "\n",
              "   Securities Account  CD Account    Online  CreditCard  Personal Loan  \n",
              "0           -0.346151   -0.248891 -1.240190   -0.645314              1  \n",
              "1           -0.346151   -0.248891  0.806328   -0.645314              0  \n",
              "2           -0.346151   -0.248891 -1.240190    1.549632              0  \n",
              "3           -0.346151   -0.248891  0.806328   -0.645314              0  \n",
              "4            2.888909   -0.248891 -1.240190   -0.645314              0  "
            ]
          },
          "execution_count": 371,
          "metadata": {},
          "output_type": "execute_result"
        }
      ],
      "source": [
        "# Create train_features variable, which contains all of the predictors. This is for training data.\n",
        "train_features = train_data.drop(columns = 'Personal Loan')\n",
        "\n",
        "#Create train_label variable, which contains 'Personal Loan', which will be out classification. This is for training data.\n",
        "train_label = train_data['Personal Loan']\n",
        "\n",
        "# Initialize model\n",
        "scaler = preprocessing.StandardScaler()\n",
        "\n",
        "# Fit the training data\n",
        "scaler.fit(train_features)\n",
        "\n",
        "# Normalize the training data features\n",
        "train_norm_features = pd.DataFrame(scaler.transform(train_features), columns=train_features.columns)\n",
        "\n",
        "# Create a new data frame consisting of normalized data and concat classifier \"Personal Loan\" into new df.\n",
        "trainNorm = pd.concat([train_norm_features, train_label.reset_index(drop=True)], axis=1)\n",
        "\n",
        "#View normalized dataframe of training set\n",
        "trainNorm.head()"
      ]
    },
    {
      "cell_type": "code",
      "execution_count": null,
      "metadata": {
        "id": "5PBXNpwNDE5x",
        "outputId": "26f80ba8-0482-4148-9715-20bbc0892795"
      },
      "outputs": [
        {
          "data": {
            "text/html": [
              "<div>\n",
              "<style scoped>\n",
              "    .dataframe tbody tr th:only-of-type {\n",
              "        vertical-align: middle;\n",
              "    }\n",
              "\n",
              "    .dataframe tbody tr th {\n",
              "        vertical-align: top;\n",
              "    }\n",
              "\n",
              "    .dataframe thead th {\n",
              "        text-align: right;\n",
              "    }\n",
              "</style>\n",
              "<table border=\"1\" class=\"dataframe\">\n",
              "  <thead>\n",
              "    <tr style=\"text-align: right;\">\n",
              "      <th></th>\n",
              "      <th>Age</th>\n",
              "      <th>Experience</th>\n",
              "      <th>Income</th>\n",
              "      <th>Family</th>\n",
              "      <th>CCAvg</th>\n",
              "      <th>Education</th>\n",
              "      <th>Mortgage</th>\n",
              "      <th>Securities Account</th>\n",
              "      <th>CD Account</th>\n",
              "      <th>Online</th>\n",
              "      <th>CreditCard</th>\n",
              "      <th>Personal Loan</th>\n",
              "    </tr>\n",
              "  </thead>\n",
              "  <tbody>\n",
              "    <tr>\n",
              "      <th>0</th>\n",
              "      <td>0.928933</td>\n",
              "      <td>0.862514</td>\n",
              "      <td>1.495888</td>\n",
              "      <td>-0.340587</td>\n",
              "      <td>-0.811524</td>\n",
              "      <td>-1.039850</td>\n",
              "      <td>-0.547625</td>\n",
              "      <td>-0.346151</td>\n",
              "      <td>-0.248891</td>\n",
              "      <td>0.806328</td>\n",
              "      <td>-0.645314</td>\n",
              "      <td>0</td>\n",
              "    </tr>\n",
              "    <tr>\n",
              "      <th>1</th>\n",
              "      <td>1.015709</td>\n",
              "      <td>1.036174</td>\n",
              "      <td>-0.745659</td>\n",
              "      <td>1.400063</td>\n",
              "      <td>-0.581868</td>\n",
              "      <td>-1.039850</td>\n",
              "      <td>0.899019</td>\n",
              "      <td>-0.346151</td>\n",
              "      <td>-0.248891</td>\n",
              "      <td>-1.240190</td>\n",
              "      <td>-0.645314</td>\n",
              "      <td>0</td>\n",
              "    </tr>\n",
              "    <tr>\n",
              "      <th>2</th>\n",
              "      <td>-0.893355</td>\n",
              "      <td>-1.308243</td>\n",
              "      <td>0.177331</td>\n",
              "      <td>1.400063</td>\n",
              "      <td>1.197964</td>\n",
              "      <td>1.352443</td>\n",
              "      <td>-0.547625</td>\n",
              "      <td>-0.346151</td>\n",
              "      <td>-0.248891</td>\n",
              "      <td>0.806328</td>\n",
              "      <td>-0.645314</td>\n",
              "      <td>0</td>\n",
              "    </tr>\n",
              "    <tr>\n",
              "      <th>3</th>\n",
              "      <td>-0.719804</td>\n",
              "      <td>-0.700431</td>\n",
              "      <td>-0.987394</td>\n",
              "      <td>1.400063</td>\n",
              "      <td>-0.122556</td>\n",
              "      <td>-1.039850</td>\n",
              "      <td>-0.547625</td>\n",
              "      <td>2.888909</td>\n",
              "      <td>4.017817</td>\n",
              "      <td>0.806328</td>\n",
              "      <td>-0.645314</td>\n",
              "      <td>0</td>\n",
              "    </tr>\n",
              "    <tr>\n",
              "      <th>4</th>\n",
              "      <td>-1.761111</td>\n",
              "      <td>-1.742394</td>\n",
              "      <td>-0.635779</td>\n",
              "      <td>1.400063</td>\n",
              "      <td>-0.754110</td>\n",
              "      <td>0.156296</td>\n",
              "      <td>-0.547625</td>\n",
              "      <td>-0.346151</td>\n",
              "      <td>-0.248891</td>\n",
              "      <td>-1.240190</td>\n",
              "      <td>1.549632</td>\n",
              "      <td>0</td>\n",
              "    </tr>\n",
              "  </tbody>\n",
              "</table>\n",
              "</div>"
            ],
            "text/plain": [
              "        Age  Experience    Income    Family     CCAvg  Education  Mortgage  \\\n",
              "0  0.928933    0.862514  1.495888 -0.340587 -0.811524  -1.039850 -0.547625   \n",
              "1  1.015709    1.036174 -0.745659  1.400063 -0.581868  -1.039850  0.899019   \n",
              "2 -0.893355   -1.308243  0.177331  1.400063  1.197964   1.352443 -0.547625   \n",
              "3 -0.719804   -0.700431 -0.987394  1.400063 -0.122556  -1.039850 -0.547625   \n",
              "4 -1.761111   -1.742394 -0.635779  1.400063 -0.754110   0.156296 -0.547625   \n",
              "\n",
              "   Securities Account  CD Account    Online  CreditCard  Personal Loan  \n",
              "0           -0.346151   -0.248891  0.806328   -0.645314              0  \n",
              "1           -0.346151   -0.248891 -1.240190   -0.645314              0  \n",
              "2           -0.346151   -0.248891  0.806328   -0.645314              0  \n",
              "3            2.888909    4.017817  0.806328   -0.645314              0  \n",
              "4           -0.346151   -0.248891 -1.240190    1.549632              0  "
            ]
          },
          "execution_count": 372,
          "metadata": {},
          "output_type": "execute_result"
        }
      ],
      "source": [
        "# Create a variable \"test_features\", which will hold our predictors from our test data\n",
        "test_features = test_data.drop(columns = 'Personal Loan')\n",
        "\n",
        "# Create a variable \"test_label\", which holds out classifier \"Personal Loan\"\n",
        "test_label = test_data['Personal Loan']\n",
        "\n",
        "#Normalize predictors \"test_features\"\n",
        "test_norm_features = pd.DataFrame(scaler.transform(test_features), columns = test_features.columns)\n",
        "\n",
        "# Concat classifier \"Personal Loan\"\n",
        "validNorm = pd.concat([test_norm_features, test_label.reset_index(drop=True)], axis = 1)\n",
        "\n",
        "# View new data frame\n",
        "validNorm.head()"
      ]
    },
    {
      "cell_type": "markdown",
      "metadata": {
        "id": "ccDEr8yLDE5x"
      },
      "source": [
        "## More partitioning\n",
        "7. create 4 variables train_X, train_y, valid_X, valid_y representing training features, training label, validation features, and validation label respectively."
      ]
    },
    {
      "cell_type": "code",
      "execution_count": null,
      "metadata": {
        "id": "3WZby99HDE5x"
      },
      "outputs": [],
      "source": [
        "train_X = trainNorm.drop(columns = 'Personal Loan')\n",
        "train_y = trainNorm['Personal Loan']\n",
        "valid_X = validNorm.drop(columns = 'Personal Loan')\n",
        "valid_y = validNorm['Personal Loan']"
      ]
    },
    {
      "cell_type": "markdown",
      "metadata": {
        "id": "p4GDlYVpDE5x"
      },
      "source": [
        "## Run KNN\n",
        "8. Run KNN. Examine k values in range 1 to 15. Remeber that end index of range() function is excluded."
      ]
    },
    {
      "cell_type": "code",
      "execution_count": null,
      "metadata": {
        "id": "1xb5JmdWDE5x",
        "outputId": "c88e1ccc-7814-43ca-ee33-2325096e69ac"
      },
      "outputs": [
        {
          "data": {
            "text/html": [
              "<div>\n",
              "<style scoped>\n",
              "    .dataframe tbody tr th:only-of-type {\n",
              "        vertical-align: middle;\n",
              "    }\n",
              "\n",
              "    .dataframe tbody tr th {\n",
              "        vertical-align: top;\n",
              "    }\n",
              "\n",
              "    .dataframe thead th {\n",
              "        text-align: right;\n",
              "    }\n",
              "</style>\n",
              "<table border=\"1\" class=\"dataframe\">\n",
              "  <thead>\n",
              "    <tr style=\"text-align: right;\">\n",
              "      <th></th>\n",
              "      <th>k</th>\n",
              "      <th>accuracy</th>\n",
              "    </tr>\n",
              "  </thead>\n",
              "  <tbody>\n",
              "    <tr>\n",
              "      <th>0</th>\n",
              "      <td>1</td>\n",
              "      <td>0.9535</td>\n",
              "    </tr>\n",
              "    <tr>\n",
              "      <th>1</th>\n",
              "      <td>2</td>\n",
              "      <td>0.9425</td>\n",
              "    </tr>\n",
              "    <tr>\n",
              "      <th>2</th>\n",
              "      <td>3</td>\n",
              "      <td>0.9520</td>\n",
              "    </tr>\n",
              "    <tr>\n",
              "      <th>3</th>\n",
              "      <td>4</td>\n",
              "      <td>0.9445</td>\n",
              "    </tr>\n",
              "    <tr>\n",
              "      <th>4</th>\n",
              "      <td>5</td>\n",
              "      <td>0.9515</td>\n",
              "    </tr>\n",
              "    <tr>\n",
              "      <th>5</th>\n",
              "      <td>6</td>\n",
              "      <td>0.9430</td>\n",
              "    </tr>\n",
              "    <tr>\n",
              "      <th>6</th>\n",
              "      <td>7</td>\n",
              "      <td>0.9470</td>\n",
              "    </tr>\n",
              "    <tr>\n",
              "      <th>7</th>\n",
              "      <td>8</td>\n",
              "      <td>0.9420</td>\n",
              "    </tr>\n",
              "    <tr>\n",
              "      <th>8</th>\n",
              "      <td>9</td>\n",
              "      <td>0.9450</td>\n",
              "    </tr>\n",
              "    <tr>\n",
              "      <th>9</th>\n",
              "      <td>10</td>\n",
              "      <td>0.9385</td>\n",
              "    </tr>\n",
              "    <tr>\n",
              "      <th>10</th>\n",
              "      <td>11</td>\n",
              "      <td>0.9425</td>\n",
              "    </tr>\n",
              "    <tr>\n",
              "      <th>11</th>\n",
              "      <td>12</td>\n",
              "      <td>0.9355</td>\n",
              "    </tr>\n",
              "    <tr>\n",
              "      <th>12</th>\n",
              "      <td>13</td>\n",
              "      <td>0.9370</td>\n",
              "    </tr>\n",
              "    <tr>\n",
              "      <th>13</th>\n",
              "      <td>14</td>\n",
              "      <td>0.9310</td>\n",
              "    </tr>\n",
              "    <tr>\n",
              "      <th>14</th>\n",
              "      <td>15</td>\n",
              "      <td>0.9330</td>\n",
              "    </tr>\n",
              "  </tbody>\n",
              "</table>\n",
              "</div>"
            ],
            "text/plain": [
              "     k  accuracy\n",
              "0    1    0.9535\n",
              "1    2    0.9425\n",
              "2    3    0.9520\n",
              "3    4    0.9445\n",
              "4    5    0.9515\n",
              "5    6    0.9430\n",
              "6    7    0.9470\n",
              "7    8    0.9420\n",
              "8    9    0.9450\n",
              "9   10    0.9385\n",
              "10  11    0.9425\n",
              "11  12    0.9355\n",
              "12  13    0.9370\n",
              "13  14    0.9310\n",
              "14  15    0.9330"
            ]
          },
          "execution_count": 380,
          "metadata": {},
          "output_type": "execute_result"
        }
      ],
      "source": [
        "# Train classifier with different values of k (1-15)\n",
        "results = []\n",
        "for k in range(1,16):\n",
        "    knn = KNeighborsClassifier(n_neighbors = k).fit(train_X, train_y)\n",
        "    results.append({\n",
        "        'k':k,\n",
        "        'accuracy': accuracy_score(valid_y, knn.predict(valid_X))\n",
        "        })\n",
        "results = pd.DataFrame(results)\n",
        "results"
      ]
    },
    {
      "cell_type": "markdown",
      "metadata": {
        "id": "4SpEjlz0DE5y"
      },
      "source": [
        "## Select the best value for K\n",
        "9. Select the best value for K and write it below. Justify your selection."
      ]
    },
    {
      "cell_type": "code",
      "execution_count": null,
      "metadata": {
        "id": "KcwubS54DE5y",
        "outputId": "31337222-964d-4b69-aaec-2178a84df03a"
      },
      "outputs": [
        {
          "data": {
            "text/plain": [
              "k           1.0000\n",
              "accuracy    0.9535\n",
              "Name: 0, dtype: float64"
            ]
          },
          "execution_count": 382,
          "metadata": {},
          "output_type": "execute_result"
        }
      ],
      "source": [
        "results.loc[results['accuracy'].idxmax()]"
      ]
    },
    {
      "cell_type": "raw",
      "metadata": {
        "id": "9XY3DHsDDE5y"
      },
      "source": [
        "The best value for k is 1. This is because it has the highest accuracy."
      ]
    }
  ],
  "metadata": {
    "kernelspec": {
      "display_name": "anaconda-2022.05-py39",
      "language": "python",
      "name": "conda-env-anaconda-2022.05-py39-py"
    },
    "language_info": {
      "codemirror_mode": {
        "name": "ipython",
        "version": 3
      },
      "file_extension": ".py",
      "mimetype": "text/x-python",
      "name": "python",
      "nbconvert_exporter": "python",
      "pygments_lexer": "ipython3",
      "version": "3.9.12"
    },
    "colab": {
      "provenance": [],
      "include_colab_link": true
    }
  },
  "nbformat": 4,
  "nbformat_minor": 0
}