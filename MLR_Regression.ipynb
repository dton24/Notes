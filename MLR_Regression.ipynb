{
  "cells": [
    {
      "cell_type": "markdown",
      "metadata": {
        "id": "view-in-github",
        "colab_type": "text"
      },
      "source": [
        "<a href=\"https://colab.research.google.com/github/dton24/Notes/blob/main/MLR_Regression.ipynb\" target=\"_parent\"><img src=\"https://colab.research.google.com/assets/colab-badge.svg\" alt=\"Open In Colab\"/></a>"
      ]
    },
    {
      "cell_type": "markdown",
      "metadata": {
        "id": "5bS2zt4mA9pO"
      },
      "source": [
        "# CIS 4321 - Regression Assignment\n",
        "# Dr. Mohammad Salehan"
      ]
    },
    {
      "cell_type": "markdown",
      "metadata": {
        "id": "_k1zo0_tA9pP"
      },
      "source": [
        "In this assignment you Mutiple Regression Analysis on a flight dataset. There are 9 questions which you need to answer. The first 2 questions require writing code. The rest of the questions should be answered in English."
      ]
    },
    {
      "cell_type": "markdown",
      "metadata": {
        "id": "16h5q_TAA9pP"
      },
      "source": [
        "Enter your name below."
      ]
    },
    {
      "cell_type": "raw",
      "metadata": {
        "id": "TGUewMicA9pP"
      },
      "source": [
        "Dylan Ton"
      ]
    },
    {
      "cell_type": "markdown",
      "metadata": {
        "id": "SRT7UtfdA9pP"
      },
      "source": [
        "## Import required packages"
      ]
    },
    {
      "cell_type": "code",
      "execution_count": null,
      "metadata": {
        "id": "fS2-KoRAA9pQ",
        "outputId": "b8e0c9fc-17af-4b7f-819b-cb6a3cc366cd"
      },
      "outputs": [
        {
          "name": "stdout",
          "output_type": "stream",
          "text": [
            "no display found. Using non-interactive Agg backend\n"
          ]
        }
      ],
      "source": [
        "%matplotlib inline\n",
        "from pathlib import Path\n",
        "\n",
        "import pandas as pd\n",
        "\n",
        "from sklearn.model_selection import train_test_split\n",
        "from sklearn.linear_model import LinearRegression, Lasso, Ridge, LassoCV, BayesianRidge\n",
        "import statsmodels.formula.api as sm\n",
        "import matplotlib.pylab as plt\n",
        "\n",
        "from dmba import regressionSummary, exhaustive_search\n",
        "from dmba import backward_elimination, forward_selection, stepwise_selection\n",
        "from dmba import adjusted_r2_score, AIC_score, BIC_score\n"
      ]
    },
    {
      "cell_type": "markdown",
      "metadata": {
        "id": "BIA1v5DoA9pR"
      },
      "source": [
        "## Load the dataset"
      ]
    },
    {
      "cell_type": "code",
      "execution_count": null,
      "metadata": {
        "id": "Ugp-ES2oA9pR",
        "outputId": "964c80c0-fae6-42ef-f1de-d4b8de1bfbc8"
      },
      "outputs": [
        {
          "data": {
            "text/plain": [
              "(638, 18)"
            ]
          },
          "execution_count": 10,
          "metadata": {},
          "output_type": "execute_result"
        }
      ],
      "source": [
        "flight_df = pd.read_excel('Airfares.xlsx', sheet_name='data')\n",
        "flight_df.shape"
      ]
    },
    {
      "cell_type": "code",
      "execution_count": null,
      "metadata": {
        "id": "fD5YqCquA9pR",
        "outputId": "1e97555f-f0fe-4130-8a1b-bab8cb7965fb"
      },
      "outputs": [
        {
          "data": {
            "text/html": [
              "<div>\n",
              "<style scoped>\n",
              "    .dataframe tbody tr th:only-of-type {\n",
              "        vertical-align: middle;\n",
              "    }\n",
              "\n",
              "    .dataframe tbody tr th {\n",
              "        vertical-align: top;\n",
              "    }\n",
              "\n",
              "    .dataframe thead th {\n",
              "        text-align: right;\n",
              "    }\n",
              "</style>\n",
              "<table border=\"1\" class=\"dataframe\">\n",
              "  <thead>\n",
              "    <tr style=\"text-align: right;\">\n",
              "      <th></th>\n",
              "      <th>S_CODE</th>\n",
              "      <th>S_CITY</th>\n",
              "      <th>E_CODE</th>\n",
              "      <th>E_CITY</th>\n",
              "      <th>COUPON</th>\n",
              "      <th>NEW</th>\n",
              "      <th>VACATION</th>\n",
              "      <th>SW</th>\n",
              "      <th>HI</th>\n",
              "      <th>S_INCOME</th>\n",
              "      <th>E_INCOME</th>\n",
              "      <th>S_POP</th>\n",
              "      <th>E_POP</th>\n",
              "      <th>SLOT</th>\n",
              "      <th>GATE</th>\n",
              "      <th>DISTANCE</th>\n",
              "      <th>PAX</th>\n",
              "      <th>FARE</th>\n",
              "    </tr>\n",
              "  </thead>\n",
              "  <tbody>\n",
              "    <tr>\n",
              "      <th>0</th>\n",
              "      <td>*</td>\n",
              "      <td>Dallas/Fort Worth   TX</td>\n",
              "      <td>*</td>\n",
              "      <td>Amarillo            TX</td>\n",
              "      <td>1.00</td>\n",
              "      <td>3</td>\n",
              "      <td>No</td>\n",
              "      <td>Yes</td>\n",
              "      <td>5291.991341</td>\n",
              "      <td>28637</td>\n",
              "      <td>21112</td>\n",
              "      <td>3036732</td>\n",
              "      <td>205711</td>\n",
              "      <td>Free</td>\n",
              "      <td>Free</td>\n",
              "      <td>312</td>\n",
              "      <td>7864</td>\n",
              "      <td>64.11</td>\n",
              "    </tr>\n",
              "    <tr>\n",
              "      <th>1</th>\n",
              "      <td>*</td>\n",
              "      <td>Atlanta             GA</td>\n",
              "      <td>*</td>\n",
              "      <td>Baltimore/Wash Intl MD</td>\n",
              "      <td>1.06</td>\n",
              "      <td>3</td>\n",
              "      <td>No</td>\n",
              "      <td>No</td>\n",
              "      <td>5419.160907</td>\n",
              "      <td>26993</td>\n",
              "      <td>29838</td>\n",
              "      <td>3532657</td>\n",
              "      <td>7145897</td>\n",
              "      <td>Free</td>\n",
              "      <td>Free</td>\n",
              "      <td>576</td>\n",
              "      <td>8820</td>\n",
              "      <td>174.47</td>\n",
              "    </tr>\n",
              "    <tr>\n",
              "      <th>2</th>\n",
              "      <td>*</td>\n",
              "      <td>Boston              MA</td>\n",
              "      <td>*</td>\n",
              "      <td>Baltimore/Wash Intl MD</td>\n",
              "      <td>1.06</td>\n",
              "      <td>3</td>\n",
              "      <td>No</td>\n",
              "      <td>No</td>\n",
              "      <td>9185.283234</td>\n",
              "      <td>30124</td>\n",
              "      <td>29838</td>\n",
              "      <td>5787293</td>\n",
              "      <td>7145897</td>\n",
              "      <td>Free</td>\n",
              "      <td>Free</td>\n",
              "      <td>364</td>\n",
              "      <td>6452</td>\n",
              "      <td>207.76</td>\n",
              "    </tr>\n",
              "    <tr>\n",
              "      <th>3</th>\n",
              "      <td>ORD</td>\n",
              "      <td>Chicago             IL</td>\n",
              "      <td>*</td>\n",
              "      <td>Baltimore/Wash Intl MD</td>\n",
              "      <td>1.06</td>\n",
              "      <td>3</td>\n",
              "      <td>No</td>\n",
              "      <td>Yes</td>\n",
              "      <td>2657.351987</td>\n",
              "      <td>29260</td>\n",
              "      <td>29838</td>\n",
              "      <td>7830332</td>\n",
              "      <td>7145897</td>\n",
              "      <td>Controlled</td>\n",
              "      <td>Free</td>\n",
              "      <td>612</td>\n",
              "      <td>25144</td>\n",
              "      <td>85.47</td>\n",
              "    </tr>\n",
              "    <tr>\n",
              "      <th>4</th>\n",
              "      <td>MDW</td>\n",
              "      <td>Chicago             IL</td>\n",
              "      <td>*</td>\n",
              "      <td>Baltimore/Wash Intl MD</td>\n",
              "      <td>1.06</td>\n",
              "      <td>3</td>\n",
              "      <td>No</td>\n",
              "      <td>Yes</td>\n",
              "      <td>2657.351987</td>\n",
              "      <td>29260</td>\n",
              "      <td>29838</td>\n",
              "      <td>7830332</td>\n",
              "      <td>7145897</td>\n",
              "      <td>Free</td>\n",
              "      <td>Free</td>\n",
              "      <td>612</td>\n",
              "      <td>25144</td>\n",
              "      <td>85.47</td>\n",
              "    </tr>\n",
              "  </tbody>\n",
              "</table>\n",
              "</div>"
            ],
            "text/plain": [
              "  S_CODE                  S_CITY E_CODE                  E_CITY  COUPON  NEW  \\\n",
              "0      *  Dallas/Fort Worth   TX      *  Amarillo            TX    1.00    3   \n",
              "1      *  Atlanta             GA      *  Baltimore/Wash Intl MD    1.06    3   \n",
              "2      *  Boston              MA      *  Baltimore/Wash Intl MD    1.06    3   \n",
              "3    ORD  Chicago             IL      *  Baltimore/Wash Intl MD    1.06    3   \n",
              "4    MDW  Chicago             IL      *  Baltimore/Wash Intl MD    1.06    3   \n",
              "\n",
              "  VACATION   SW           HI  S_INCOME  E_INCOME    S_POP    E_POP  \\\n",
              "0       No  Yes  5291.991341     28637     21112  3036732   205711   \n",
              "1       No   No  5419.160907     26993     29838  3532657  7145897   \n",
              "2       No   No  9185.283234     30124     29838  5787293  7145897   \n",
              "3       No  Yes  2657.351987     29260     29838  7830332  7145897   \n",
              "4       No  Yes  2657.351987     29260     29838  7830332  7145897   \n",
              "\n",
              "         SLOT  GATE  DISTANCE    PAX    FARE  \n",
              "0        Free  Free       312   7864   64.11  \n",
              "1        Free  Free       576   8820  174.47  \n",
              "2        Free  Free       364   6452  207.76  \n",
              "3  Controlled  Free       612  25144   85.47  \n",
              "4        Free  Free       612  25144   85.47  "
            ]
          },
          "execution_count": 11,
          "metadata": {},
          "output_type": "execute_result"
        }
      ],
      "source": [
        "# Explore data\n",
        "flight_df.head()"
      ]
    },
    {
      "cell_type": "markdown",
      "metadata": {
        "id": "J9LJopG3A9pR"
      },
      "source": [
        "## Preprocessing\n",
        "1.Conduct preprocessing below using FARE as dependent variable and the following variables as independent variables: COUPON,\tNEW,\tVACATION,\tSW,\tHI,\tS_INCOME,\tE_INCOME,\tS_POP,\tE_POP,\tSLOT,\tGATE,\tDISTANCE,\tPAX. At the end of preprocessing, all independent variables should be in a dataframe named X and the dependent variable should be in a Series object(i.e., single-dimension dataframe) named y."
      ]
    },
    {
      "cell_type": "code",
      "execution_count": null,
      "metadata": {
        "id": "qC-bDKH7A9pR"
      },
      "outputs": [],
      "source": [
        "y = flight_df['FARE']\n",
        "X = flight_df[['COUPON', 'NEW', 'VACATION', 'SW', 'HI', 'S_INCOME', 'E_INCOME', 'S_POP', 'E_POP', 'SLOT', 'GATE', 'DISTANCE', 'PAX']]"
      ]
    },
    {
      "cell_type": "code",
      "execution_count": null,
      "metadata": {
        "id": "Ih6styl9A9pR",
        "outputId": "18210e1f-f785-4976-fff4-a88cc961ce34"
      },
      "outputs": [
        {
          "data": {
            "text/html": [
              "<div>\n",
              "<style scoped>\n",
              "    .dataframe tbody tr th:only-of-type {\n",
              "        vertical-align: middle;\n",
              "    }\n",
              "\n",
              "    .dataframe tbody tr th {\n",
              "        vertical-align: top;\n",
              "    }\n",
              "\n",
              "    .dataframe thead th {\n",
              "        text-align: right;\n",
              "    }\n",
              "</style>\n",
              "<table border=\"1\" class=\"dataframe\">\n",
              "  <thead>\n",
              "    <tr style=\"text-align: right;\">\n",
              "      <th></th>\n",
              "      <th>COUPON</th>\n",
              "      <th>NEW</th>\n",
              "      <th>VACATION</th>\n",
              "      <th>SW</th>\n",
              "      <th>HI</th>\n",
              "      <th>S_INCOME</th>\n",
              "      <th>E_INCOME</th>\n",
              "      <th>S_POP</th>\n",
              "      <th>E_POP</th>\n",
              "      <th>SLOT</th>\n",
              "      <th>GATE</th>\n",
              "      <th>DISTANCE</th>\n",
              "      <th>PAX</th>\n",
              "    </tr>\n",
              "  </thead>\n",
              "  <tbody>\n",
              "    <tr>\n",
              "      <th>0</th>\n",
              "      <td>1.00</td>\n",
              "      <td>3</td>\n",
              "      <td>No</td>\n",
              "      <td>Yes</td>\n",
              "      <td>5291.991341</td>\n",
              "      <td>28637</td>\n",
              "      <td>21112</td>\n",
              "      <td>3036732</td>\n",
              "      <td>205711</td>\n",
              "      <td>Free</td>\n",
              "      <td>Free</td>\n",
              "      <td>312</td>\n",
              "      <td>7864</td>\n",
              "    </tr>\n",
              "    <tr>\n",
              "      <th>1</th>\n",
              "      <td>1.06</td>\n",
              "      <td>3</td>\n",
              "      <td>No</td>\n",
              "      <td>No</td>\n",
              "      <td>5419.160907</td>\n",
              "      <td>26993</td>\n",
              "      <td>29838</td>\n",
              "      <td>3532657</td>\n",
              "      <td>7145897</td>\n",
              "      <td>Free</td>\n",
              "      <td>Free</td>\n",
              "      <td>576</td>\n",
              "      <td>8820</td>\n",
              "    </tr>\n",
              "    <tr>\n",
              "      <th>2</th>\n",
              "      <td>1.06</td>\n",
              "      <td>3</td>\n",
              "      <td>No</td>\n",
              "      <td>No</td>\n",
              "      <td>9185.283234</td>\n",
              "      <td>30124</td>\n",
              "      <td>29838</td>\n",
              "      <td>5787293</td>\n",
              "      <td>7145897</td>\n",
              "      <td>Free</td>\n",
              "      <td>Free</td>\n",
              "      <td>364</td>\n",
              "      <td>6452</td>\n",
              "    </tr>\n",
              "    <tr>\n",
              "      <th>3</th>\n",
              "      <td>1.06</td>\n",
              "      <td>3</td>\n",
              "      <td>No</td>\n",
              "      <td>Yes</td>\n",
              "      <td>2657.351987</td>\n",
              "      <td>29260</td>\n",
              "      <td>29838</td>\n",
              "      <td>7830332</td>\n",
              "      <td>7145897</td>\n",
              "      <td>Controlled</td>\n",
              "      <td>Free</td>\n",
              "      <td>612</td>\n",
              "      <td>25144</td>\n",
              "    </tr>\n",
              "    <tr>\n",
              "      <th>4</th>\n",
              "      <td>1.06</td>\n",
              "      <td>3</td>\n",
              "      <td>No</td>\n",
              "      <td>Yes</td>\n",
              "      <td>2657.351987</td>\n",
              "      <td>29260</td>\n",
              "      <td>29838</td>\n",
              "      <td>7830332</td>\n",
              "      <td>7145897</td>\n",
              "      <td>Free</td>\n",
              "      <td>Free</td>\n",
              "      <td>612</td>\n",
              "      <td>25144</td>\n",
              "    </tr>\n",
              "  </tbody>\n",
              "</table>\n",
              "</div>"
            ],
            "text/plain": [
              "   COUPON  NEW VACATION   SW           HI  S_INCOME  E_INCOME    S_POP  \\\n",
              "0    1.00    3       No  Yes  5291.991341     28637     21112  3036732   \n",
              "1    1.06    3       No   No  5419.160907     26993     29838  3532657   \n",
              "2    1.06    3       No   No  9185.283234     30124     29838  5787293   \n",
              "3    1.06    3       No  Yes  2657.351987     29260     29838  7830332   \n",
              "4    1.06    3       No  Yes  2657.351987     29260     29838  7830332   \n",
              "\n",
              "     E_POP        SLOT  GATE  DISTANCE    PAX  \n",
              "0   205711        Free  Free       312   7864  \n",
              "1  7145897        Free  Free       576   8820  \n",
              "2  7145897        Free  Free       364   6452  \n",
              "3  7145897  Controlled  Free       612  25144  \n",
              "4  7145897        Free  Free       612  25144  "
            ]
          },
          "execution_count": 112,
          "metadata": {},
          "output_type": "execute_result"
        }
      ],
      "source": [
        "X.head()"
      ]
    },
    {
      "cell_type": "code",
      "execution_count": null,
      "metadata": {
        "id": "2r8K391tA9pR",
        "outputId": "032ad99d-bade-4e82-8498-78ff344f6340"
      },
      "outputs": [
        {
          "data": {
            "text/plain": [
              "array([3, 2, 1, 0])"
            ]
          },
          "execution_count": 114,
          "metadata": {},
          "output_type": "execute_result"
        }
      ],
      "source": [
        "# NEW column appears to be categorical\n",
        "flight_df['NEW'].unique()"
      ]
    },
    {
      "cell_type": "code",
      "execution_count": null,
      "metadata": {
        "id": "eaedSfF5A9pR"
      },
      "outputs": [],
      "source": [
        "# Create Dummies for categorical columns SLOT, GATE, VACATION, SW, NEW\n",
        "X = pd.get_dummies(X, columns = ['SLOT', 'GATE', 'VACATION', 'SW', 'NEW'])"
      ]
    },
    {
      "cell_type": "code",
      "execution_count": null,
      "metadata": {
        "id": "apqc0m9FA9pS",
        "outputId": "24f28f95-f7f5-42b6-9c1a-e0a72be57f11"
      },
      "outputs": [
        {
          "data": {
            "text/html": [
              "<div>\n",
              "<style scoped>\n",
              "    .dataframe tbody tr th:only-of-type {\n",
              "        vertical-align: middle;\n",
              "    }\n",
              "\n",
              "    .dataframe tbody tr th {\n",
              "        vertical-align: top;\n",
              "    }\n",
              "\n",
              "    .dataframe thead th {\n",
              "        text-align: right;\n",
              "    }\n",
              "</style>\n",
              "<table border=\"1\" class=\"dataframe\">\n",
              "  <thead>\n",
              "    <tr style=\"text-align: right;\">\n",
              "      <th></th>\n",
              "      <th>COUPON</th>\n",
              "      <th>HI</th>\n",
              "      <th>S_INCOME</th>\n",
              "      <th>E_INCOME</th>\n",
              "      <th>S_POP</th>\n",
              "      <th>E_POP</th>\n",
              "      <th>DISTANCE</th>\n",
              "      <th>PAX</th>\n",
              "      <th>SLOT_Controlled</th>\n",
              "      <th>SLOT_Free</th>\n",
              "      <th>GATE_Constrained</th>\n",
              "      <th>GATE_Free</th>\n",
              "      <th>VACATION_No</th>\n",
              "      <th>VACATION_Yes</th>\n",
              "      <th>SW_No</th>\n",
              "      <th>SW_Yes</th>\n",
              "      <th>NEW_0</th>\n",
              "      <th>NEW_1</th>\n",
              "      <th>NEW_2</th>\n",
              "      <th>NEW_3</th>\n",
              "    </tr>\n",
              "  </thead>\n",
              "  <tbody>\n",
              "    <tr>\n",
              "      <th>0</th>\n",
              "      <td>1.00</td>\n",
              "      <td>5291.991341</td>\n",
              "      <td>28637</td>\n",
              "      <td>21112</td>\n",
              "      <td>3036732</td>\n",
              "      <td>205711</td>\n",
              "      <td>312</td>\n",
              "      <td>7864</td>\n",
              "      <td>0</td>\n",
              "      <td>1</td>\n",
              "      <td>0</td>\n",
              "      <td>1</td>\n",
              "      <td>1</td>\n",
              "      <td>0</td>\n",
              "      <td>0</td>\n",
              "      <td>1</td>\n",
              "      <td>0</td>\n",
              "      <td>0</td>\n",
              "      <td>0</td>\n",
              "      <td>1</td>\n",
              "    </tr>\n",
              "    <tr>\n",
              "      <th>1</th>\n",
              "      <td>1.06</td>\n",
              "      <td>5419.160907</td>\n",
              "      <td>26993</td>\n",
              "      <td>29838</td>\n",
              "      <td>3532657</td>\n",
              "      <td>7145897</td>\n",
              "      <td>576</td>\n",
              "      <td>8820</td>\n",
              "      <td>0</td>\n",
              "      <td>1</td>\n",
              "      <td>0</td>\n",
              "      <td>1</td>\n",
              "      <td>1</td>\n",
              "      <td>0</td>\n",
              "      <td>1</td>\n",
              "      <td>0</td>\n",
              "      <td>0</td>\n",
              "      <td>0</td>\n",
              "      <td>0</td>\n",
              "      <td>1</td>\n",
              "    </tr>\n",
              "    <tr>\n",
              "      <th>2</th>\n",
              "      <td>1.06</td>\n",
              "      <td>9185.283234</td>\n",
              "      <td>30124</td>\n",
              "      <td>29838</td>\n",
              "      <td>5787293</td>\n",
              "      <td>7145897</td>\n",
              "      <td>364</td>\n",
              "      <td>6452</td>\n",
              "      <td>0</td>\n",
              "      <td>1</td>\n",
              "      <td>0</td>\n",
              "      <td>1</td>\n",
              "      <td>1</td>\n",
              "      <td>0</td>\n",
              "      <td>1</td>\n",
              "      <td>0</td>\n",
              "      <td>0</td>\n",
              "      <td>0</td>\n",
              "      <td>0</td>\n",
              "      <td>1</td>\n",
              "    </tr>\n",
              "    <tr>\n",
              "      <th>3</th>\n",
              "      <td>1.06</td>\n",
              "      <td>2657.351987</td>\n",
              "      <td>29260</td>\n",
              "      <td>29838</td>\n",
              "      <td>7830332</td>\n",
              "      <td>7145897</td>\n",
              "      <td>612</td>\n",
              "      <td>25144</td>\n",
              "      <td>1</td>\n",
              "      <td>0</td>\n",
              "      <td>0</td>\n",
              "      <td>1</td>\n",
              "      <td>1</td>\n",
              "      <td>0</td>\n",
              "      <td>0</td>\n",
              "      <td>1</td>\n",
              "      <td>0</td>\n",
              "      <td>0</td>\n",
              "      <td>0</td>\n",
              "      <td>1</td>\n",
              "    </tr>\n",
              "    <tr>\n",
              "      <th>4</th>\n",
              "      <td>1.06</td>\n",
              "      <td>2657.351987</td>\n",
              "      <td>29260</td>\n",
              "      <td>29838</td>\n",
              "      <td>7830332</td>\n",
              "      <td>7145897</td>\n",
              "      <td>612</td>\n",
              "      <td>25144</td>\n",
              "      <td>0</td>\n",
              "      <td>1</td>\n",
              "      <td>0</td>\n",
              "      <td>1</td>\n",
              "      <td>1</td>\n",
              "      <td>0</td>\n",
              "      <td>0</td>\n",
              "      <td>1</td>\n",
              "      <td>0</td>\n",
              "      <td>0</td>\n",
              "      <td>0</td>\n",
              "      <td>1</td>\n",
              "    </tr>\n",
              "  </tbody>\n",
              "</table>\n",
              "</div>"
            ],
            "text/plain": [
              "   COUPON           HI  S_INCOME  E_INCOME    S_POP    E_POP  DISTANCE    PAX  \\\n",
              "0    1.00  5291.991341     28637     21112  3036732   205711       312   7864   \n",
              "1    1.06  5419.160907     26993     29838  3532657  7145897       576   8820   \n",
              "2    1.06  9185.283234     30124     29838  5787293  7145897       364   6452   \n",
              "3    1.06  2657.351987     29260     29838  7830332  7145897       612  25144   \n",
              "4    1.06  2657.351987     29260     29838  7830332  7145897       612  25144   \n",
              "\n",
              "   SLOT_Controlled  SLOT_Free  GATE_Constrained  GATE_Free  VACATION_No  \\\n",
              "0                0          1                 0          1            1   \n",
              "1                0          1                 0          1            1   \n",
              "2                0          1                 0          1            1   \n",
              "3                1          0                 0          1            1   \n",
              "4                0          1                 0          1            1   \n",
              "\n",
              "   VACATION_Yes  SW_No  SW_Yes  NEW_0  NEW_1  NEW_2  NEW_3  \n",
              "0             0      0       1      0      0      0      1  \n",
              "1             0      1       0      0      0      0      1  \n",
              "2             0      1       0      0      0      0      1  \n",
              "3             0      0       1      0      0      0      1  \n",
              "4             0      0       1      0      0      0      1  "
            ]
          },
          "execution_count": 118,
          "metadata": {},
          "output_type": "execute_result"
        }
      ],
      "source": [
        "X.head()"
      ]
    },
    {
      "cell_type": "code",
      "execution_count": null,
      "metadata": {
        "id": "24JgbS-yA9pS"
      },
      "outputs": [],
      "source": [
        "# Avoid overfitting and minimize risk of multicollinearity by getting rid of one dummy column for each original categorical column\n",
        "X = X.drop(columns = ['SLOT_Controlled', 'GATE_Constrained', 'VACATION_No', 'SW_No', 'NEW_0'])"
      ]
    },
    {
      "cell_type": "code",
      "execution_count": null,
      "metadata": {
        "id": "HgD2MpkTA9pS",
        "outputId": "247b4a5f-e85a-41fd-d23b-2f70dd2341ab"
      },
      "outputs": [
        {
          "name": "stdout",
          "output_type": "stream",
          "text": [
            "<class 'pandas.core.frame.DataFrame'>\n",
            "RangeIndex: 638 entries, 0 to 637\n",
            "Data columns (total 15 columns):\n",
            " #   Column        Non-Null Count  Dtype  \n",
            "---  ------        --------------  -----  \n",
            " 0   COUPON        638 non-null    float64\n",
            " 1   HI            638 non-null    float64\n",
            " 2   S_INCOME      638 non-null    int64  \n",
            " 3   E_INCOME      638 non-null    int64  \n",
            " 4   S_POP         638 non-null    int64  \n",
            " 5   E_POP         638 non-null    int64  \n",
            " 6   DISTANCE      638 non-null    int64  \n",
            " 7   PAX           638 non-null    int64  \n",
            " 8   SLOT_Free     638 non-null    uint8  \n",
            " 9   GATE_Free     638 non-null    uint8  \n",
            " 10  VACATION_Yes  638 non-null    uint8  \n",
            " 11  SW_Yes        638 non-null    uint8  \n",
            " 12  NEW_1         638 non-null    uint8  \n",
            " 13  NEW_2         638 non-null    uint8  \n",
            " 14  NEW_3         638 non-null    uint8  \n",
            "dtypes: float64(2), int64(6), uint8(7)\n",
            "memory usage: 44.4 KB\n"
          ]
        }
      ],
      "source": [
        "# Check to make sure selected columns were dropped\n",
        "X.info()"
      ]
    },
    {
      "cell_type": "markdown",
      "metadata": {
        "id": "-leJN0pZA9pS"
      },
      "source": [
        "2. Check the missing values. Drop them if needed."
      ]
    },
    {
      "cell_type": "code",
      "execution_count": null,
      "metadata": {
        "id": "xmrYtMgiA9pS",
        "outputId": "321dfdde-69fa-4108-c625-82a8e1f5246a"
      },
      "outputs": [
        {
          "data": {
            "text/plain": [
              "0"
            ]
          },
          "execution_count": 125,
          "metadata": {},
          "output_type": "execute_result"
        }
      ],
      "source": [
        "y.isnull().sum()"
      ]
    },
    {
      "cell_type": "code",
      "execution_count": null,
      "metadata": {
        "id": "jivtiL3uA9pS",
        "outputId": "9b111256-0df2-4ce1-f5ee-262fb4783325"
      },
      "outputs": [
        {
          "data": {
            "text/plain": [
              "COUPON          0\n",
              "HI              0\n",
              "S_INCOME        0\n",
              "E_INCOME        0\n",
              "S_POP           0\n",
              "E_POP           0\n",
              "DISTANCE        0\n",
              "PAX             0\n",
              "SLOT_Free       0\n",
              "GATE_Free       0\n",
              "VACATION_Yes    0\n",
              "SW_Yes          0\n",
              "NEW_1           0\n",
              "NEW_2           0\n",
              "NEW_3           0\n",
              "dtype: int64"
            ]
          },
          "execution_count": 127,
          "metadata": {},
          "output_type": "execute_result"
        }
      ],
      "source": [
        "X.isnull().sum()"
      ]
    },
    {
      "cell_type": "markdown",
      "metadata": {
        "id": "wAnQLaLhA9pS"
      },
      "source": [
        "## Partition data"
      ]
    },
    {
      "cell_type": "code",
      "execution_count": null,
      "metadata": {
        "id": "gywJU_uOA9pS"
      },
      "outputs": [],
      "source": [
        "train_X, valid_X, train_y, valid_y = train_test_split(X, y, test_size=0.4, random_state=1)"
      ]
    },
    {
      "cell_type": "code",
      "execution_count": null,
      "metadata": {
        "id": "ve_uU4swA9pS",
        "outputId": "ef4b144b-b210-4eec-a4d1-f6cf48e1eb81"
      },
      "outputs": [
        {
          "data": {
            "text/plain": [
              "101    240.88\n",
              "619    347.82\n",
              "616    279.83\n",
              "446    128.36\n",
              "522    289.25\n",
              "Name: FARE, dtype: float64"
            ]
          },
          "execution_count": 132,
          "metadata": {},
          "output_type": "execute_result"
        }
      ],
      "source": [
        "# Taking a look at valid_y values\n",
        "valid_y.head()"
      ]
    },
    {
      "cell_type": "code",
      "execution_count": null,
      "metadata": {
        "id": "SPQcFg7oA9pS",
        "outputId": "6a1a20cd-94f1-413c-aac1-322bbcbc1bcb"
      },
      "outputs": [
        {
          "data": {
            "text/html": [
              "<div>\n",
              "<style scoped>\n",
              "    .dataframe tbody tr th:only-of-type {\n",
              "        vertical-align: middle;\n",
              "    }\n",
              "\n",
              "    .dataframe tbody tr th {\n",
              "        vertical-align: top;\n",
              "    }\n",
              "\n",
              "    .dataframe thead th {\n",
              "        text-align: right;\n",
              "    }\n",
              "</style>\n",
              "<table border=\"1\" class=\"dataframe\">\n",
              "  <thead>\n",
              "    <tr style=\"text-align: right;\">\n",
              "      <th></th>\n",
              "      <th>COUPON</th>\n",
              "      <th>HI</th>\n",
              "      <th>S_INCOME</th>\n",
              "      <th>E_INCOME</th>\n",
              "      <th>S_POP</th>\n",
              "      <th>E_POP</th>\n",
              "      <th>DISTANCE</th>\n",
              "      <th>PAX</th>\n",
              "      <th>SLOT_Free</th>\n",
              "      <th>GATE_Free</th>\n",
              "      <th>VACATION_Yes</th>\n",
              "      <th>SW_Yes</th>\n",
              "      <th>NEW_1</th>\n",
              "      <th>NEW_2</th>\n",
              "      <th>NEW_3</th>\n",
              "    </tr>\n",
              "  </thead>\n",
              "  <tbody>\n",
              "    <tr>\n",
              "      <th>101</th>\n",
              "      <td>1.13</td>\n",
              "      <td>4146.133542</td>\n",
              "      <td>29260</td>\n",
              "      <td>30268</td>\n",
              "      <td>7830332</td>\n",
              "      <td>1106780</td>\n",
              "      <td>779</td>\n",
              "      <td>6614</td>\n",
              "      <td>0</td>\n",
              "      <td>1</td>\n",
              "      <td>0</td>\n",
              "      <td>0</td>\n",
              "      <td>0</td>\n",
              "      <td>0</td>\n",
              "      <td>1</td>\n",
              "    </tr>\n",
              "    <tr>\n",
              "      <th>619</th>\n",
              "      <td>1.37</td>\n",
              "      <td>6865.767169</td>\n",
              "      <td>38813</td>\n",
              "      <td>31981</td>\n",
              "      <td>1653017</td>\n",
              "      <td>4549784</td>\n",
              "      <td>2428</td>\n",
              "      <td>17938</td>\n",
              "      <td>1</td>\n",
              "      <td>1</td>\n",
              "      <td>0</td>\n",
              "      <td>0</td>\n",
              "      <td>0</td>\n",
              "      <td>0</td>\n",
              "      <td>1</td>\n",
              "    </tr>\n",
              "    <tr>\n",
              "      <th>616</th>\n",
              "      <td>1.58</td>\n",
              "      <td>2295.226844</td>\n",
              "      <td>23025</td>\n",
              "      <td>31981</td>\n",
              "      <td>2753373</td>\n",
              "      <td>4549784</td>\n",
              "      <td>1970</td>\n",
              "      <td>5190</td>\n",
              "      <td>0</td>\n",
              "      <td>1</td>\n",
              "      <td>0</td>\n",
              "      <td>0</td>\n",
              "      <td>0</td>\n",
              "      <td>0</td>\n",
              "      <td>1</td>\n",
              "    </tr>\n",
              "    <tr>\n",
              "      <th>446</th>\n",
              "      <td>1.28</td>\n",
              "      <td>3262.148046</td>\n",
              "      <td>29260</td>\n",
              "      <td>21276</td>\n",
              "      <td>7830332</td>\n",
              "      <td>1481709</td>\n",
              "      <td>1038</td>\n",
              "      <td>6233</td>\n",
              "      <td>0</td>\n",
              "      <td>1</td>\n",
              "      <td>0</td>\n",
              "      <td>1</td>\n",
              "      <td>0</td>\n",
              "      <td>0</td>\n",
              "      <td>1</td>\n",
              "    </tr>\n",
              "    <tr>\n",
              "      <th>522</th>\n",
              "      <td>1.52</td>\n",
              "      <td>2019.980267</td>\n",
              "      <td>32991</td>\n",
              "      <td>30916</td>\n",
              "      <td>8621121</td>\n",
              "      <td>2230831</td>\n",
              "      <td>2411</td>\n",
              "      <td>10125</td>\n",
              "      <td>0</td>\n",
              "      <td>1</td>\n",
              "      <td>0</td>\n",
              "      <td>0</td>\n",
              "      <td>0</td>\n",
              "      <td>0</td>\n",
              "      <td>1</td>\n",
              "    </tr>\n",
              "  </tbody>\n",
              "</table>\n",
              "</div>"
            ],
            "text/plain": [
              "     COUPON           HI  S_INCOME  E_INCOME    S_POP    E_POP  DISTANCE  \\\n",
              "101    1.13  4146.133542     29260     30268  7830332  1106780       779   \n",
              "619    1.37  6865.767169     38813     31981  1653017  4549784      2428   \n",
              "616    1.58  2295.226844     23025     31981  2753373  4549784      1970   \n",
              "446    1.28  3262.148046     29260     21276  7830332  1481709      1038   \n",
              "522    1.52  2019.980267     32991     30916  8621121  2230831      2411   \n",
              "\n",
              "       PAX  SLOT_Free  GATE_Free  VACATION_Yes  SW_Yes  NEW_1  NEW_2  NEW_3  \n",
              "101   6614          0          1             0       0      0      0      1  \n",
              "619  17938          1          1             0       0      0      0      1  \n",
              "616   5190          0          1             0       0      0      0      1  \n",
              "446   6233          0          1             0       1      0      0      1  \n",
              "522  10125          0          1             0       0      0      0      1  "
            ]
          },
          "execution_count": 134,
          "metadata": {},
          "output_type": "execute_result"
        }
      ],
      "source": [
        "# Taking a look at valid_X values\n",
        "valid_X.head()"
      ]
    },
    {
      "cell_type": "markdown",
      "metadata": {
        "id": "FVlm-BK0A9pS"
      },
      "source": [
        "## Train the model"
      ]
    },
    {
      "cell_type": "code",
      "execution_count": null,
      "metadata": {
        "id": "n-EcoFpaA9pS",
        "outputId": "15dc426d-2d01-4e3b-d8ad-7efb19388d4e"
      },
      "outputs": [
        {
          "data": {
            "text/plain": [
              "LinearRegression()"
            ]
          },
          "execution_count": 137,
          "metadata": {},
          "output_type": "execute_result"
        }
      ],
      "source": [
        "car_lm = LinearRegression()\n",
        "car_lm.fit(train_X, train_y)"
      ]
    },
    {
      "cell_type": "markdown",
      "metadata": {
        "id": "O45aJKvfA9pS"
      },
      "source": [
        "## Print coefficients"
      ]
    },
    {
      "cell_type": "code",
      "execution_count": null,
      "metadata": {
        "id": "KtltSh1DA9pT",
        "outputId": "c9f8e5dd-562f-4c6d-87f9-fcb099087194"
      },
      "outputs": [
        {
          "name": "stdout",
          "output_type": "stream",
          "text": [
            "intercept  54.80361619672112\n",
            "       Predictor  coefficient\n",
            "0         COUPON   -12.497122\n",
            "1             HI     0.006792\n",
            "2       S_INCOME     0.000670\n",
            "3       E_INCOME     0.001244\n",
            "4          S_POP     0.000004\n",
            "5          E_POP     0.000004\n",
            "6       DISTANCE     0.077999\n",
            "7            PAX    -0.000917\n",
            "8      SLOT_Free   -13.758926\n",
            "9      GATE_Free   -21.456951\n",
            "10  VACATION_Yes   -35.238753\n",
            "11        SW_Yes   -42.150477\n",
            "12         NEW_1    -8.648719\n",
            "13         NEW_2     4.085492\n",
            "14         NEW_3    -9.077511\n",
            "\n",
            "Regression statistics\n",
            "\n",
            "                      Mean Error (ME) : -0.0000\n",
            "       Root Mean Squared Error (RMSE) : 34.7233\n",
            "            Mean Absolute Error (MAE) : 27.0587\n",
            "          Mean Percentage Error (MPE) : -4.4361\n",
            "Mean Absolute Percentage Error (MAPE) : 20.0523\n"
          ]
        }
      ],
      "source": [
        "print('intercept ', car_lm.intercept_)\n",
        "print(pd.DataFrame({'Predictor': X.columns, 'coefficient': car_lm.coef_}))\n",
        "\n",
        "# print performance measures\n",
        "regressionSummary(train_y, car_lm.predict(train_X))"
      ]
    },
    {
      "cell_type": "markdown",
      "metadata": {
        "id": "xjIVzzTnA9pT"
      },
      "source": [
        "3. Interpret the coefficients for DISTANCE, SW, and VACATION. You need to write one sentence for each coefficient, no code."
      ]
    },
    {
      "cell_type": "raw",
      "metadata": {
        "id": "0tN0qgtGA9pT"
      },
      "source": [
        "#Distance: For every 1 mile (assuming mile) flown, the fare increases by $0.077999 or about 8 cents.\n",
        "#SW: If a flight is operated by Southwest Airlines (assuming \"SW\" refers to Southwest Airlines), the fare is lower by approximately $42.15 compared to other airlines (or the reference category).\n",
        "#Vacation: If a flight is flown to a vacation destination, the fare is approximately $35.24 lower than a flight flown to a non-vacation destination"
      ]
    },
    {
      "cell_type": "markdown",
      "metadata": {
        "id": "ADD7f74QA9pT"
      },
      "source": [
        "## Test the model using the training set"
      ]
    },
    {
      "cell_type": "code",
      "execution_count": null,
      "metadata": {
        "id": "UwPK3h8YA9pT",
        "outputId": "fa1ef8d5-8453-423f-b582-b20cd5ac27a2"
      },
      "outputs": [
        {
          "name": "stdout",
          "output_type": "stream",
          "text": [
            "adjusted r2 :  0.7726178738542124\n",
            "AIC :  3828.2908204335517\n",
            "BIC :  3895.3629707798636\n"
          ]
        }
      ],
      "source": [
        "pred_y = car_lm.predict(train_X)\n",
        "\n",
        "print('adjusted r2 : ', adjusted_r2_score(train_y, pred_y, car_lm))\n",
        "print('AIC : ', AIC_score(train_y, pred_y, car_lm))\n",
        "print('BIC : ', BIC_score(train_y, pred_y, car_lm))"
      ]
    },
    {
      "cell_type": "markdown",
      "metadata": {
        "id": "EtFazpYyA9pT"
      },
      "source": [
        "## Test the model using validation set"
      ]
    },
    {
      "cell_type": "code",
      "execution_count": null,
      "metadata": {
        "scrolled": true,
        "id": "aWPXgobOA9pT",
        "outputId": "a60c2496-9bfa-449d-9b1c-50adade26607"
      },
      "outputs": [
        {
          "name": "stdout",
          "output_type": "stream",
          "text": [
            "      Predicted  Actual   Residual\n",
            "101  185.714268  240.88  55.165732\n",
            "619  305.424052  347.82  42.395948\n",
            "616  255.187013  279.83  24.642987\n",
            "446  146.719740  128.36 -18.359740\n",
            "522  301.863168  289.25 -12.613168\n",
            "525  230.557502  238.73   8.172498\n",
            "305  114.973694  140.90  25.926306\n",
            "41   203.645324  250.73  47.084676\n",
            "47   184.734484  230.87  46.135516\n",
            "605  161.030211  164.30   3.269789\n",
            "455   73.704230  118.17  44.465770\n",
            "523  309.989985  289.25 -20.739985\n",
            "339  108.475600  105.41  -3.065600\n",
            "69   145.883526  113.99 -31.893526\n",
            "473  275.722067  248.49 -27.232067\n",
            "460  192.751037  252.97  60.218963\n",
            "635  165.134677  124.87 -40.264677\n",
            "23   107.119197  106.77  -0.349197\n",
            "554   48.030569  106.65  58.619431\n",
            "13   144.725934  132.05 -12.675934\n"
          ]
        }
      ],
      "source": [
        "# Use predict() to make predictions on a new set. car_lm_pred are the predicted outcomes (after training the model \"car_lm\") for the validation data set for X.\n",
        "car_lm_pred = car_lm.predict(valid_X)\n",
        "\n",
        "result = pd.DataFrame({'Predicted': car_lm_pred, 'Actual': valid_y,\n",
        "                       'Residual': valid_y - car_lm_pred})\n",
        "#Print the first 20 predictions\n",
        "print(result.head(20))"
      ]
    },
    {
      "cell_type": "markdown",
      "metadata": {
        "id": "_1aJcV-UA9pT"
      },
      "source": [
        "## Print performance measures\n",
        "Compute common accuracy measures"
      ]
    },
    {
      "cell_type": "code",
      "execution_count": null,
      "metadata": {
        "id": "WbGfgplsA9pT",
        "outputId": "8e754ae6-60af-4302-faba-428d61193eaf"
      },
      "outputs": [
        {
          "name": "stdout",
          "output_type": "stream",
          "text": [
            "\n",
            "Regression statistics\n",
            "\n",
            "                      Mean Error (ME) : -1.7914\n",
            "       Root Mean Squared Error (RMSE) : 35.9631\n",
            "            Mean Absolute Error (MAE) : 28.4561\n",
            "          Mean Percentage Error (MPE) : -6.5771\n",
            "Mean Absolute Percentage Error (MAPE) : 21.5667\n"
          ]
        }
      ],
      "source": [
        "regressionSummary(valid_y, car_lm_pred)"
      ]
    },
    {
      "cell_type": "markdown",
      "metadata": {
        "id": "01JibMN0A9pT"
      },
      "source": [
        "4. Compare the performance between training and validation sets. Write below if you think overfitting is a concern and why."
      ]
    },
    {
      "cell_type": "raw",
      "metadata": {
        "id": "io396gv5A9pT"
      },
      "source": [
        "Below, we are comparing the regression statistics of both the training set and the validation sets. Overall, the difference between both data sets across all of the metrics are small. The validation set metrics did slightly worse than the training set, however, they are overall fairly similar, which means that the model is performing well to new data.\n",
        "\n",
        "Regression statistics: Training Set\n",
        "\n",
        "                      Mean Error (ME) : -0.0000\n",
        "       Root Mean Squared Error (RMSE) : 34.7233\n",
        "            Mean Absolute Error (MAE) : 27.0587\n",
        "          Mean Percentage Error (MPE) : -4.4361\n",
        "Mean Absolute Percentage Error (MAPE) : 20.0523\n",
        "\n",
        "\n",
        "Regression statistics: Validation Set\n",
        "\n",
        "                      Mean Error (ME) : -1.7914\n",
        "       Root Mean Squared Error (RMSE) : 35.9631\n",
        "            Mean Absolute Error (MAE) : 28.4561\n",
        "          Mean Percentage Error (MPE) : -6.5771\n",
        "Mean Absolute Percentage Error (MAPE) : 21.5667"
      ]
    },
    {
      "cell_type": "markdown",
      "metadata": {
        "id": "WVS_eGKQA9pT"
      },
      "source": [
        "## Determine the residuals and create a histogram"
      ]
    },
    {
      "cell_type": "code",
      "execution_count": null,
      "metadata": {
        "id": "Haf5s_CoA9pU",
        "outputId": "4c302b1f-dda6-49a1-f36c-97162b9c5d78"
      },
      "outputs": [
        {
          "name": "stdout",
          "output_type": "stream",
          "text": [
            "1.0\n"
          ]
        },
        {
          "data": {
            "image/png": "[encoded data removed]",
            "text/plain": [
              "<Figure size 432x288 with 1 Axes>"
            ]
          },
          "metadata": {
            "needs_background": "light"
          },
          "output_type": "display_data"
        }
      ],
      "source": [
        "car_lm_pred = car_lm.predict(valid_X)\n",
        "all_residuals = valid_y - car_lm_pred\n",
        "\n",
        "# Determine the percentage of datapoints with a residual in [-1406, 1406] = approx. 75\\%\n",
        "print(len(all_residuals[(all_residuals > -1406) & (all_residuals < 1406)]) / len(all_residuals))\n",
        "\n",
        "ax = pd.DataFrame({'Residuals': all_residuals}).hist(bins=25)\n",
        "\n",
        "plt.tight_layout()\n",
        "plt.show()"
      ]
    },
    {
      "cell_type": "markdown",
      "metadata": {
        "id": "m1smE1ljA9pU"
      },
      "source": [
        "5. What does the above chart show about the residuals? Are there any problems?"
      ]
    },
    {
      "cell_type": "raw",
      "metadata": {
        "id": "t7_rqu6NA9pV"
      },
      "source": [
        "The histogram is in a similar shape to the bell curve. This is a good thing because a majority of the residuals are around 0."
      ]
    },
    {
      "cell_type": "markdown",
      "metadata": {
        "id": "jz8gQ7IxA9pV"
      },
      "source": [
        "## Exhaustive search\n",
        "Run an exhaustive search."
      ]
    },
    {
      "cell_type": "code",
      "execution_count": null,
      "metadata": {
        "id": "OABAuIxeA9pV",
        "outputId": "2811deea-4b85-4a1f-c2c1-60bc1871312d"
      },
      "outputs": [
        {
          "name": "stdout",
          "output_type": "stream",
          "text": [
            "        n     r2adj          AIC  COUPON  DISTANCE  E_INCOME  E_POP  GATE_Free     HI  NEW_1  \\\n",
            "0       1  0.250372  4270.335114    True     False     False  False      False  False  False   \n",
            "1       1 -0.001923  4381.153100   False     False     False  False      False   True  False   \n",
            "2       1  0.029816  4368.856460   False     False     False  False      False  False  False   \n",
            "3       1  0.096402  4341.695958   False     False      True  False      False  False  False   \n",
            "4       1  0.017039  4373.854535   False     False     False  False      False  False  False   \n",
            "...    ..       ...          ...     ...       ...       ...    ...        ...    ...    ...   \n",
            "32762  14  0.768789  3833.712233    True      True     False   True       True   True   True   \n",
            "32763  14  0.772589  3827.381452    True      True      True   True       True   True   True   \n",
            "32764  14  0.756348  3853.732821    True      True      True   True       True  False   True   \n",
            "32765  14  0.772842  3826.955892   False      True      True   True       True   True   True   \n",
            "32766  15  0.772618  3828.290820    True      True      True   True       True   True   True   \n",
            "\n",
            "       NEW_2  NEW_3    PAX  SLOT_Free  SW_Yes  S_INCOME  S_POP  VACATION_Yes  \n",
            "0      False  False  False      False   False     False  False         False  \n",
            "1      False  False  False      False   False     False  False         False  \n",
            "2      False  False  False      False   False      True  False         False  \n",
            "3      False  False  False      False   False     False  False         False  \n",
            "4      False  False  False      False   False     False   True         False  \n",
            "...      ...    ...    ...        ...     ...       ...    ...           ...  \n",
            "32762   True   True   True       True    True      True   True          True  \n",
            "32763   True   True   True       True    True     False   True          True  \n",
            "32764   True   True   True       True    True      True   True          True  \n",
            "32765   True   True   True       True    True      True   True          True  \n",
            "32766   True   True   True       True    True      True   True          True  \n",
            "\n",
            "[32767 rows x 18 columns]\n"
          ]
        }
      ],
      "source": [
        "def train_model(variables):\n",
        "    model = LinearRegression()\n",
        "    model.fit(train_X[variables], train_y)\n",
        "    return model\n",
        "\n",
        "def score_model(model, variables):\n",
        "    pred_y = model.predict(train_X[variables])\n",
        "    # we negate as score is optimized to be as low as possible\n",
        "    return -adjusted_r2_score(train_y, pred_y, model)\n",
        "\n",
        "allVariables = train_X.columns\n",
        "results = exhaustive_search(allVariables, train_model, score_model)\n",
        "\n",
        "data = []\n",
        "for result in results:\n",
        "    model = result['model']\n",
        "    variables = result['variables']\n",
        "    AIC = AIC_score(train_y, model.predict(train_X[variables]), model)\n",
        "\n",
        "    d = {'n': result['n'], 'r2adj': -result['score'], 'AIC': AIC}\n",
        "    d.update({var: var in result['variables'] for var in allVariables})\n",
        "    data.append(d)\n",
        "pd.set_option('display.width', 100)\n",
        "print(pd.DataFrame(data, columns=('n', 'r2adj', 'AIC') + tuple(sorted(allVariables))))\n",
        "pd.reset_option('display.width')"
      ]
    },
    {
      "cell_type": "code",
      "execution_count": null,
      "metadata": {
        "id": "DBdTTjNaA9pW"
      },
      "outputs": [],
      "source": [
        "from itertools import chain, combinations\n",
        "\n",
        "def exhaustive_search(all_variables, train_function, score_function):\n",
        "    subsets = list(chain(*[combinations(all_variables, i+1) for i, _ in enumerate(all_variables)]))\n",
        "    results = []\n",
        "    for subset in subsets:\n",
        "        subset = list(subset)\n",
        "        model = train_function(subset)\n",
        "        score = score_function(model, subset)\n",
        "        results.append({'model': model, 'variables': subset, 'n': len(subset), 'score': score})\n",
        "    return results\n"
      ]
    },
    {
      "cell_type": "markdown",
      "metadata": {
        "id": "ROYgqwIrA9pW"
      },
      "source": [
        "6. Based on the exhaustive search, which model is the best?  Why?"
      ]
    },
    {
      "cell_type": "raw",
      "metadata": {
        "id": "jc-Dah2gA9pW"
      },
      "source": []
    },
    {
      "cell_type": "markdown",
      "metadata": {
        "id": "UVXt_7gaA9pW"
      },
      "source": [
        "## Backward elimination"
      ]
    },
    {
      "cell_type": "code",
      "execution_count": null,
      "metadata": {
        "id": "sNDPVT3GA9pW",
        "outputId": "fbdf62a8-2fea-4278-d30d-2ac233c612fc"
      },
      "outputs": [
        {
          "ename": "NameError",
          "evalue": "name 'backward_elimination' is not defined",
          "output_type": "error",
          "traceback": [
            "\u001b[0;31m---------------------------------------------------------------------------\u001b[0m",
            "\u001b[0;31mNameError\u001b[0m                                 Traceback (most recent call last)",
            "Input \u001b[0;32mIn [8]\u001b[0m, in \u001b[0;36m<cell line: 9>\u001b[0;34m()\u001b[0m\n\u001b[1;32m      6\u001b[0m \u001b[38;5;28;01mdef\u001b[39;00m \u001b[38;5;21mscore_model\u001b[39m(model, variables):\n\u001b[1;32m      7\u001b[0m     \u001b[38;5;28;01mreturn\u001b[39;00m AIC_score(train_y, model\u001b[38;5;241m.\u001b[39mpredict(train_X[variables]), model)\n\u001b[0;32m----> 9\u001b[0m best_model, best_variables \u001b[38;5;241m=\u001b[39m \u001b[43mbackward_elimination\u001b[49m(train_X\u001b[38;5;241m.\u001b[39mcolumns, train_model, score_model, verbose\u001b[38;5;241m=\u001b[39m\u001b[38;5;28;01mTrue\u001b[39;00m)\n\u001b[1;32m     11\u001b[0m \u001b[38;5;28mprint\u001b[39m(best_variables)\n",
            "\u001b[0;31mNameError\u001b[0m: name 'backward_elimination' is not defined"
          ]
        }
      ],
      "source": [
        "def train_model(variables):\n",
        "    model = LinearRegression()\n",
        "    model.fit(train_X[variables], train_y)\n",
        "    return model\n",
        "\n",
        "def score_model(model, variables):\n",
        "    return AIC_score(train_y, model.predict(train_X[variables]), model)\n",
        "\n",
        "best_model, best_variables = backward_elimination(train_X.columns, train_model, score_model, verbose=True)\n",
        "\n",
        "print(best_variables)"
      ]
    },
    {
      "cell_type": "code",
      "execution_count": null,
      "metadata": {
        "id": "af5AcIGgA9pW",
        "outputId": "4c6b0509-5549-4647-8d03-a39ae75e0847"
      },
      "outputs": [
        {
          "name": "stdout",
          "output_type": "stream",
          "text": [
            "\n",
            "Regression statistics\n",
            "\n",
            "                      Mean Error (ME) : -1.8591\n",
            "       Root Mean Squared Error (RMSE) : 36.1129\n",
            "            Mean Absolute Error (MAE) : 28.5252\n",
            "          Mean Percentage Error (MPE) : -6.7084\n",
            "Mean Absolute Percentage Error (MAPE) : 21.7198\n"
          ]
        }
      ],
      "source": [
        "regressionSummary(valid_y, best_model.predict(valid_X[best_variables]))"
      ]
    },
    {
      "cell_type": "markdown",
      "metadata": {
        "id": "2Bq5EXFlA9pW"
      },
      "source": [
        "7. Write the components of the final model from backward elimination below. Compare the best model with the one generated by exhaustive search. Is there any difference? Why?"
      ]
    },
    {
      "cell_type": "raw",
      "metadata": {
        "id": "DErBgM9uA9pW"
      },
      "source": []
    },
    {
      "cell_type": "markdown",
      "metadata": {
        "id": "xZLDxWydA9pW"
      },
      "source": [
        "## Forward selection"
      ]
    },
    {
      "cell_type": "code",
      "execution_count": null,
      "metadata": {
        "id": "0kZKH-I2A9pW",
        "outputId": "5d00d1dd-348b-4227-c942-800183047967"
      },
      "outputs": [
        {
          "name": "stdout",
          "output_type": "stream",
          "text": [
            "Variables: COUPON, HI, S_INCOME, E_INCOME, S_POP, E_POP, DISTANCE, PAX, SLOT_Free, GATE_Free, VACATION_Yes, SW_Yes, NEW_1, NEW_2, NEW_3\n",
            "Start: score=4379.42, constant\n",
            "Step: score=4149.88, add DISTANCE\n",
            "Step: score=4025.89, add SW_Yes\n",
            "Step: score=3913.59, add VACATION_Yes\n",
            "Step: score=3890.27, add HI\n",
            "Step: score=3873.33, add GATE_Free\n",
            "Step: score=3852.81, add SLOT_Free\n",
            "Step: score=3850.30, add PAX\n",
            "Step: score=3844.58, add E_POP\n",
            "Step: score=3826.43, add S_POP\n",
            "Step: score=3821.88, add E_INCOME\n",
            "Step: score=3821.88, add None\n",
            "['DISTANCE', 'SW_Yes', 'VACATION_Yes', 'HI', 'GATE_Free', 'SLOT_Free', 'PAX', 'E_POP', 'S_POP', 'E_INCOME']\n"
          ]
        }
      ],
      "source": [
        "# The initial model is the constant model - this requires special handling\n",
        "# in train_model and score_model\n",
        "def train_model(variables):\n",
        "    if len(variables) == 0:\n",
        "        return None\n",
        "    model = LinearRegression()\n",
        "    model.fit(train_X[variables], train_y)\n",
        "    return model\n",
        "\n",
        "def score_model(model, variables):\n",
        "    if len(variables) == 0:\n",
        "        return AIC_score(train_y, [train_y.mean()] * len(train_y), model, df=1)\n",
        "    return AIC_score(train_y, model.predict(train_X[variables]), model)\n",
        "\n",
        "best_model, best_variables = forward_selection(train_X.columns, train_model, score_model, verbose=True)\n",
        "\n",
        "print(best_variables)"
      ]
    },
    {
      "cell_type": "markdown",
      "metadata": {
        "id": "51MTyN88A9pW"
      },
      "source": [
        "8. Write the components of the final model from forward selection below. Compare the best model with those generated by backward elimination and exhaustive search. Is there any difference? Why?"
      ]
    },
    {
      "cell_type": "raw",
      "metadata": {
        "id": "Nqezr4qpA9pW"
      },
      "source": []
    },
    {
      "cell_type": "code",
      "execution_count": null,
      "metadata": {
        "id": "SqAbzVk9A9pW",
        "outputId": "f6749027-4245-46ab-93b8-23174b0b1eb5"
      },
      "outputs": [
        {
          "name": "stdout",
          "output_type": "stream",
          "text": [
            "Variables: COUPON, HI, S_INCOME, E_INCOME, S_POP, E_POP, DISTANCE, PAX, SLOT_Free, GATE_Free, VACATION_Yes, SW_Yes, NEW_1, NEW_2, NEW_3\n",
            "Start: score=4379.42, constant\n",
            "Step: score=4149.88, add DISTANCE\n",
            "Step: score=4025.89, add SW_Yes\n",
            "Step: score=3913.59, add VACATION_Yes\n",
            "Step: score=3890.27, add HI\n",
            "Step: score=3873.33, add GATE_Free\n",
            "Step: score=3852.81, add SLOT_Free\n",
            "Step: score=3850.30, add PAX\n",
            "Step: score=3844.58, add E_POP\n",
            "Step: score=3826.43, add S_POP\n",
            "Step: score=3821.88, add E_INCOME\n",
            "Step: score=3821.88, unchanged None\n",
            "['DISTANCE', 'SW_Yes', 'VACATION_Yes', 'HI', 'GATE_Free', 'SLOT_Free', 'PAX', 'E_POP', 'S_POP', 'E_INCOME']\n"
          ]
        }
      ],
      "source": [
        "best_model, best_variables = stepwise_selection(train_X.columns, train_model, score_model, verbose=True)\n",
        "\n",
        "print(best_variables)"
      ]
    },
    {
      "cell_type": "markdown",
      "metadata": {
        "id": "r4dVzGPNA9pX"
      },
      "source": [
        "9. Write the components of the final model from stepwise selection below. Compare the best model with those generated by forward selection, backward elimination, and exhaustive search. Is there any difference? Why?"
      ]
    },
    {
      "cell_type": "raw",
      "metadata": {
        "id": "oUJjUQmlA9pX"
      },
      "source": []
    },
    {
      "cell_type": "code",
      "execution_count": null,
      "metadata": {
        "id": "njUtvu5PA9pX"
      },
      "outputs": [],
      "source": []
    },
    {
      "cell_type": "code",
      "execution_count": null,
      "metadata": {
        "id": "lWV589KxA9pX"
      },
      "outputs": [],
      "source": []
    },
    {
      "cell_type": "code",
      "execution_count": null,
      "metadata": {
        "id": "CkL-CCUTA9pX"
      },
      "outputs": [],
      "source": []
    }
  ],
  "metadata": {
    "kernelspec": {
      "display_name": "anaconda-2022.05-py39",
      "language": "python",
      "name": "conda-env-anaconda-2022.05-py39-py"
    },
    "language_info": {
      "codemirror_mode": {
        "name": "ipython",
        "version": 3
      },
      "file_extension": ".py",
      "mimetype": "text/x-python",
      "name": "python",
      "nbconvert_exporter": "python",
      "pygments_lexer": "ipython3",
      "version": "3.9.12"
    },
    "colab": {
      "provenance": [],
      "include_colab_link": true
    }
  },
  "nbformat": 4,
  "nbformat_minor": 0
}